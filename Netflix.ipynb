{
 "cells": [
  {
   "cell_type": "code",
   "execution_count": 1,
   "metadata": {},
   "outputs": [],
   "source": [
    "\n",
    "# for some basic operations\n",
    "import numpy as np \n",
    "import pandas as pd \n",
    "import plotly as py\n",
    "\n",
    "import plotly.graph_objects as go\n",
    "from plotly.offline import init_notebook_mode, iplot\n",
    "\n",
    "# for visualizations\n",
    "import matplotlib.pyplot as plt\n",
    "import seaborn as sns\n",
    "import folium\n",
    "import squarify\n",
    "%matplotlib inline \n",
    "\n",
    "# for providing path\n",
    "import os"
   ]
  },
  {
   "cell_type": "code",
   "execution_count": 2,
   "metadata": {},
   "outputs": [],
   "source": [
    "df = pd.read_csv(\"/Users/AlokMadan/Downloads/netflix_titles.csv\")"
   ]
  },
  {
   "cell_type": "code",
   "execution_count": 3,
   "metadata": {},
   "outputs": [
    {
     "output_type": "execute_result",
     "data": {
      "text/plain": "    show_id     type                                    title  \\\n0  81145628    Movie  Norm of the North: King Sized Adventure   \n1  80117401    Movie               Jandino: Whatever it Takes   \n2  70234439  TV Show                       Transformers Prime   \n3  80058654  TV Show         Transformers: Robots in Disguise   \n4  80125979    Movie                             #realityhigh   \n\n                   director  \\\n0  Richard Finn, Tim Maltby   \n1                       NaN   \n2                       NaN   \n3                       NaN   \n4          Fernando Lebrija   \n\n                                                cast  \\\n0  Alan Marriott, Andrew Toth, Brian Dobson, Cole...   \n1                                   Jandino Asporaat   \n2  Peter Cullen, Sumalee Montano, Frank Welker, J...   \n3  Will Friedle, Darren Criss, Constance Zimmer, ...   \n4  Nesta Cooper, Kate Walsh, John Michael Higgins...   \n\n                                    country date_added  release_year  \\\n0  United States, India, South Korea, China 2019-09-09          2019   \n1                            United Kingdom 2016-09-09          2016   \n2                             United States 2018-09-08          2013   \n3                             United States 2018-09-08          2016   \n4                             United States 2017-09-08          2017   \n\n     rating duration                           listed_in  \\\n0     TV-PG       90  Children & Family Movies, Comedies   \n1     TV-MA       94                     Stand-Up Comedy   \n2  TV-Y7-FV                                     Kids' TV   \n3     TV-Y7                                     Kids' TV   \n4     TV-14       99                            Comedies   \n\n                                         description  year_added  month_added  \\\n0  Before planning an awesome wedding for his gra...      2019.0          9.0   \n1  Jandino Asporaat riffs on the challenges of ra...      2016.0          9.0   \n2  With the help of three human allies, the Autob...      2018.0          9.0   \n3  When a prison ship crash unleashes hundreds of...      2018.0          9.0   \n4  When nerdy high schooler Dani finally attracts...      2017.0          9.0   \n\n  season_count  \n0               \n1               \n2            1  \n3            1  \n4               ",
      "text/html": "<div>\n<style scoped>\n    .dataframe tbody tr th:only-of-type {\n        vertical-align: middle;\n    }\n\n    .dataframe tbody tr th {\n        vertical-align: top;\n    }\n\n    .dataframe thead th {\n        text-align: right;\n    }\n</style>\n<table border=\"1\" class=\"dataframe\">\n  <thead>\n    <tr style=\"text-align: right;\">\n      <th></th>\n      <th>show_id</th>\n      <th>type</th>\n      <th>title</th>\n      <th>director</th>\n      <th>cast</th>\n      <th>country</th>\n      <th>date_added</th>\n      <th>release_year</th>\n      <th>rating</th>\n      <th>duration</th>\n      <th>listed_in</th>\n      <th>description</th>\n      <th>year_added</th>\n      <th>month_added</th>\n      <th>season_count</th>\n    </tr>\n  </thead>\n  <tbody>\n    <tr>\n      <th>0</th>\n      <td>81145628</td>\n      <td>Movie</td>\n      <td>Norm of the North: King Sized Adventure</td>\n      <td>Richard Finn, Tim Maltby</td>\n      <td>Alan Marriott, Andrew Toth, Brian Dobson, Cole...</td>\n      <td>United States, India, South Korea, China</td>\n      <td>2019-09-09</td>\n      <td>2019</td>\n      <td>TV-PG</td>\n      <td>90</td>\n      <td>Children &amp; Family Movies, Comedies</td>\n      <td>Before planning an awesome wedding for his gra...</td>\n      <td>2019.0</td>\n      <td>9.0</td>\n      <td></td>\n    </tr>\n    <tr>\n      <th>1</th>\n      <td>80117401</td>\n      <td>Movie</td>\n      <td>Jandino: Whatever it Takes</td>\n      <td>NaN</td>\n      <td>Jandino Asporaat</td>\n      <td>United Kingdom</td>\n      <td>2016-09-09</td>\n      <td>2016</td>\n      <td>TV-MA</td>\n      <td>94</td>\n      <td>Stand-Up Comedy</td>\n      <td>Jandino Asporaat riffs on the challenges of ra...</td>\n      <td>2016.0</td>\n      <td>9.0</td>\n      <td></td>\n    </tr>\n    <tr>\n      <th>2</th>\n      <td>70234439</td>\n      <td>TV Show</td>\n      <td>Transformers Prime</td>\n      <td>NaN</td>\n      <td>Peter Cullen, Sumalee Montano, Frank Welker, J...</td>\n      <td>United States</td>\n      <td>2018-09-08</td>\n      <td>2013</td>\n      <td>TV-Y7-FV</td>\n      <td></td>\n      <td>Kids' TV</td>\n      <td>With the help of three human allies, the Autob...</td>\n      <td>2018.0</td>\n      <td>9.0</td>\n      <td>1</td>\n    </tr>\n    <tr>\n      <th>3</th>\n      <td>80058654</td>\n      <td>TV Show</td>\n      <td>Transformers: Robots in Disguise</td>\n      <td>NaN</td>\n      <td>Will Friedle, Darren Criss, Constance Zimmer, ...</td>\n      <td>United States</td>\n      <td>2018-09-08</td>\n      <td>2016</td>\n      <td>TV-Y7</td>\n      <td></td>\n      <td>Kids' TV</td>\n      <td>When a prison ship crash unleashes hundreds of...</td>\n      <td>2018.0</td>\n      <td>9.0</td>\n      <td>1</td>\n    </tr>\n    <tr>\n      <th>4</th>\n      <td>80125979</td>\n      <td>Movie</td>\n      <td>#realityhigh</td>\n      <td>Fernando Lebrija</td>\n      <td>Nesta Cooper, Kate Walsh, John Michael Higgins...</td>\n      <td>United States</td>\n      <td>2017-09-08</td>\n      <td>2017</td>\n      <td>TV-14</td>\n      <td>99</td>\n      <td>Comedies</td>\n      <td>When nerdy high schooler Dani finally attracts...</td>\n      <td>2017.0</td>\n      <td>9.0</td>\n      <td></td>\n    </tr>\n  </tbody>\n</table>\n</div>"
     },
     "metadata": {},
     "execution_count": 3
    }
   ],
   "source": [
    "df[\"date_added\"] = pd.to_datetime(df['date_added'])\n",
    "df['year_added'] = df['date_added'].dt.year\n",
    "df['month_added'] = df['date_added'].dt.month\n",
    "\n",
    "df['season_count'] = df.apply(lambda x : x['duration'].split(\" \")[0] if \"Season\" in x['duration'] else \"\", axis = 1)\n",
    "df['duration'] = df.apply(lambda x : x['duration'].split(\" \")[0] if \"Season\" not in x['duration'] else \"\", axis = 1)\n",
    "df.head()"
   ]
  },
  {
   "cell_type": "code",
   "execution_count": 4,
   "metadata": {},
   "outputs": [
    {
     "output_type": "execute_result",
     "data": {
      "text/plain": "            show_id  release_year   year_added  month_added\ncount  6.234000e+03    6234.00000  6223.000000  6223.000000\nmean   7.670368e+07    2013.35932  2017.983288     6.837538\nstd    1.094296e+07       8.81162     1.204851     3.621890\nmin    2.477470e+05    1925.00000  2008.000000     1.000000\n25%    8.003580e+07    2013.00000  2017.000000     4.000000\n50%    8.016337e+07    2016.00000  2018.000000     7.000000\n75%    8.024489e+07    2018.00000  2019.000000    10.000000\nmax    8.123573e+07    2020.00000  2020.000000    12.000000",
      "text/html": "<div>\n<style scoped>\n    .dataframe tbody tr th:only-of-type {\n        vertical-align: middle;\n    }\n\n    .dataframe tbody tr th {\n        vertical-align: top;\n    }\n\n    .dataframe thead th {\n        text-align: right;\n    }\n</style>\n<table border=\"1\" class=\"dataframe\">\n  <thead>\n    <tr style=\"text-align: right;\">\n      <th></th>\n      <th>show_id</th>\n      <th>release_year</th>\n      <th>year_added</th>\n      <th>month_added</th>\n    </tr>\n  </thead>\n  <tbody>\n    <tr>\n      <th>count</th>\n      <td>6.234000e+03</td>\n      <td>6234.00000</td>\n      <td>6223.000000</td>\n      <td>6223.000000</td>\n    </tr>\n    <tr>\n      <th>mean</th>\n      <td>7.670368e+07</td>\n      <td>2013.35932</td>\n      <td>2017.983288</td>\n      <td>6.837538</td>\n    </tr>\n    <tr>\n      <th>std</th>\n      <td>1.094296e+07</td>\n      <td>8.81162</td>\n      <td>1.204851</td>\n      <td>3.621890</td>\n    </tr>\n    <tr>\n      <th>min</th>\n      <td>2.477470e+05</td>\n      <td>1925.00000</td>\n      <td>2008.000000</td>\n      <td>1.000000</td>\n    </tr>\n    <tr>\n      <th>25%</th>\n      <td>8.003580e+07</td>\n      <td>2013.00000</td>\n      <td>2017.000000</td>\n      <td>4.000000</td>\n    </tr>\n    <tr>\n      <th>50%</th>\n      <td>8.016337e+07</td>\n      <td>2016.00000</td>\n      <td>2018.000000</td>\n      <td>7.000000</td>\n    </tr>\n    <tr>\n      <th>75%</th>\n      <td>8.024489e+07</td>\n      <td>2018.00000</td>\n      <td>2019.000000</td>\n      <td>10.000000</td>\n    </tr>\n    <tr>\n      <th>max</th>\n      <td>8.123573e+07</td>\n      <td>2020.00000</td>\n      <td>2020.000000</td>\n      <td>12.000000</td>\n    </tr>\n  </tbody>\n</table>\n</div>"
     },
     "metadata": {},
     "execution_count": 4
    }
   ],
   "source": [
    "df.describe()"
   ]
  },
  {
   "cell_type": "code",
   "execution_count": 5,
   "metadata": {},
   "outputs": [
    {
     "output_type": "execute_result",
     "data": {
      "text/plain": "['show_id',\n 'type',\n 'title',\n 'director',\n 'cast',\n 'country',\n 'date_added',\n 'release_year',\n 'rating',\n 'duration',\n 'listed_in',\n 'description',\n 'year_added',\n 'month_added',\n 'season_count']"
     },
     "metadata": {},
     "execution_count": 5
    }
   ],
   "source": [
    "list(df)"
   ]
  },
  {
   "cell_type": "code",
   "execution_count": 6,
   "metadata": {},
   "outputs": [],
   "source": [
    "df['rating'].replace(np.nan, 'TV-MA',inplace  = True)"
   ]
  },
  {
   "cell_type": "code",
   "execution_count": null,
   "metadata": {},
   "outputs": [],
   "source": [
    "# Content Type Split"
   ]
  },
  {
   "cell_type": "code",
   "execution_count": 7,
   "metadata": {},
   "outputs": [
    {
     "output_type": "display_data",
     "data": {
      "text/plain": "<Figure size 1080x576 with 1 Axes>",
      "image/svg+xml": "<?xml version=\"1.0\" encoding=\"utf-8\" standalone=\"no\"?>\n<!DOCTYPE svg PUBLIC \"-//W3C//DTD SVG 1.1//EN\"\n  \"http://www.w3.org/Graphics/SVG/1.1/DTD/svg11.dtd\">\n<!-- Created with matplotlib (https://matplotlib.org/) -->\n<svg height=\"469.595625pt\" version=\"1.1\" viewBox=\"0 0 463.339844 469.595625\" width=\"463.339844pt\" xmlns=\"http://www.w3.org/2000/svg\" xmlns:xlink=\"http://www.w3.org/1999/xlink\">\n <defs>\n  <style type=\"text/css\">\n*{stroke-linecap:butt;stroke-linejoin:round;}\n  </style>\n </defs>\n <g id=\"figure_1\">\n  <g id=\"patch_1\">\n   <path d=\"M 0 469.595625 \nL 463.339844 469.595625 \nL 463.339844 0 \nL 0 0 \nz\n\" style=\"fill:#ffffff;\"/>\n  </g>\n  <g id=\"axes_1\">\n   <g id=\"matplotlib.axis_1\"/>\n   <g id=\"matplotlib.axis_2\">\n    <g id=\"text_1\">\n     <!-- type -->\n     <defs>\n      <path d=\"M 25.78125 7.859375 \nL 27.046875 0.09375 \nQ 23.34375 -0.6875 20.40625 -0.6875 \nQ 15.625 -0.6875 12.984375 0.828125 \nQ 10.359375 2.34375 9.28125 4.8125 \nQ 8.203125 7.28125 8.203125 15.1875 \nL 8.203125 45.015625 \nL 1.765625 45.015625 \nL 1.765625 51.859375 \nL 8.203125 51.859375 \nL 8.203125 64.703125 \nL 16.9375 69.96875 \nL 16.9375 51.859375 \nL 25.78125 51.859375 \nL 25.78125 45.015625 \nL 16.9375 45.015625 \nL 16.9375 14.703125 \nQ 16.9375 10.9375 17.40625 9.859375 \nQ 17.875 8.796875 18.921875 8.15625 \nQ 19.96875 7.515625 21.921875 7.515625 \nQ 23.390625 7.515625 25.78125 7.859375 \nz\n\" id=\"ArialMT-116\"/>\n      <path d=\"M 6.203125 -19.96875 \nL 5.21875 -11.71875 \nQ 8.109375 -12.5 10.25 -12.5 \nQ 13.1875 -12.5 14.9375 -11.515625 \nQ 16.703125 -10.546875 17.828125 -8.796875 \nQ 18.65625 -7.46875 20.515625 -2.25 \nQ 20.75 -1.515625 21.296875 -0.09375 \nL 1.609375 51.859375 \nL 11.078125 51.859375 \nL 21.875 21.828125 \nQ 23.96875 16.109375 25.640625 9.8125 \nQ 27.15625 15.875 29.25 21.625 \nL 40.328125 51.859375 \nL 49.125 51.859375 \nL 29.390625 -0.875 \nQ 26.21875 -9.421875 24.46875 -12.640625 \nQ 22.125 -17 19.09375 -19.015625 \nQ 16.0625 -21.046875 11.859375 -21.046875 \nQ 9.328125 -21.046875 6.203125 -19.96875 \nz\n\" id=\"ArialMT-121\"/>\n      <path d=\"M 6.59375 -19.875 \nL 6.59375 51.859375 \nL 14.59375 51.859375 \nL 14.59375 45.125 \nQ 17.4375 49.078125 21 51.046875 \nQ 24.5625 53.03125 29.640625 53.03125 \nQ 36.28125 53.03125 41.359375 49.609375 \nQ 46.4375 46.1875 49.015625 39.953125 \nQ 51.609375 33.734375 51.609375 26.3125 \nQ 51.609375 18.359375 48.75 11.984375 \nQ 45.90625 5.609375 40.453125 2.21875 \nQ 35.015625 -1.171875 29 -1.171875 \nQ 24.609375 -1.171875 21.109375 0.6875 \nQ 17.625 2.546875 15.375 5.375 \nL 15.375 -19.875 \nz\nM 14.546875 25.640625 \nQ 14.546875 15.625 18.59375 10.84375 \nQ 22.65625 6.0625 28.421875 6.0625 \nQ 34.28125 6.0625 38.453125 11.015625 \nQ 42.625 15.96875 42.625 26.375 \nQ 42.625 36.28125 38.546875 41.203125 \nQ 34.46875 46.140625 28.8125 46.140625 \nQ 23.1875 46.140625 18.859375 40.890625 \nQ 14.546875 35.640625 14.546875 25.640625 \nz\n\" id=\"ArialMT-112\"/>\n      <path d=\"M 42.09375 16.703125 \nL 51.171875 15.578125 \nQ 49.03125 7.625 43.21875 3.21875 \nQ 37.40625 -1.171875 28.375 -1.171875 \nQ 17 -1.171875 10.328125 5.828125 \nQ 3.65625 12.84375 3.65625 25.484375 \nQ 3.65625 38.578125 10.390625 45.796875 \nQ 17.140625 53.03125 27.875 53.03125 \nQ 38.28125 53.03125 44.875 45.953125 \nQ 51.46875 38.875 51.46875 26.03125 \nQ 51.46875 25.25 51.421875 23.6875 \nL 12.75 23.6875 \nQ 13.234375 15.140625 17.578125 10.59375 \nQ 21.921875 6.0625 28.421875 6.0625 \nQ 33.25 6.0625 36.671875 8.59375 \nQ 40.09375 11.140625 42.09375 16.703125 \nz\nM 13.234375 30.90625 \nL 42.1875 30.90625 \nQ 41.609375 37.453125 38.875 40.71875 \nQ 34.671875 45.796875 27.984375 45.796875 \nQ 21.921875 45.796875 17.796875 41.75 \nQ 13.671875 37.703125 13.234375 30.90625 \nz\n\" id=\"ArialMT-101\"/>\n     </defs>\n     <g style=\"fill:#262626;\" transform=\"translate(14.944688 255.350625)rotate(-90)scale(0.11 -0.11)\">\n      <use xlink:href=\"#ArialMT-116\"/>\n      <use x=\"27.783203\" xlink:href=\"#ArialMT-121\"/>\n      <use x=\"77.783203\" xlink:href=\"#ArialMT-112\"/>\n      <use x=\"133.398438\" xlink:href=\"#ArialMT-101\"/>\n     </g>\n    </g>\n   </g>\n   <g id=\"patch_2\">\n    <path d=\"M 412.651844 244.955625 \nC 412.651844 213.612826 404.180791 182.845035 388.138131 155.919135 \nC 372.095471 128.993235 349.069834 106.897178 321.50605 91.977096 \nC 293.942267 77.057013 262.851695 69.860344 231.53549 71.151222 \nC 200.219286 72.442101 169.826488 82.173162 143.584165 99.311175 \nC 117.341841 116.449187 96.212862 140.365332 82.440676 168.520223 \nC 68.668489 196.675114 62.758417 228.035707 65.337983 259.272174 \nC 67.917549 290.508641 78.892106 320.474869 97.096388 345.989083 \nC 115.30067 371.503297 140.066736 391.629343 168.764957 404.230262 \nL 238.699844 244.955625 \nL 412.651844 244.955625 \nz\n\" style=\"fill:#4c72b0;\"/>\n   </g>\n   <g id=\"patch_3\">\n    <path d=\"M 168.764957 404.230262 \nC 195.239791 415.854928 224.199953 420.6972 253.016384 418.317486 \nC 281.832815 415.937773 309.6063 406.410332 333.815509 390.600084 \nC 358.024718 374.789836 377.914204 353.190138 391.678362 327.761853 \nC 405.442519 302.333568 412.651838 273.870182 412.651844 244.955658 \nL 238.699844 244.955625 \nL 168.764957 404.230262 \nz\n\" style=\"fill:#55a868;\"/>\n   </g>\n   <g id=\"text_2\">\n    <!-- Movie -->\n    <defs>\n     <path d=\"M 7.421875 0 \nL 7.421875 71.578125 \nL 21.6875 71.578125 \nL 38.625 20.90625 \nQ 40.96875 13.8125 42.046875 10.296875 \nQ 43.265625 14.203125 45.84375 21.78125 \nL 62.984375 71.578125 \nL 75.734375 71.578125 \nL 75.734375 0 \nL 66.609375 0 \nL 66.609375 59.90625 \nL 45.796875 0 \nL 37.25 0 \nL 16.546875 60.9375 \nL 16.546875 0 \nz\n\" id=\"ArialMT-77\"/>\n     <path d=\"M 3.328125 25.921875 \nQ 3.328125 40.328125 11.328125 47.265625 \nQ 18.015625 53.03125 27.640625 53.03125 \nQ 38.328125 53.03125 45.109375 46.015625 \nQ 51.90625 39.015625 51.90625 26.65625 \nQ 51.90625 16.65625 48.90625 10.90625 \nQ 45.90625 5.171875 40.15625 2 \nQ 34.421875 -1.171875 27.640625 -1.171875 \nQ 16.75 -1.171875 10.03125 5.8125 \nQ 3.328125 12.796875 3.328125 25.921875 \nz\nM 12.359375 25.921875 \nQ 12.359375 15.96875 16.703125 11.015625 \nQ 21.046875 6.0625 27.640625 6.0625 \nQ 34.1875 6.0625 38.53125 11.03125 \nQ 42.875 16.015625 42.875 26.21875 \nQ 42.875 35.84375 38.5 40.796875 \nQ 34.125 45.75 27.640625 45.75 \nQ 21.046875 45.75 16.703125 40.8125 \nQ 12.359375 35.890625 12.359375 25.921875 \nz\n\" id=\"ArialMT-111\"/>\n     <path d=\"M 21 0 \nL 1.265625 51.859375 \nL 10.546875 51.859375 \nL 21.6875 20.796875 \nQ 23.484375 15.765625 25 10.359375 \nQ 26.171875 14.453125 28.265625 20.21875 \nL 39.796875 51.859375 \nL 48.828125 51.859375 \nL 29.203125 0 \nz\n\" id=\"ArialMT-118\"/>\n     <path d=\"M 6.640625 61.46875 \nL 6.640625 71.578125 \nL 15.4375 71.578125 \nL 15.4375 61.46875 \nz\nM 6.640625 0 \nL 6.640625 51.859375 \nL 15.4375 51.859375 \nL 15.4375 0 \nz\n\" id=\"ArialMT-105\"/>\n    </defs>\n    <g style=\"fill:#262626;\" transform=\"translate(107.399159 87.331886)scale(0.1 -0.1)\">\n     <use xlink:href=\"#ArialMT-77\"/>\n     <use x=\"83.300781\" xlink:href=\"#ArialMT-111\"/>\n     <use x=\"138.916016\" xlink:href=\"#ArialMT-118\"/>\n     <use x=\"188.916016\" xlink:href=\"#ArialMT-105\"/>\n     <use x=\"211.132812\" xlink:href=\"#ArialMT-101\"/>\n    </g>\n   </g>\n   <g id=\"text_3\">\n    <!-- 68.42% -->\n    <defs>\n     <path d=\"M 49.75 54.046875 \nL 41.015625 53.375 \nQ 39.84375 58.546875 37.703125 60.890625 \nQ 34.125 64.65625 28.90625 64.65625 \nQ 24.703125 64.65625 21.53125 62.3125 \nQ 17.390625 59.28125 14.984375 53.46875 \nQ 12.59375 47.65625 12.5 36.921875 \nQ 15.671875 41.75 20.265625 44.09375 \nQ 24.859375 46.4375 29.890625 46.4375 \nQ 38.671875 46.4375 44.84375 39.96875 \nQ 51.03125 33.5 51.03125 23.25 \nQ 51.03125 16.5 48.125 10.71875 \nQ 45.21875 4.9375 40.140625 1.859375 \nQ 35.0625 -1.21875 28.609375 -1.21875 \nQ 17.625 -1.21875 10.6875 6.859375 \nQ 3.765625 14.9375 3.765625 33.5 \nQ 3.765625 54.25 11.421875 63.671875 \nQ 18.109375 71.875 29.4375 71.875 \nQ 37.890625 71.875 43.28125 67.140625 \nQ 48.6875 62.40625 49.75 54.046875 \nz\nM 13.875 23.1875 \nQ 13.875 18.65625 15.796875 14.5 \nQ 17.71875 10.359375 21.1875 8.171875 \nQ 24.65625 6 28.46875 6 \nQ 34.03125 6 38.03125 10.484375 \nQ 42.046875 14.984375 42.046875 22.703125 \nQ 42.046875 30.125 38.078125 34.390625 \nQ 34.125 38.671875 28.125 38.671875 \nQ 22.171875 38.671875 18.015625 34.390625 \nQ 13.875 30.125 13.875 23.1875 \nz\n\" id=\"ArialMT-54\"/>\n     <path d=\"M 17.671875 38.8125 \nQ 12.203125 40.828125 9.5625 44.53125 \nQ 6.9375 48.25 6.9375 53.421875 \nQ 6.9375 61.234375 12.546875 66.546875 \nQ 18.171875 71.875 27.484375 71.875 \nQ 36.859375 71.875 42.578125 66.421875 \nQ 48.296875 60.984375 48.296875 53.171875 \nQ 48.296875 48.1875 45.671875 44.5 \nQ 43.0625 40.828125 37.75 38.8125 \nQ 44.34375 36.671875 47.78125 31.875 \nQ 51.21875 27.09375 51.21875 20.453125 \nQ 51.21875 11.28125 44.71875 5.03125 \nQ 38.234375 -1.21875 27.640625 -1.21875 \nQ 17.046875 -1.21875 10.546875 5.046875 \nQ 4.046875 11.328125 4.046875 20.703125 \nQ 4.046875 27.6875 7.59375 32.390625 \nQ 11.140625 37.109375 17.671875 38.8125 \nz\nM 15.921875 53.71875 \nQ 15.921875 48.640625 19.1875 45.40625 \nQ 22.46875 42.1875 27.6875 42.1875 \nQ 32.765625 42.1875 36.015625 45.375 \nQ 39.265625 48.578125 39.265625 53.21875 \nQ 39.265625 58.0625 35.90625 61.359375 \nQ 32.5625 64.65625 27.59375 64.65625 \nQ 22.5625 64.65625 19.234375 61.421875 \nQ 15.921875 58.203125 15.921875 53.71875 \nz\nM 13.09375 20.65625 \nQ 13.09375 16.890625 14.875 13.375 \nQ 16.65625 9.859375 20.171875 7.921875 \nQ 23.6875 6 27.734375 6 \nQ 34.03125 6 38.125 10.046875 \nQ 42.234375 14.109375 42.234375 20.359375 \nQ 42.234375 26.703125 38.015625 30.859375 \nQ 33.796875 35.015625 27.4375 35.015625 \nQ 21.234375 35.015625 17.15625 30.90625 \nQ 13.09375 26.8125 13.09375 20.65625 \nz\n\" id=\"ArialMT-56\"/>\n     <path d=\"M 9.078125 0 \nL 9.078125 10.015625 \nL 19.09375 10.015625 \nL 19.09375 0 \nz\n\" id=\"ArialMT-46\"/>\n     <path d=\"M 32.328125 0 \nL 32.328125 17.140625 \nL 1.265625 17.140625 \nL 1.265625 25.203125 \nL 33.9375 71.578125 \nL 41.109375 71.578125 \nL 41.109375 25.203125 \nL 50.78125 25.203125 \nL 50.78125 17.140625 \nL 41.109375 17.140625 \nL 41.109375 0 \nz\nM 32.328125 25.203125 \nL 32.328125 57.46875 \nL 9.90625 25.203125 \nz\n\" id=\"ArialMT-52\"/>\n     <path d=\"M 50.34375 8.453125 \nL 50.34375 0 \nL 3.03125 0 \nQ 2.9375 3.171875 4.046875 6.109375 \nQ 5.859375 10.9375 9.828125 15.625 \nQ 13.8125 20.3125 21.34375 26.46875 \nQ 33.015625 36.03125 37.109375 41.625 \nQ 41.21875 47.21875 41.21875 52.203125 \nQ 41.21875 57.421875 37.46875 61 \nQ 33.734375 64.59375 27.734375 64.59375 \nQ 21.390625 64.59375 17.578125 60.78125 \nQ 13.765625 56.984375 13.71875 50.25 \nL 4.6875 51.171875 \nQ 5.609375 61.28125 11.65625 66.578125 \nQ 17.71875 71.875 27.9375 71.875 \nQ 38.234375 71.875 44.234375 66.15625 \nQ 50.25 60.453125 50.25 52 \nQ 50.25 47.703125 48.484375 43.546875 \nQ 46.734375 39.40625 42.65625 34.8125 \nQ 38.578125 30.21875 29.109375 22.21875 \nQ 21.1875 15.578125 18.9375 13.203125 \nQ 16.703125 10.84375 15.234375 8.453125 \nz\n\" id=\"ArialMT-50\"/>\n     <path d=\"M 5.8125 54.390625 \nQ 5.8125 62.0625 9.671875 67.421875 \nQ 13.53125 72.796875 20.84375 72.796875 \nQ 27.59375 72.796875 32 67.984375 \nQ 36.421875 63.1875 36.421875 53.859375 \nQ 36.421875 44.78125 31.953125 39.875 \nQ 27.484375 34.96875 20.953125 34.96875 \nQ 14.453125 34.96875 10.125 39.796875 \nQ 5.8125 44.625 5.8125 54.390625 \nz\nM 21.09375 66.75 \nQ 17.828125 66.75 15.65625 63.90625 \nQ 13.484375 61.078125 13.484375 53.515625 \nQ 13.484375 46.625 15.671875 43.8125 \nQ 17.875 41.015625 21.09375 41.015625 \nQ 24.421875 41.015625 26.59375 43.84375 \nQ 28.765625 46.6875 28.765625 54.203125 \nQ 28.765625 61.140625 26.5625 63.9375 \nQ 24.359375 66.75 21.09375 66.75 \nz\nM 21.140625 -2.640625 \nL 60.296875 72.796875 \nL 67.4375 72.796875 \nL 28.421875 -2.640625 \nz\nM 52.09375 16.796875 \nQ 52.09375 24.515625 55.953125 29.859375 \nQ 59.8125 35.203125 67.1875 35.203125 \nQ 73.921875 35.203125 78.34375 30.390625 \nQ 82.765625 25.59375 82.765625 16.265625 \nQ 82.765625 7.171875 78.296875 2.265625 \nQ 73.828125 -2.640625 67.234375 -2.640625 \nQ 60.75 -2.640625 56.421875 2.21875 \nQ 52.09375 7.078125 52.09375 16.796875 \nz\nM 67.4375 29.15625 \nQ 64.109375 29.15625 61.9375 26.3125 \nQ 59.765625 23.484375 59.765625 15.921875 \nQ 59.765625 9.078125 61.953125 6.25 \nQ 64.15625 3.421875 67.390625 3.421875 \nQ 70.75 3.421875 72.921875 6.25 \nQ 75.09375 9.078125 75.09375 16.609375 \nQ 75.09375 23.53125 72.890625 26.34375 \nQ 70.703125 29.15625 67.4375 29.15625 \nz\n\" id=\"ArialMT-37\"/>\n    </defs>\n    <g style=\"fill:#262626;\" transform=\"translate(164.673405 160.154111)scale(0.1 -0.1)\">\n     <use xlink:href=\"#ArialMT-54\"/>\n     <use x=\"55.615234\" xlink:href=\"#ArialMT-56\"/>\n     <use x=\"111.230469\" xlink:href=\"#ArialMT-46\"/>\n     <use x=\"139.013672\" xlink:href=\"#ArialMT-52\"/>\n     <use x=\"194.628906\" xlink:href=\"#ArialMT-50\"/>\n     <use x=\"250.244141\" xlink:href=\"#ArialMT-37\"/>\n    </g>\n   </g>\n   <g id=\"text_4\">\n    <!-- TV Show -->\n    <defs>\n     <path d=\"M 25.921875 0 \nL 25.921875 63.140625 \nL 2.34375 63.140625 \nL 2.34375 71.578125 \nL 59.078125 71.578125 \nL 59.078125 63.140625 \nL 35.40625 63.140625 \nL 35.40625 0 \nz\n\" id=\"ArialMT-84\"/>\n     <path d=\"M 28.171875 0 \nL 0.4375 71.578125 \nL 10.6875 71.578125 \nL 29.296875 19.578125 \nQ 31.546875 13.328125 33.0625 7.859375 \nQ 34.71875 13.71875 36.921875 19.578125 \nL 56.25 71.578125 \nL 65.921875 71.578125 \nL 37.890625 0 \nz\n\" id=\"ArialMT-86\"/>\n     <path id=\"ArialMT-32\"/>\n     <path d=\"M 4.5 23 \nL 13.421875 23.78125 \nQ 14.0625 18.40625 16.375 14.96875 \nQ 18.703125 11.53125 23.578125 9.40625 \nQ 28.46875 7.28125 34.578125 7.28125 \nQ 39.984375 7.28125 44.140625 8.890625 \nQ 48.296875 10.5 50.3125 13.296875 \nQ 52.34375 16.109375 52.34375 19.4375 \nQ 52.34375 22.796875 50.390625 25.3125 \nQ 48.4375 27.828125 43.953125 29.546875 \nQ 41.0625 30.671875 31.203125 33.03125 \nQ 21.34375 35.40625 17.390625 37.5 \nQ 12.25 40.1875 9.734375 44.15625 \nQ 7.234375 48.140625 7.234375 53.078125 \nQ 7.234375 58.5 10.296875 63.203125 \nQ 13.375 67.921875 19.28125 70.359375 \nQ 25.203125 72.796875 32.421875 72.796875 \nQ 40.375 72.796875 46.453125 70.234375 \nQ 52.546875 67.671875 55.8125 62.6875 \nQ 59.078125 57.71875 59.328125 51.421875 \nL 50.25 50.734375 \nQ 49.515625 57.515625 45.28125 60.984375 \nQ 41.0625 64.453125 32.8125 64.453125 \nQ 24.21875 64.453125 20.28125 61.296875 \nQ 16.359375 58.15625 16.359375 53.71875 \nQ 16.359375 49.859375 19.140625 47.359375 \nQ 21.875 44.875 33.421875 42.265625 \nQ 44.96875 39.65625 49.265625 37.703125 \nQ 55.515625 34.8125 58.484375 30.390625 \nQ 61.46875 25.984375 61.46875 20.21875 \nQ 61.46875 14.5 58.203125 9.4375 \nQ 54.9375 4.390625 48.796875 1.578125 \nQ 42.671875 -1.21875 35.015625 -1.21875 \nQ 25.296875 -1.21875 18.71875 1.609375 \nQ 12.15625 4.4375 8.421875 10.125 \nQ 4.6875 15.828125 4.5 23 \nz\n\" id=\"ArialMT-83\"/>\n     <path d=\"M 6.59375 0 \nL 6.59375 71.578125 \nL 15.375 71.578125 \nL 15.375 45.90625 \nQ 21.53125 53.03125 30.90625 53.03125 \nQ 36.671875 53.03125 40.921875 50.75 \nQ 45.171875 48.484375 47 44.484375 \nQ 48.828125 40.484375 48.828125 32.859375 \nL 48.828125 0 \nL 40.046875 0 \nL 40.046875 32.859375 \nQ 40.046875 39.453125 37.1875 42.453125 \nQ 34.328125 45.453125 29.109375 45.453125 \nQ 25.203125 45.453125 21.75 43.421875 \nQ 18.3125 41.40625 16.84375 37.9375 \nQ 15.375 34.46875 15.375 28.375 \nL 15.375 0 \nz\n\" id=\"ArialMT-104\"/>\n     <path d=\"M 16.15625 0 \nL 0.296875 51.859375 \nL 9.375 51.859375 \nL 17.625 21.921875 \nL 20.703125 10.796875 \nQ 20.90625 11.625 23.390625 21.484375 \nL 31.640625 51.859375 \nL 40.671875 51.859375 \nL 48.4375 21.78125 \nL 51.03125 11.859375 \nL 54 21.875 \nL 62.890625 51.859375 \nL 71.4375 51.859375 \nL 55.21875 0 \nL 46.09375 0 \nL 37.84375 31.0625 \nL 35.84375 39.890625 \nL 25.34375 0 \nz\n\" id=\"ArialMT-119\"/>\n    </defs>\n    <g style=\"fill:#262626;\" transform=\"translate(343.327076 407.749686)scale(0.1 -0.1)\">\n     <use xlink:href=\"#ArialMT-84\"/>\n     <use x=\"61.083984\" xlink:href=\"#ArialMT-86\"/>\n     <use x=\"127.783203\" xlink:href=\"#ArialMT-32\"/>\n     <use x=\"155.566406\" xlink:href=\"#ArialMT-83\"/>\n     <use x=\"222.265625\" xlink:href=\"#ArialMT-104\"/>\n     <use x=\"277.880859\" xlink:href=\"#ArialMT-111\"/>\n     <use x=\"333.496094\" xlink:href=\"#ArialMT-119\"/>\n    </g>\n   </g>\n   <g id=\"text_5\">\n    <!-- 31.58% -->\n    <defs>\n     <path d=\"M 4.203125 18.890625 \nL 12.984375 20.0625 \nQ 14.5 12.59375 18.140625 9.296875 \nQ 21.78125 6 27 6 \nQ 33.203125 6 37.46875 10.296875 \nQ 41.75 14.59375 41.75 20.953125 \nQ 41.75 27 37.796875 30.921875 \nQ 33.84375 34.859375 27.734375 34.859375 \nQ 25.25 34.859375 21.53125 33.890625 \nL 22.515625 41.609375 \nQ 23.390625 41.5 23.921875 41.5 \nQ 29.546875 41.5 34.03125 44.421875 \nQ 38.53125 47.359375 38.53125 53.46875 \nQ 38.53125 58.296875 35.25 61.46875 \nQ 31.984375 64.65625 26.8125 64.65625 \nQ 21.6875 64.65625 18.265625 61.421875 \nQ 14.84375 58.203125 13.875 51.765625 \nL 5.078125 53.328125 \nQ 6.6875 62.15625 12.390625 67.015625 \nQ 18.109375 71.875 26.609375 71.875 \nQ 32.46875 71.875 37.390625 69.359375 \nQ 42.328125 66.84375 44.9375 62.5 \nQ 47.5625 58.15625 47.5625 53.265625 \nQ 47.5625 48.640625 45.0625 44.828125 \nQ 42.578125 41.015625 37.703125 38.765625 \nQ 44.046875 37.3125 47.5625 32.6875 \nQ 51.078125 28.078125 51.078125 21.140625 \nQ 51.078125 11.765625 44.234375 5.25 \nQ 37.40625 -1.265625 26.953125 -1.265625 \nQ 17.53125 -1.265625 11.296875 4.34375 \nQ 5.078125 9.96875 4.203125 18.890625 \nz\n\" id=\"ArialMT-51\"/>\n     <path d=\"M 37.25 0 \nL 28.46875 0 \nL 28.46875 56 \nQ 25.296875 52.984375 20.140625 49.953125 \nQ 14.984375 46.921875 10.890625 45.40625 \nL 10.890625 53.90625 \nQ 18.265625 57.375 23.78125 62.296875 \nQ 29.296875 67.234375 31.59375 71.875 \nL 37.25 71.875 \nz\n\" id=\"ArialMT-49\"/>\n     <path d=\"M 4.15625 18.75 \nL 13.375 19.53125 \nQ 14.40625 12.796875 18.140625 9.390625 \nQ 21.875 6 27.15625 6 \nQ 33.5 6 37.890625 10.78125 \nQ 42.28125 15.578125 42.28125 23.484375 \nQ 42.28125 31 38.0625 35.34375 \nQ 33.84375 39.703125 27 39.703125 \nQ 22.75 39.703125 19.328125 37.765625 \nQ 15.921875 35.84375 13.96875 32.765625 \nL 5.71875 33.84375 \nL 12.640625 70.609375 \nL 48.25 70.609375 \nL 48.25 62.203125 \nL 19.671875 62.203125 \nL 15.828125 42.96875 \nQ 22.265625 47.46875 29.34375 47.46875 \nQ 38.71875 47.46875 45.15625 40.96875 \nQ 51.609375 34.46875 51.609375 24.265625 \nQ 51.609375 14.546875 45.953125 7.46875 \nQ 39.0625 -1.21875 27.15625 -1.21875 \nQ 17.390625 -1.21875 11.203125 4.25 \nQ 5.03125 9.71875 4.15625 18.75 \nz\n\" id=\"ArialMT-53\"/>\n    </defs>\n    <g style=\"fill:#262626;\" transform=\"translate(278.812212 334.927457)scale(0.1 -0.1)\">\n     <use xlink:href=\"#ArialMT-51\"/>\n     <use x=\"55.615234\" xlink:href=\"#ArialMT-49\"/>\n     <use x=\"111.230469\" xlink:href=\"#ArialMT-46\"/>\n     <use x=\"139.013672\" xlink:href=\"#ArialMT-53\"/>\n     <use x=\"194.628906\" xlink:href=\"#ArialMT-56\"/>\n     <use x=\"250.244141\" xlink:href=\"#ArialMT-37\"/>\n    </g>\n   </g>\n   <g id=\"text_6\">\n    <!-- Entertainment Type -->\n    <defs>\n     <path d=\"M 7.90625 0 \nL 7.90625 71.578125 \nL 59.671875 71.578125 \nL 59.671875 63.140625 \nL 17.390625 63.140625 \nL 17.390625 41.21875 \nL 56.984375 41.21875 \nL 56.984375 32.8125 \nL 17.390625 32.8125 \nL 17.390625 8.453125 \nL 61.328125 8.453125 \nL 61.328125 0 \nz\n\" id=\"ArialMT-69\"/>\n     <path d=\"M 6.59375 0 \nL 6.59375 51.859375 \nL 14.5 51.859375 \nL 14.5 44.484375 \nQ 20.21875 53.03125 31 53.03125 \nQ 35.6875 53.03125 39.625 51.34375 \nQ 43.5625 49.65625 45.515625 46.921875 \nQ 47.46875 44.1875 48.25 40.4375 \nQ 48.734375 37.984375 48.734375 31.890625 \nL 48.734375 0 \nL 39.9375 0 \nL 39.9375 31.546875 \nQ 39.9375 36.921875 38.90625 39.578125 \nQ 37.890625 42.234375 35.28125 43.8125 \nQ 32.671875 45.40625 29.15625 45.40625 \nQ 23.53125 45.40625 19.453125 41.84375 \nQ 15.375 38.28125 15.375 28.328125 \nL 15.375 0 \nz\n\" id=\"ArialMT-110\"/>\n     <path d=\"M 6.5 0 \nL 6.5 51.859375 \nL 14.40625 51.859375 \nL 14.40625 44 \nQ 17.4375 49.515625 20 51.265625 \nQ 22.5625 53.03125 25.640625 53.03125 \nQ 30.078125 53.03125 34.671875 50.203125 \nL 31.640625 42.046875 \nQ 28.421875 43.953125 25.203125 43.953125 \nQ 22.3125 43.953125 20.015625 42.21875 \nQ 17.71875 40.484375 16.75 37.40625 \nQ 15.28125 32.71875 15.28125 27.15625 \nL 15.28125 0 \nz\n\" id=\"ArialMT-114\"/>\n     <path d=\"M 40.4375 6.390625 \nQ 35.546875 2.25 31.03125 0.53125 \nQ 26.515625 -1.171875 21.34375 -1.171875 \nQ 12.796875 -1.171875 8.203125 3 \nQ 3.609375 7.171875 3.609375 13.671875 \nQ 3.609375 17.484375 5.34375 20.625 \nQ 7.078125 23.78125 9.890625 25.6875 \nQ 12.703125 27.59375 16.21875 28.5625 \nQ 18.796875 29.25 24.03125 29.890625 \nQ 34.671875 31.15625 39.703125 32.90625 \nQ 39.75 34.71875 39.75 35.203125 \nQ 39.75 40.578125 37.25 42.78125 \nQ 33.890625 45.75 27.25 45.75 \nQ 21.046875 45.75 18.09375 43.578125 \nQ 15.140625 41.40625 13.71875 35.890625 \nL 5.125 37.0625 \nQ 6.296875 42.578125 8.984375 45.96875 \nQ 11.671875 49.359375 16.75 51.1875 \nQ 21.828125 53.03125 28.515625 53.03125 \nQ 35.15625 53.03125 39.296875 51.46875 \nQ 43.453125 49.90625 45.40625 47.53125 \nQ 47.359375 45.171875 48.140625 41.546875 \nQ 48.578125 39.3125 48.578125 33.453125 \nL 48.578125 21.734375 \nQ 48.578125 9.46875 49.140625 6.21875 \nQ 49.703125 2.984375 51.375 0 \nL 42.1875 0 \nQ 40.828125 2.734375 40.4375 6.390625 \nz\nM 39.703125 26.03125 \nQ 34.90625 24.078125 25.34375 22.703125 \nQ 19.921875 21.921875 17.671875 20.9375 \nQ 15.4375 19.96875 14.203125 18.09375 \nQ 12.984375 16.21875 12.984375 13.921875 \nQ 12.984375 10.40625 15.640625 8.0625 \nQ 18.3125 5.71875 23.4375 5.71875 \nQ 28.515625 5.71875 32.46875 7.9375 \nQ 36.421875 10.15625 38.28125 14.015625 \nQ 39.703125 17 39.703125 22.796875 \nz\n\" id=\"ArialMT-97\"/>\n     <path d=\"M 6.59375 0 \nL 6.59375 51.859375 \nL 14.453125 51.859375 \nL 14.453125 44.578125 \nQ 16.890625 48.390625 20.9375 50.703125 \nQ 25 53.03125 30.171875 53.03125 \nQ 35.9375 53.03125 39.625 50.640625 \nQ 43.3125 48.25 44.828125 43.953125 \nQ 50.984375 53.03125 60.84375 53.03125 \nQ 68.5625 53.03125 72.703125 48.75 \nQ 76.859375 44.484375 76.859375 35.59375 \nL 76.859375 0 \nL 68.109375 0 \nL 68.109375 32.671875 \nQ 68.109375 37.9375 67.25 40.25 \nQ 66.40625 42.578125 64.15625 43.984375 \nQ 61.921875 45.40625 58.890625 45.40625 \nQ 53.421875 45.40625 49.796875 41.765625 \nQ 46.1875 38.140625 46.1875 30.125 \nL 46.1875 0 \nL 37.40625 0 \nL 37.40625 33.6875 \nQ 37.40625 39.546875 35.25 42.46875 \nQ 33.109375 45.40625 28.21875 45.40625 \nQ 24.515625 45.40625 21.359375 43.453125 \nQ 18.21875 41.5 16.796875 37.734375 \nQ 15.375 33.984375 15.375 26.90625 \nL 15.375 0 \nz\n\" id=\"ArialMT-109\"/>\n    </defs>\n    <g style=\"fill:#262626;\" transform=\"translate(152.165469 21.515625)scale(0.2 -0.2)\">\n     <use xlink:href=\"#ArialMT-69\"/>\n     <use x=\"66.699219\" xlink:href=\"#ArialMT-110\"/>\n     <use x=\"122.314453\" xlink:href=\"#ArialMT-116\"/>\n     <use x=\"150.097656\" xlink:href=\"#ArialMT-101\"/>\n     <use x=\"205.712891\" xlink:href=\"#ArialMT-114\"/>\n     <use x=\"239.013672\" xlink:href=\"#ArialMT-116\"/>\n     <use x=\"266.796875\" xlink:href=\"#ArialMT-97\"/>\n     <use x=\"322.412109\" xlink:href=\"#ArialMT-105\"/>\n     <use x=\"344.628906\" xlink:href=\"#ArialMT-110\"/>\n     <use x=\"400.244141\" xlink:href=\"#ArialMT-109\"/>\n     <use x=\"483.544922\" xlink:href=\"#ArialMT-101\"/>\n     <use x=\"539.160156\" xlink:href=\"#ArialMT-110\"/>\n     <use x=\"594.775391\" xlink:href=\"#ArialMT-116\"/>\n     <use x=\"622.558594\" xlink:href=\"#ArialMT-32\"/>\n     <use x=\"648.591797\" xlink:href=\"#ArialMT-84\"/>\n     <use x=\"704.175781\" xlink:href=\"#ArialMT-121\"/>\n     <use x=\"754.175781\" xlink:href=\"#ArialMT-112\"/>\n     <use x=\"809.791016\" xlink:href=\"#ArialMT-101\"/>\n    </g>\n   </g>\n  </g>\n </g>\n</svg>\n",
      "image/png": "[encoded data removed]"
     },
     "metadata": {}
    }
   ],
   "source": [
    "plt.style.use('seaborn')\n",
    "\n",
    "\n",
    "df['type'].value_counts().head(15).plot.pie(figsize = (15, 8), autopct='%1.2f%%')\n",
    "\n",
    "plt.title('Entertainment Type',fontsize = 20)\n",
    "\n",
    "plt.xticks(rotation = 90)\n",
    "plt.show()"
   ]
  },
  {
   "cell_type": "code",
   "execution_count": null,
   "metadata": {},
   "outputs": [],
   "source": [
    "# Content Ratings by Type"
   ]
  },
  {
   "cell_type": "code",
   "execution_count": 9,
   "metadata": {},
   "outputs": [
    {
     "output_type": "execute_result",
     "data": {
      "text/plain": "<matplotlib.axes._subplots.AxesSubplot at 0x1212cfc40>"
     },
     "metadata": {},
     "execution_count": 9
    },
    {
     "output_type": "display_data",
     "data": {
      "text/plain": "<Figure size 864x576 with 1 Axes>",
      "image/svg+xml": "<?xml version=\"1.0\" encoding=\"utf-8\" standalone=\"no\"?>\n<!DOCTYPE svg PUBLIC \"-//W3C//DTD SVG 1.1//EN\"\n  \"http://www.w3.org/Graphics/SVG/1.1/DTD/svg11.dtd\">\n<!-- Created with matplotlib (https://matplotlib.org/) -->\n<svg height=\"500.173438pt\" version=\"1.1\" viewBox=\"0 0 727.303594 500.173438\" width=\"727.303594pt\" xmlns=\"http://www.w3.org/2000/svg\" xmlns:xlink=\"http://www.w3.org/1999/xlink\">\n <defs>\n  <style type=\"text/css\">\n*{stroke-linecap:butt;stroke-linejoin:round;}\n  </style>\n </defs>\n <g id=\"figure_1\">\n  <g id=\"patch_1\">\n   <path d=\"M 0 500.173438 \nL 727.303594 500.173438 \nL 727.303594 0 \nL 0 0 \nz\n\" style=\"fill:#ffffff;\"/>\n  </g>\n  <g id=\"axes_1\">\n   <g id=\"patch_2\">\n    <path d=\"M 50.503594 462.639375 \nL 720.103594 462.639375 \nL 720.103594 27.759375 \nL 50.503594 27.759375 \nz\n\" style=\"fill:#eaeaf2;\"/>\n   </g>\n   <g id=\"matplotlib.axis_1\">\n    <g id=\"xtick_1\">\n     <g id=\"line2d_1\"/>\n     <g id=\"text_1\">\n      <!-- TV-PG -->\n      <defs>\n       <path d=\"M 25.921875 0 \nL 25.921875 63.140625 \nL 2.34375 63.140625 \nL 2.34375 71.578125 \nL 59.078125 71.578125 \nL 59.078125 63.140625 \nL 35.40625 63.140625 \nL 35.40625 0 \nz\n\" id=\"ArialMT-84\"/>\n       <path d=\"M 28.171875 0 \nL 0.4375 71.578125 \nL 10.6875 71.578125 \nL 29.296875 19.578125 \nQ 31.546875 13.328125 33.0625 7.859375 \nQ 34.71875 13.71875 36.921875 19.578125 \nL 56.25 71.578125 \nL 65.921875 71.578125 \nL 37.890625 0 \nz\n\" id=\"ArialMT-86\"/>\n       <path d=\"M 3.171875 21.484375 \nL 3.171875 30.328125 \nL 30.171875 30.328125 \nL 30.171875 21.484375 \nz\n\" id=\"ArialMT-45\"/>\n       <path d=\"M 7.71875 0 \nL 7.71875 71.578125 \nL 34.71875 71.578125 \nQ 41.84375 71.578125 45.609375 70.90625 \nQ 50.875 70.015625 54.4375 67.546875 \nQ 58.015625 65.09375 60.1875 60.640625 \nQ 62.359375 56.203125 62.359375 50.875 \nQ 62.359375 41.75 56.546875 35.421875 \nQ 50.734375 29.109375 35.546875 29.109375 \nL 17.1875 29.109375 \nL 17.1875 0 \nz\nM 17.1875 37.546875 \nL 35.6875 37.546875 \nQ 44.875 37.546875 48.734375 40.96875 \nQ 52.59375 44.390625 52.59375 50.59375 \nQ 52.59375 55.078125 50.3125 58.265625 \nQ 48.046875 61.46875 44.34375 62.5 \nQ 41.9375 63.140625 35.5 63.140625 \nL 17.1875 63.140625 \nz\n\" id=\"ArialMT-80\"/>\n       <path d=\"M 41.21875 28.078125 \nL 41.21875 36.46875 \nL 71.53125 36.53125 \nL 71.53125 9.96875 \nQ 64.546875 4.390625 57.125 1.578125 \nQ 49.703125 -1.21875 41.890625 -1.21875 \nQ 31.34375 -1.21875 22.71875 3.296875 \nQ 14.109375 7.8125 9.71875 16.359375 \nQ 5.328125 24.90625 5.328125 35.453125 \nQ 5.328125 45.90625 9.6875 54.953125 \nQ 14.0625 64.015625 22.265625 68.40625 \nQ 30.46875 72.796875 41.15625 72.796875 \nQ 48.921875 72.796875 55.1875 70.28125 \nQ 61.46875 67.78125 65.03125 63.28125 \nQ 68.609375 58.796875 70.453125 51.5625 \nL 61.921875 49.21875 \nQ 60.296875 54.6875 57.90625 57.8125 \nQ 55.515625 60.9375 51.0625 62.8125 \nQ 46.625 64.703125 41.21875 64.703125 \nQ 34.71875 64.703125 29.984375 62.71875 \nQ 25.25 60.75 22.34375 57.515625 \nQ 19.4375 54.296875 17.828125 50.4375 \nQ 15.09375 43.796875 15.09375 36.03125 \nQ 15.09375 26.46875 18.390625 20.015625 \nQ 21.6875 13.578125 27.984375 10.453125 \nQ 34.28125 7.328125 41.359375 7.328125 \nQ 47.515625 7.328125 53.375 9.6875 \nQ 59.234375 12.0625 62.25 14.75 \nL 62.25 28.078125 \nz\n\" id=\"ArialMT-71\"/>\n      </defs>\n      <g style=\"fill:#262626;\" transform=\"translate(59.414754 476.797188)scale(0.1 -0.1)\">\n       <use xlink:href=\"#ArialMT-84\"/>\n       <use x=\"61.083984\" xlink:href=\"#ArialMT-86\"/>\n       <use x=\"122.283203\" xlink:href=\"#ArialMT-45\"/>\n       <use x=\"155.583984\" xlink:href=\"#ArialMT-80\"/>\n       <use x=\"222.283203\" xlink:href=\"#ArialMT-71\"/>\n      </g>\n     </g>\n    </g>\n    <g id=\"xtick_2\">\n     <g id=\"line2d_2\"/>\n     <g id=\"text_2\">\n      <!-- TV-MA -->\n      <defs>\n       <path d=\"M 7.421875 0 \nL 7.421875 71.578125 \nL 21.6875 71.578125 \nL 38.625 20.90625 \nQ 40.96875 13.8125 42.046875 10.296875 \nQ 43.265625 14.203125 45.84375 21.78125 \nL 62.984375 71.578125 \nL 75.734375 71.578125 \nL 75.734375 0 \nL 66.609375 0 \nL 66.609375 59.90625 \nL 45.796875 0 \nL 37.25 0 \nL 16.546875 60.9375 \nL 16.546875 0 \nz\n\" id=\"ArialMT-77\"/>\n       <path d=\"M -0.140625 0 \nL 27.34375 71.578125 \nL 37.546875 71.578125 \nL 66.84375 0 \nL 56.0625 0 \nL 47.703125 21.6875 \nL 17.78125 21.6875 \nL 9.90625 0 \nz\nM 20.515625 29.390625 \nL 44.78125 29.390625 \nL 37.3125 49.21875 \nQ 33.890625 58.25 32.234375 64.0625 \nQ 30.859375 57.171875 28.375 50.390625 \nz\n\" id=\"ArialMT-65\"/>\n      </defs>\n      <g style=\"fill:#262626;\" transform=\"translate(106.967545 476.797188)scale(0.1 -0.1)\">\n       <use xlink:href=\"#ArialMT-84\"/>\n       <use x=\"61.083984\" xlink:href=\"#ArialMT-86\"/>\n       <use x=\"122.283203\" xlink:href=\"#ArialMT-45\"/>\n       <use x=\"155.583984\" xlink:href=\"#ArialMT-77\"/>\n       <use x=\"238.884766\" xlink:href=\"#ArialMT-65\"/>\n      </g>\n     </g>\n    </g>\n    <g id=\"xtick_3\">\n     <g id=\"line2d_3\"/>\n     <g id=\"text_3\">\n      <!-- TV-Y7-FV -->\n      <defs>\n       <path d=\"M 27.875 0 \nL 27.875 30.328125 \nL 0.296875 71.578125 \nL 11.8125 71.578125 \nL 25.921875 50 \nQ 29.828125 43.953125 33.203125 37.890625 \nQ 36.421875 43.5 41.015625 50.53125 \nL 54.890625 71.578125 \nL 65.921875 71.578125 \nL 37.359375 30.328125 \nL 37.359375 0 \nz\n\" id=\"ArialMT-89\"/>\n       <path d=\"M 4.734375 62.203125 \nL 4.734375 70.65625 \nL 51.078125 70.65625 \nL 51.078125 63.8125 \nQ 44.234375 56.546875 37.515625 44.484375 \nQ 30.8125 32.421875 27.15625 19.671875 \nQ 24.515625 10.6875 23.78125 0 \nL 14.75 0 \nQ 14.890625 8.453125 18.0625 20.40625 \nQ 21.234375 32.375 27.171875 43.484375 \nQ 33.109375 54.59375 39.796875 62.203125 \nz\n\" id=\"ArialMT-55\"/>\n       <path d=\"M 8.203125 0 \nL 8.203125 71.578125 \nL 56.5 71.578125 \nL 56.5 63.140625 \nL 17.671875 63.140625 \nL 17.671875 40.96875 \nL 51.265625 40.96875 \nL 51.265625 32.515625 \nL 17.671875 32.515625 \nL 17.671875 0 \nz\n\" id=\"ArialMT-70\"/>\n      </defs>\n      <g style=\"fill:#262626;\" transform=\"translate(148.126585 476.797188)scale(0.1 -0.1)\">\n       <use xlink:href=\"#ArialMT-84\"/>\n       <use x=\"61.083984\" xlink:href=\"#ArialMT-86\"/>\n       <use x=\"122.283203\" xlink:href=\"#ArialMT-45\"/>\n       <use x=\"155.583984\" xlink:href=\"#ArialMT-89\"/>\n       <use x=\"222.283203\" xlink:href=\"#ArialMT-55\"/>\n       <use x=\"277.898438\" xlink:href=\"#ArialMT-45\"/>\n       <use x=\"311.199219\" xlink:href=\"#ArialMT-70\"/>\n       <use x=\"372.283203\" xlink:href=\"#ArialMT-86\"/>\n      </g>\n     </g>\n    </g>\n    <g id=\"xtick_4\">\n     <g id=\"line2d_4\"/>\n     <g id=\"text_4\">\n      <!-- TV-Y7 -->\n      <g style=\"fill:#262626;\" transform=\"translate(204.009063 476.797188)scale(0.1 -0.1)\">\n       <use xlink:href=\"#ArialMT-84\"/>\n       <use x=\"61.083984\" xlink:href=\"#ArialMT-86\"/>\n       <use x=\"122.283203\" xlink:href=\"#ArialMT-45\"/>\n       <use x=\"155.583984\" xlink:href=\"#ArialMT-89\"/>\n       <use x=\"222.283203\" xlink:href=\"#ArialMT-55\"/>\n      </g>\n     </g>\n    </g>\n    <g id=\"xtick_5\">\n     <g id=\"line2d_5\"/>\n     <g id=\"text_5\">\n      <!-- TV-14 -->\n      <defs>\n       <path d=\"M 37.25 0 \nL 28.46875 0 \nL 28.46875 56 \nQ 25.296875 52.984375 20.140625 49.953125 \nQ 14.984375 46.921875 10.890625 45.40625 \nL 10.890625 53.90625 \nQ 18.265625 57.375 23.78125 62.296875 \nQ 29.296875 67.234375 31.59375 71.875 \nL 37.25 71.875 \nz\n\" id=\"ArialMT-49\"/>\n       <path d=\"M 32.328125 0 \nL 32.328125 17.140625 \nL 1.265625 17.140625 \nL 1.265625 25.203125 \nL 33.9375 71.578125 \nL 41.109375 71.578125 \nL 41.109375 25.203125 \nL 50.78125 25.203125 \nL 50.78125 17.140625 \nL 41.109375 17.140625 \nL 41.109375 0 \nz\nM 32.328125 25.203125 \nL 32.328125 57.46875 \nL 9.90625 25.203125 \nz\n\" id=\"ArialMT-52\"/>\n      </defs>\n      <g style=\"fill:#262626;\" transform=\"translate(252.392321 476.797188)scale(0.1 -0.1)\">\n       <use xlink:href=\"#ArialMT-84\"/>\n       <use x=\"61.083984\" xlink:href=\"#ArialMT-86\"/>\n       <use x=\"122.283203\" xlink:href=\"#ArialMT-45\"/>\n       <use x=\"155.583984\" xlink:href=\"#ArialMT-49\"/>\n       <use x=\"211.199219\" xlink:href=\"#ArialMT-52\"/>\n      </g>\n     </g>\n    </g>\n    <g id=\"xtick_6\">\n     <g id=\"line2d_6\"/>\n     <g id=\"text_6\">\n      <!-- R -->\n      <defs>\n       <path d=\"M 7.859375 0 \nL 7.859375 71.578125 \nL 39.59375 71.578125 \nQ 49.171875 71.578125 54.140625 69.640625 \nQ 59.125 67.71875 62.109375 62.828125 \nQ 65.09375 57.953125 65.09375 52.046875 \nQ 65.09375 44.4375 60.15625 39.203125 \nQ 55.21875 33.984375 44.921875 32.5625 \nQ 48.6875 30.765625 50.640625 29 \nQ 54.78125 25.203125 58.5 19.484375 \nL 70.953125 0 \nL 59.03125 0 \nL 49.5625 14.890625 \nQ 45.40625 21.34375 42.71875 24.75 \nQ 40.046875 28.171875 37.921875 29.53125 \nQ 35.796875 30.90625 33.59375 31.453125 \nQ 31.984375 31.78125 28.328125 31.78125 \nL 17.328125 31.78125 \nL 17.328125 0 \nz\nM 17.328125 39.984375 \nL 37.703125 39.984375 \nQ 44.1875 39.984375 47.84375 41.328125 \nQ 51.515625 42.671875 53.421875 45.625 \nQ 55.328125 48.578125 55.328125 52.046875 \nQ 55.328125 57.125 51.640625 60.390625 \nQ 47.953125 63.671875 39.984375 63.671875 \nL 17.328125 63.671875 \nz\n\" id=\"ArialMT-82\"/>\n      </defs>\n      <g style=\"fill:#262626;\" transform=\"translate(309.949799 476.797188)scale(0.1 -0.1)\">\n       <use xlink:href=\"#ArialMT-82\"/>\n      </g>\n     </g>\n    </g>\n    <g id=\"xtick_7\">\n     <g id=\"line2d_7\"/>\n     <g id=\"text_7\">\n      <!-- TV-Y -->\n      <g style=\"fill:#262626;\" transform=\"translate(350.275246 476.797188)scale(0.1 -0.1)\">\n       <use xlink:href=\"#ArialMT-84\"/>\n       <use x=\"61.083984\" xlink:href=\"#ArialMT-86\"/>\n       <use x=\"122.283203\" xlink:href=\"#ArialMT-45\"/>\n       <use x=\"155.583984\" xlink:href=\"#ArialMT-89\"/>\n      </g>\n     </g>\n    </g>\n    <g id=\"xtick_8\">\n     <g id=\"line2d_8\"/>\n     <g id=\"text_8\">\n      <!-- NR -->\n      <defs>\n       <path d=\"M 7.625 0 \nL 7.625 71.578125 \nL 17.328125 71.578125 \nL 54.9375 15.375 \nL 54.9375 71.578125 \nL 64.015625 71.578125 \nL 64.015625 0 \nL 54.296875 0 \nL 16.703125 56.25 \nL 16.703125 0 \nz\n\" id=\"ArialMT-78\"/>\n      </defs>\n      <g style=\"fill:#262626;\" transform=\"translate(401.996004 476.797188)scale(0.1 -0.1)\">\n       <use xlink:href=\"#ArialMT-78\"/>\n       <use x=\"72.216797\" xlink:href=\"#ArialMT-82\"/>\n      </g>\n     </g>\n    </g>\n    <g id=\"xtick_9\">\n     <g id=\"line2d_9\"/>\n     <g id=\"text_9\">\n      <!-- PG-13 -->\n      <defs>\n       <path d=\"M 4.203125 18.890625 \nL 12.984375 20.0625 \nQ 14.5 12.59375 18.140625 9.296875 \nQ 21.78125 6 27 6 \nQ 33.203125 6 37.46875 10.296875 \nQ 41.75 14.59375 41.75 20.953125 \nQ 41.75 27 37.796875 30.921875 \nQ 33.84375 34.859375 27.734375 34.859375 \nQ 25.25 34.859375 21.53125 33.890625 \nL 22.515625 41.609375 \nQ 23.390625 41.5 23.921875 41.5 \nQ 29.546875 41.5 34.03125 44.421875 \nQ 38.53125 47.359375 38.53125 53.46875 \nQ 38.53125 58.296875 35.25 61.46875 \nQ 31.984375 64.65625 26.8125 64.65625 \nQ 21.6875 64.65625 18.265625 61.421875 \nQ 14.84375 58.203125 13.875 51.765625 \nL 5.078125 53.328125 \nQ 6.6875 62.15625 12.390625 67.015625 \nQ 18.109375 71.875 26.609375 71.875 \nQ 32.46875 71.875 37.390625 69.359375 \nQ 42.328125 66.84375 44.9375 62.5 \nQ 47.5625 58.15625 47.5625 53.265625 \nQ 47.5625 48.640625 45.0625 44.828125 \nQ 42.578125 41.015625 37.703125 38.765625 \nQ 44.046875 37.3125 47.5625 32.6875 \nQ 51.078125 28.078125 51.078125 21.140625 \nQ 51.078125 11.765625 44.234375 5.25 \nQ 37.40625 -1.265625 26.953125 -1.265625 \nQ 17.53125 -1.265625 11.296875 4.34375 \nQ 5.078125 9.96875 4.203125 18.890625 \nz\n\" id=\"ArialMT-51\"/>\n      </defs>\n      <g style=\"fill:#262626;\" transform=\"translate(442.596451 476.797188)scale(0.1 -0.1)\">\n       <use xlink:href=\"#ArialMT-80\"/>\n       <use x=\"66.699219\" xlink:href=\"#ArialMT-71\"/>\n       <use x=\"144.482422\" xlink:href=\"#ArialMT-45\"/>\n       <use x=\"177.783203\" xlink:href=\"#ArialMT-49\"/>\n       <use x=\"233.398438\" xlink:href=\"#ArialMT-51\"/>\n      </g>\n     </g>\n    </g>\n    <g id=\"xtick_10\">\n     <g id=\"line2d_10\"/>\n     <g id=\"text_10\">\n      <!-- TV-G -->\n      <g style=\"fill:#262626;\" transform=\"translate(493.207054 476.797188)scale(0.1 -0.1)\">\n       <use xlink:href=\"#ArialMT-84\"/>\n       <use x=\"61.083984\" xlink:href=\"#ArialMT-86\"/>\n       <use x=\"122.283203\" xlink:href=\"#ArialMT-45\"/>\n       <use x=\"155.583984\" xlink:href=\"#ArialMT-71\"/>\n      </g>\n     </g>\n    </g>\n    <g id=\"xtick_11\">\n     <g id=\"line2d_11\"/>\n     <g id=\"text_11\">\n      <!-- PG -->\n      <g style=\"fill:#262626;\" transform=\"translate(545.479375 476.797188)scale(0.1 -0.1)\">\n       <use xlink:href=\"#ArialMT-80\"/>\n       <use x=\"66.699219\" xlink:href=\"#ArialMT-71\"/>\n      </g>\n     </g>\n    </g>\n    <g id=\"xtick_12\">\n     <g id=\"line2d_12\"/>\n     <g id=\"text_12\">\n      <!-- G -->\n      <g style=\"fill:#262626;\" transform=\"translate(596.643103 476.797188)scale(0.1 -0.1)\">\n       <use xlink:href=\"#ArialMT-71\"/>\n      </g>\n     </g>\n    </g>\n    <g id=\"xtick_13\">\n     <g id=\"line2d_13\"/>\n     <g id=\"text_13\">\n      <!-- UR -->\n      <defs>\n       <path d=\"M 54.6875 71.578125 \nL 64.15625 71.578125 \nL 64.15625 30.21875 \nQ 64.15625 19.4375 61.71875 13.078125 \nQ 59.28125 6.734375 52.90625 2.75 \nQ 46.53125 -1.21875 36.1875 -1.21875 \nQ 26.125 -1.21875 19.71875 2.25 \nQ 13.328125 5.71875 10.59375 12.28125 \nQ 7.859375 18.84375 7.859375 30.21875 \nL 7.859375 71.578125 \nL 17.328125 71.578125 \nL 17.328125 30.28125 \nQ 17.328125 20.953125 19.0625 16.53125 \nQ 20.796875 12.109375 25.015625 9.71875 \nQ 29.25 7.328125 35.359375 7.328125 \nQ 45.796875 7.328125 50.234375 12.0625 \nQ 54.6875 16.796875 54.6875 30.28125 \nz\n\" id=\"ArialMT-85\"/>\n      </defs>\n      <g style=\"fill:#262626;\" transform=\"translate(641.138862 476.797188)scale(0.1 -0.1)\">\n       <use xlink:href=\"#ArialMT-85\"/>\n       <use x=\"72.216797\" xlink:href=\"#ArialMT-82\"/>\n      </g>\n     </g>\n    </g>\n    <g id=\"xtick_14\">\n     <g id=\"line2d_14\"/>\n     <g id=\"text_14\">\n      <!-- NC-17 -->\n      <defs>\n       <path d=\"M 58.796875 25.09375 \nL 68.265625 22.703125 \nQ 65.28125 11.03125 57.546875 4.90625 \nQ 49.8125 -1.21875 38.625 -1.21875 \nQ 27.046875 -1.21875 19.796875 3.484375 \nQ 12.546875 8.203125 8.765625 17.140625 \nQ 4.984375 26.078125 4.984375 36.328125 \nQ 4.984375 47.515625 9.25 55.828125 \nQ 13.53125 64.15625 21.40625 68.46875 \nQ 29.296875 72.796875 38.765625 72.796875 \nQ 49.515625 72.796875 56.828125 67.328125 \nQ 64.15625 61.859375 67.046875 51.953125 \nL 57.71875 49.75 \nQ 55.21875 57.5625 50.484375 61.125 \nQ 45.75 64.703125 38.578125 64.703125 \nQ 30.328125 64.703125 24.78125 60.734375 \nQ 19.234375 56.78125 16.984375 50.109375 \nQ 14.75 43.453125 14.75 36.375 \nQ 14.75 27.25 17.40625 20.4375 \nQ 20.0625 13.625 25.671875 10.25 \nQ 31.296875 6.890625 37.84375 6.890625 \nQ 45.796875 6.890625 51.3125 11.46875 \nQ 56.84375 16.0625 58.796875 25.09375 \nz\n\" id=\"ArialMT-67\"/>\n      </defs>\n      <g style=\"fill:#262626;\" transform=\"translate(681.741652 476.797188)scale(0.1 -0.1)\">\n       <use xlink:href=\"#ArialMT-78\"/>\n       <use x=\"72.216797\" xlink:href=\"#ArialMT-67\"/>\n       <use x=\"144.433594\" xlink:href=\"#ArialMT-45\"/>\n       <use x=\"177.734375\" xlink:href=\"#ArialMT-49\"/>\n       <use x=\"233.349609\" xlink:href=\"#ArialMT-55\"/>\n      </g>\n     </g>\n    </g>\n    <g id=\"text_15\">\n     <!-- rating -->\n     <defs>\n      <path d=\"M 6.5 0 \nL 6.5 51.859375 \nL 14.40625 51.859375 \nL 14.40625 44 \nQ 17.4375 49.515625 20 51.265625 \nQ 22.5625 53.03125 25.640625 53.03125 \nQ 30.078125 53.03125 34.671875 50.203125 \nL 31.640625 42.046875 \nQ 28.421875 43.953125 25.203125 43.953125 \nQ 22.3125 43.953125 20.015625 42.21875 \nQ 17.71875 40.484375 16.75 37.40625 \nQ 15.28125 32.71875 15.28125 27.15625 \nL 15.28125 0 \nz\n\" id=\"ArialMT-114\"/>\n      <path d=\"M 40.4375 6.390625 \nQ 35.546875 2.25 31.03125 0.53125 \nQ 26.515625 -1.171875 21.34375 -1.171875 \nQ 12.796875 -1.171875 8.203125 3 \nQ 3.609375 7.171875 3.609375 13.671875 \nQ 3.609375 17.484375 5.34375 20.625 \nQ 7.078125 23.78125 9.890625 25.6875 \nQ 12.703125 27.59375 16.21875 28.5625 \nQ 18.796875 29.25 24.03125 29.890625 \nQ 34.671875 31.15625 39.703125 32.90625 \nQ 39.75 34.71875 39.75 35.203125 \nQ 39.75 40.578125 37.25 42.78125 \nQ 33.890625 45.75 27.25 45.75 \nQ 21.046875 45.75 18.09375 43.578125 \nQ 15.140625 41.40625 13.71875 35.890625 \nL 5.125 37.0625 \nQ 6.296875 42.578125 8.984375 45.96875 \nQ 11.671875 49.359375 16.75 51.1875 \nQ 21.828125 53.03125 28.515625 53.03125 \nQ 35.15625 53.03125 39.296875 51.46875 \nQ 43.453125 49.90625 45.40625 47.53125 \nQ 47.359375 45.171875 48.140625 41.546875 \nQ 48.578125 39.3125 48.578125 33.453125 \nL 48.578125 21.734375 \nQ 48.578125 9.46875 49.140625 6.21875 \nQ 49.703125 2.984375 51.375 0 \nL 42.1875 0 \nQ 40.828125 2.734375 40.4375 6.390625 \nz\nM 39.703125 26.03125 \nQ 34.90625 24.078125 25.34375 22.703125 \nQ 19.921875 21.921875 17.671875 20.9375 \nQ 15.4375 19.96875 14.203125 18.09375 \nQ 12.984375 16.21875 12.984375 13.921875 \nQ 12.984375 10.40625 15.640625 8.0625 \nQ 18.3125 5.71875 23.4375 5.71875 \nQ 28.515625 5.71875 32.46875 7.9375 \nQ 36.421875 10.15625 38.28125 14.015625 \nQ 39.703125 17 39.703125 22.796875 \nz\n\" id=\"ArialMT-97\"/>\n      <path d=\"M 25.78125 7.859375 \nL 27.046875 0.09375 \nQ 23.34375 -0.6875 20.40625 -0.6875 \nQ 15.625 -0.6875 12.984375 0.828125 \nQ 10.359375 2.34375 9.28125 4.8125 \nQ 8.203125 7.28125 8.203125 15.1875 \nL 8.203125 45.015625 \nL 1.765625 45.015625 \nL 1.765625 51.859375 \nL 8.203125 51.859375 \nL 8.203125 64.703125 \nL 16.9375 69.96875 \nL 16.9375 51.859375 \nL 25.78125 51.859375 \nL 25.78125 45.015625 \nL 16.9375 45.015625 \nL 16.9375 14.703125 \nQ 16.9375 10.9375 17.40625 9.859375 \nQ 17.875 8.796875 18.921875 8.15625 \nQ 19.96875 7.515625 21.921875 7.515625 \nQ 23.390625 7.515625 25.78125 7.859375 \nz\n\" id=\"ArialMT-116\"/>\n      <path d=\"M 6.640625 61.46875 \nL 6.640625 71.578125 \nL 15.4375 71.578125 \nL 15.4375 61.46875 \nz\nM 6.640625 0 \nL 6.640625 51.859375 \nL 15.4375 51.859375 \nL 15.4375 0 \nz\n\" id=\"ArialMT-105\"/>\n      <path d=\"M 6.59375 0 \nL 6.59375 51.859375 \nL 14.5 51.859375 \nL 14.5 44.484375 \nQ 20.21875 53.03125 31 53.03125 \nQ 35.6875 53.03125 39.625 51.34375 \nQ 43.5625 49.65625 45.515625 46.921875 \nQ 47.46875 44.1875 48.25 40.4375 \nQ 48.734375 37.984375 48.734375 31.890625 \nL 48.734375 0 \nL 39.9375 0 \nL 39.9375 31.546875 \nQ 39.9375 36.921875 38.90625 39.578125 \nQ 37.890625 42.234375 35.28125 43.8125 \nQ 32.671875 45.40625 29.15625 45.40625 \nQ 23.53125 45.40625 19.453125 41.84375 \nQ 15.375 38.28125 15.375 28.328125 \nL 15.375 0 \nz\n\" id=\"ArialMT-110\"/>\n      <path d=\"M 4.984375 -4.296875 \nL 13.53125 -5.5625 \nQ 14.0625 -9.515625 16.5 -11.328125 \nQ 19.78125 -13.765625 25.4375 -13.765625 \nQ 31.546875 -13.765625 34.859375 -11.328125 \nQ 38.1875 -8.890625 39.359375 -4.5 \nQ 40.046875 -1.8125 39.984375 6.78125 \nQ 34.234375 0 25.640625 0 \nQ 14.9375 0 9.078125 7.71875 \nQ 3.21875 15.4375 3.21875 26.21875 \nQ 3.21875 33.640625 5.90625 39.90625 \nQ 8.59375 46.1875 13.6875 49.609375 \nQ 18.796875 53.03125 25.6875 53.03125 \nQ 34.859375 53.03125 40.828125 45.609375 \nL 40.828125 51.859375 \nL 48.921875 51.859375 \nL 48.921875 7.03125 \nQ 48.921875 -5.078125 46.453125 -10.125 \nQ 44 -15.1875 38.640625 -18.109375 \nQ 33.296875 -21.046875 25.484375 -21.046875 \nQ 16.21875 -21.046875 10.5 -16.875 \nQ 4.78125 -12.703125 4.984375 -4.296875 \nz\nM 12.25 26.859375 \nQ 12.25 16.65625 16.296875 11.96875 \nQ 20.359375 7.28125 26.46875 7.28125 \nQ 32.515625 7.28125 36.609375 11.9375 \nQ 40.71875 16.609375 40.71875 26.5625 \nQ 40.71875 36.078125 36.5 40.90625 \nQ 32.28125 45.75 26.3125 45.75 \nQ 20.453125 45.75 16.34375 40.984375 \nQ 12.25 36.234375 12.25 26.859375 \nz\n\" id=\"ArialMT-103\"/>\n     </defs>\n     <g style=\"fill:#262626;\" transform=\"translate(371.546719 490.658281)scale(0.11 -0.11)\">\n      <use xlink:href=\"#ArialMT-114\"/>\n      <use x=\"33.300781\" xlink:href=\"#ArialMT-97\"/>\n      <use x=\"88.916016\" xlink:href=\"#ArialMT-116\"/>\n      <use x=\"116.699219\" xlink:href=\"#ArialMT-105\"/>\n      <use x=\"138.916016\" xlink:href=\"#ArialMT-110\"/>\n      <use x=\"194.53125\" xlink:href=\"#ArialMT-103\"/>\n     </g>\n    </g>\n   </g>\n   <g id=\"matplotlib.axis_2\">\n    <g id=\"ytick_1\">\n     <g id=\"line2d_15\">\n      <path clip-path=\"url(#p55b5755d18)\" d=\"M 50.503594 462.639375 \nL 720.103594 462.639375 \n\" style=\"fill:none;stroke:#ffffff;stroke-linecap:round;\"/>\n     </g>\n     <g id=\"line2d_16\"/>\n     <g id=\"text_16\">\n      <!-- 0 -->\n      <defs>\n       <path d=\"M 4.15625 35.296875 \nQ 4.15625 48 6.765625 55.734375 \nQ 9.375 63.484375 14.515625 67.671875 \nQ 19.671875 71.875 27.484375 71.875 \nQ 33.25 71.875 37.59375 69.546875 \nQ 41.9375 67.234375 44.765625 62.859375 \nQ 47.609375 58.5 49.21875 52.21875 \nQ 50.828125 45.953125 50.828125 35.296875 \nQ 50.828125 22.703125 48.234375 14.96875 \nQ 45.65625 7.234375 40.5 3 \nQ 35.359375 -1.21875 27.484375 -1.21875 \nQ 17.140625 -1.21875 11.234375 6.203125 \nQ 4.15625 15.140625 4.15625 35.296875 \nz\nM 13.1875 35.296875 \nQ 13.1875 17.671875 17.3125 11.828125 \nQ 21.4375 6 27.484375 6 \nQ 33.546875 6 37.671875 11.859375 \nQ 41.796875 17.71875 41.796875 35.296875 \nQ 41.796875 52.984375 37.671875 58.78125 \nQ 33.546875 64.59375 27.390625 64.59375 \nQ 21.34375 64.59375 17.71875 59.46875 \nQ 13.1875 52.9375 13.1875 35.296875 \nz\n\" id=\"ArialMT-48\"/>\n      </defs>\n      <g style=\"fill:#262626;\" transform=\"translate(37.942656 466.218281)scale(0.1 -0.1)\">\n       <use xlink:href=\"#ArialMT-48\"/>\n      </g>\n     </g>\n    </g>\n    <g id=\"ytick_2\">\n     <g id=\"line2d_17\">\n      <path clip-path=\"url(#p55b5755d18)\" d=\"M 50.503594 401.552144 \nL 720.103594 401.552144 \n\" style=\"fill:none;stroke:#ffffff;stroke-linecap:round;\"/>\n     </g>\n     <g id=\"line2d_18\"/>\n     <g id=\"text_17\">\n      <!-- 200 -->\n      <defs>\n       <path d=\"M 50.34375 8.453125 \nL 50.34375 0 \nL 3.03125 0 \nQ 2.9375 3.171875 4.046875 6.109375 \nQ 5.859375 10.9375 9.828125 15.625 \nQ 13.8125 20.3125 21.34375 26.46875 \nQ 33.015625 36.03125 37.109375 41.625 \nQ 41.21875 47.21875 41.21875 52.203125 \nQ 41.21875 57.421875 37.46875 61 \nQ 33.734375 64.59375 27.734375 64.59375 \nQ 21.390625 64.59375 17.578125 60.78125 \nQ 13.765625 56.984375 13.71875 50.25 \nL 4.6875 51.171875 \nQ 5.609375 61.28125 11.65625 66.578125 \nQ 17.71875 71.875 27.9375 71.875 \nQ 38.234375 71.875 44.234375 66.15625 \nQ 50.25 60.453125 50.25 52 \nQ 50.25 47.703125 48.484375 43.546875 \nQ 46.734375 39.40625 42.65625 34.8125 \nQ 38.578125 30.21875 29.109375 22.21875 \nQ 21.1875 15.578125 18.9375 13.203125 \nQ 16.703125 10.84375 15.234375 8.453125 \nz\n\" id=\"ArialMT-50\"/>\n      </defs>\n      <g style=\"fill:#262626;\" transform=\"translate(26.820781 405.13105)scale(0.1 -0.1)\">\n       <use xlink:href=\"#ArialMT-50\"/>\n       <use x=\"55.615234\" xlink:href=\"#ArialMT-48\"/>\n       <use x=\"111.230469\" xlink:href=\"#ArialMT-48\"/>\n      </g>\n     </g>\n    </g>\n    <g id=\"ytick_3\">\n     <g id=\"line2d_19\">\n      <path clip-path=\"url(#p55b5755d18)\" d=\"M 50.503594 340.464912 \nL 720.103594 340.464912 \n\" style=\"fill:none;stroke:#ffffff;stroke-linecap:round;\"/>\n     </g>\n     <g id=\"line2d_20\"/>\n     <g id=\"text_18\">\n      <!-- 400 -->\n      <g style=\"fill:#262626;\" transform=\"translate(26.820781 344.043819)scale(0.1 -0.1)\">\n       <use xlink:href=\"#ArialMT-52\"/>\n       <use x=\"55.615234\" xlink:href=\"#ArialMT-48\"/>\n       <use x=\"111.230469\" xlink:href=\"#ArialMT-48\"/>\n      </g>\n     </g>\n    </g>\n    <g id=\"ytick_4\">\n     <g id=\"line2d_21\">\n      <path clip-path=\"url(#p55b5755d18)\" d=\"M 50.503594 279.377681 \nL 720.103594 279.377681 \n\" style=\"fill:none;stroke:#ffffff;stroke-linecap:round;\"/>\n     </g>\n     <g id=\"line2d_22\"/>\n     <g id=\"text_19\">\n      <!-- 600 -->\n      <defs>\n       <path d=\"M 49.75 54.046875 \nL 41.015625 53.375 \nQ 39.84375 58.546875 37.703125 60.890625 \nQ 34.125 64.65625 28.90625 64.65625 \nQ 24.703125 64.65625 21.53125 62.3125 \nQ 17.390625 59.28125 14.984375 53.46875 \nQ 12.59375 47.65625 12.5 36.921875 \nQ 15.671875 41.75 20.265625 44.09375 \nQ 24.859375 46.4375 29.890625 46.4375 \nQ 38.671875 46.4375 44.84375 39.96875 \nQ 51.03125 33.5 51.03125 23.25 \nQ 51.03125 16.5 48.125 10.71875 \nQ 45.21875 4.9375 40.140625 1.859375 \nQ 35.0625 -1.21875 28.609375 -1.21875 \nQ 17.625 -1.21875 10.6875 6.859375 \nQ 3.765625 14.9375 3.765625 33.5 \nQ 3.765625 54.25 11.421875 63.671875 \nQ 18.109375 71.875 29.4375 71.875 \nQ 37.890625 71.875 43.28125 67.140625 \nQ 48.6875 62.40625 49.75 54.046875 \nz\nM 13.875 23.1875 \nQ 13.875 18.65625 15.796875 14.5 \nQ 17.71875 10.359375 21.1875 8.171875 \nQ 24.65625 6 28.46875 6 \nQ 34.03125 6 38.03125 10.484375 \nQ 42.046875 14.984375 42.046875 22.703125 \nQ 42.046875 30.125 38.078125 34.390625 \nQ 34.125 38.671875 28.125 38.671875 \nQ 22.171875 38.671875 18.015625 34.390625 \nQ 13.875 30.125 13.875 23.1875 \nz\n\" id=\"ArialMT-54\"/>\n      </defs>\n      <g style=\"fill:#262626;\" transform=\"translate(26.820781 282.956587)scale(0.1 -0.1)\">\n       <use xlink:href=\"#ArialMT-54\"/>\n       <use x=\"55.615234\" xlink:href=\"#ArialMT-48\"/>\n       <use x=\"111.230469\" xlink:href=\"#ArialMT-48\"/>\n      </g>\n     </g>\n    </g>\n    <g id=\"ytick_5\">\n     <g id=\"line2d_23\">\n      <path clip-path=\"url(#p55b5755d18)\" d=\"M 50.503594 218.29045 \nL 720.103594 218.29045 \n\" style=\"fill:none;stroke:#ffffff;stroke-linecap:round;\"/>\n     </g>\n     <g id=\"line2d_24\"/>\n     <g id=\"text_20\">\n      <!-- 800 -->\n      <defs>\n       <path d=\"M 17.671875 38.8125 \nQ 12.203125 40.828125 9.5625 44.53125 \nQ 6.9375 48.25 6.9375 53.421875 \nQ 6.9375 61.234375 12.546875 66.546875 \nQ 18.171875 71.875 27.484375 71.875 \nQ 36.859375 71.875 42.578125 66.421875 \nQ 48.296875 60.984375 48.296875 53.171875 \nQ 48.296875 48.1875 45.671875 44.5 \nQ 43.0625 40.828125 37.75 38.8125 \nQ 44.34375 36.671875 47.78125 31.875 \nQ 51.21875 27.09375 51.21875 20.453125 \nQ 51.21875 11.28125 44.71875 5.03125 \nQ 38.234375 -1.21875 27.640625 -1.21875 \nQ 17.046875 -1.21875 10.546875 5.046875 \nQ 4.046875 11.328125 4.046875 20.703125 \nQ 4.046875 27.6875 7.59375 32.390625 \nQ 11.140625 37.109375 17.671875 38.8125 \nz\nM 15.921875 53.71875 \nQ 15.921875 48.640625 19.1875 45.40625 \nQ 22.46875 42.1875 27.6875 42.1875 \nQ 32.765625 42.1875 36.015625 45.375 \nQ 39.265625 48.578125 39.265625 53.21875 \nQ 39.265625 58.0625 35.90625 61.359375 \nQ 32.5625 64.65625 27.59375 64.65625 \nQ 22.5625 64.65625 19.234375 61.421875 \nQ 15.921875 58.203125 15.921875 53.71875 \nz\nM 13.09375 20.65625 \nQ 13.09375 16.890625 14.875 13.375 \nQ 16.65625 9.859375 20.171875 7.921875 \nQ 23.6875 6 27.734375 6 \nQ 34.03125 6 38.125 10.046875 \nQ 42.234375 14.109375 42.234375 20.359375 \nQ 42.234375 26.703125 38.015625 30.859375 \nQ 33.796875 35.015625 27.4375 35.015625 \nQ 21.234375 35.015625 17.15625 30.90625 \nQ 13.09375 26.8125 13.09375 20.65625 \nz\n\" id=\"ArialMT-56\"/>\n      </defs>\n      <g style=\"fill:#262626;\" transform=\"translate(26.820781 221.869356)scale(0.1 -0.1)\">\n       <use xlink:href=\"#ArialMT-56\"/>\n       <use x=\"55.615234\" xlink:href=\"#ArialMT-48\"/>\n       <use x=\"111.230469\" xlink:href=\"#ArialMT-48\"/>\n      </g>\n     </g>\n    </g>\n    <g id=\"ytick_6\">\n     <g id=\"line2d_25\">\n      <path clip-path=\"url(#p55b5755d18)\" d=\"M 50.503594 157.203218 \nL 720.103594 157.203218 \n\" style=\"fill:none;stroke:#ffffff;stroke-linecap:round;\"/>\n     </g>\n     <g id=\"line2d_26\"/>\n     <g id=\"text_21\">\n      <!-- 1000 -->\n      <g style=\"fill:#262626;\" transform=\"translate(21.259844 160.782124)scale(0.1 -0.1)\">\n       <use xlink:href=\"#ArialMT-49\"/>\n       <use x=\"55.615234\" xlink:href=\"#ArialMT-48\"/>\n       <use x=\"111.230469\" xlink:href=\"#ArialMT-48\"/>\n       <use x=\"166.845703\" xlink:href=\"#ArialMT-48\"/>\n      </g>\n     </g>\n    </g>\n    <g id=\"ytick_7\">\n     <g id=\"line2d_27\">\n      <path clip-path=\"url(#p55b5755d18)\" d=\"M 50.503594 96.115987 \nL 720.103594 96.115987 \n\" style=\"fill:none;stroke:#ffffff;stroke-linecap:round;\"/>\n     </g>\n     <g id=\"line2d_28\"/>\n     <g id=\"text_22\">\n      <!-- 1200 -->\n      <g style=\"fill:#262626;\" transform=\"translate(21.259844 99.694893)scale(0.1 -0.1)\">\n       <use xlink:href=\"#ArialMT-49\"/>\n       <use x=\"55.615234\" xlink:href=\"#ArialMT-50\"/>\n       <use x=\"111.230469\" xlink:href=\"#ArialMT-48\"/>\n       <use x=\"166.845703\" xlink:href=\"#ArialMT-48\"/>\n      </g>\n     </g>\n    </g>\n    <g id=\"ytick_8\">\n     <g id=\"line2d_29\">\n      <path clip-path=\"url(#p55b5755d18)\" d=\"M 50.503594 35.028756 \nL 720.103594 35.028756 \n\" style=\"fill:none;stroke:#ffffff;stroke-linecap:round;\"/>\n     </g>\n     <g id=\"line2d_30\"/>\n     <g id=\"text_23\">\n      <!-- 1400 -->\n      <g style=\"fill:#262626;\" transform=\"translate(21.259844 38.607662)scale(0.1 -0.1)\">\n       <use xlink:href=\"#ArialMT-49\"/>\n       <use x=\"55.615234\" xlink:href=\"#ArialMT-52\"/>\n       <use x=\"111.230469\" xlink:href=\"#ArialMT-48\"/>\n       <use x=\"166.845703\" xlink:href=\"#ArialMT-48\"/>\n      </g>\n     </g>\n    </g>\n    <g id=\"text_24\">\n     <!-- count -->\n     <defs>\n      <path d=\"M 40.4375 19 \nL 49.078125 17.875 \nQ 47.65625 8.9375 41.8125 3.875 \nQ 35.984375 -1.171875 27.484375 -1.171875 \nQ 16.84375 -1.171875 10.375 5.78125 \nQ 3.90625 12.75 3.90625 25.734375 \nQ 3.90625 34.125 6.6875 40.421875 \nQ 9.46875 46.734375 15.15625 49.875 \nQ 20.84375 53.03125 27.546875 53.03125 \nQ 35.984375 53.03125 41.359375 48.75 \nQ 46.734375 44.484375 48.25 36.625 \nL 39.703125 35.296875 \nQ 38.484375 40.53125 35.375 43.15625 \nQ 32.28125 45.796875 27.875 45.796875 \nQ 21.234375 45.796875 17.078125 41.03125 \nQ 12.9375 36.28125 12.9375 25.984375 \nQ 12.9375 15.53125 16.9375 10.796875 \nQ 20.953125 6.0625 27.390625 6.0625 \nQ 32.5625 6.0625 36.03125 9.234375 \nQ 39.5 12.40625 40.4375 19 \nz\n\" id=\"ArialMT-99\"/>\n      <path d=\"M 3.328125 25.921875 \nQ 3.328125 40.328125 11.328125 47.265625 \nQ 18.015625 53.03125 27.640625 53.03125 \nQ 38.328125 53.03125 45.109375 46.015625 \nQ 51.90625 39.015625 51.90625 26.65625 \nQ 51.90625 16.65625 48.90625 10.90625 \nQ 45.90625 5.171875 40.15625 2 \nQ 34.421875 -1.171875 27.640625 -1.171875 \nQ 16.75 -1.171875 10.03125 5.8125 \nQ 3.328125 12.796875 3.328125 25.921875 \nz\nM 12.359375 25.921875 \nQ 12.359375 15.96875 16.703125 11.015625 \nQ 21.046875 6.0625 27.640625 6.0625 \nQ 34.1875 6.0625 38.53125 11.03125 \nQ 42.875 16.015625 42.875 26.21875 \nQ 42.875 35.84375 38.5 40.796875 \nQ 34.125 45.75 27.640625 45.75 \nQ 21.046875 45.75 16.703125 40.8125 \nQ 12.359375 35.890625 12.359375 25.921875 \nz\n\" id=\"ArialMT-111\"/>\n      <path d=\"M 40.578125 0 \nL 40.578125 7.625 \nQ 34.515625 -1.171875 24.125 -1.171875 \nQ 19.53125 -1.171875 15.546875 0.578125 \nQ 11.578125 2.34375 9.640625 5 \nQ 7.71875 7.671875 6.9375 11.53125 \nQ 6.390625 14.109375 6.390625 19.734375 \nL 6.390625 51.859375 \nL 15.1875 51.859375 \nL 15.1875 23.09375 \nQ 15.1875 16.21875 15.71875 13.8125 \nQ 16.546875 10.359375 19.234375 8.375 \nQ 21.921875 6.390625 25.875 6.390625 \nQ 29.828125 6.390625 33.296875 8.421875 \nQ 36.765625 10.453125 38.203125 13.9375 \nQ 39.65625 17.4375 39.65625 24.078125 \nL 39.65625 51.859375 \nL 48.4375 51.859375 \nL 48.4375 0 \nz\n\" id=\"ArialMT-117\"/>\n     </defs>\n     <g style=\"fill:#262626;\" transform=\"translate(15.073594 258.652891)rotate(-90)scale(0.11 -0.11)\">\n      <use xlink:href=\"#ArialMT-99\"/>\n      <use x=\"50\" xlink:href=\"#ArialMT-111\"/>\n      <use x=\"105.615234\" xlink:href=\"#ArialMT-117\"/>\n      <use x=\"161.230469\" xlink:href=\"#ArialMT-110\"/>\n      <use x=\"216.845703\" xlink:href=\"#ArialMT-116\"/>\n     </g>\n    </g>\n   </g>\n   <g id=\"patch_3\">\n    <path clip-path=\"url(#p55b5755d18)\" d=\"M 55.286451 462.639375 \nL 74.417879 462.639375 \nL 74.417879 330.690955 \nL 55.286451 330.690955 \nz\n\" style=\"fill:#5875a4;\"/>\n   </g>\n   <g id=\"patch_4\">\n    <path clip-path=\"url(#p55b5755d18)\" d=\"M 103.115022 462.639375 \nL 122.246451 462.639375 \nL 122.246451 48.467946 \nL 103.115022 48.467946 \nz\n\" style=\"fill:#5875a4;\"/>\n   </g>\n   <g id=\"patch_5\">\n    <path clip-path=\"url(#p55b5755d18)\" d=\"M 150.943594 462.639375 \nL 170.075022 462.639375 \nL 170.075022 454.392599 \nL 150.943594 454.392599 \nz\n\" style=\"fill:#5875a4;\"/>\n   </g>\n   <g id=\"patch_6\">\n    <path clip-path=\"url(#p55b5755d18)\" d=\"M 198.772165 462.639375 \nL 217.903594 462.639375 \nL 217.903594 441.56428 \nL 198.772165 441.56428 \nz\n\" style=\"fill:#5875a4;\"/>\n   </g>\n   <g id=\"patch_7\">\n    <path clip-path=\"url(#p55b5755d18)\" d=\"M 246.600737 462.639375 \nL 265.732165 462.639375 \nL 265.732165 145.596644 \nL 246.600737 145.596644 \nz\n\" style=\"fill:#5875a4;\"/>\n   </g>\n   <g id=\"patch_8\">\n    <path clip-path=\"url(#p55b5755d18)\" d=\"M 294.429308 462.639375 \nL 313.560737 462.639375 \nL 313.560737 308.08868 \nL 294.429308 308.08868 \nz\n\" style=\"fill:#5875a4;\"/>\n   </g>\n   <g id=\"patch_9\">\n    <path clip-path=\"url(#p55b5755d18)\" d=\"M 342.257879 462.639375 \nL 361.389308 462.639375 \nL 361.389308 450.116493 \nL 342.257879 450.116493 \nz\n\" style=\"fill:#5875a4;\"/>\n   </g>\n   <g id=\"patch_10\">\n    <path clip-path=\"url(#p55b5755d18)\" d=\"M 390.086451 462.639375 \nL 409.217879 462.639375 \nL 409.217879 400.941271 \nL 390.086451 400.941271 \nz\n\" style=\"fill:#5875a4;\"/>\n   </g>\n   <g id=\"patch_11\">\n    <path clip-path=\"url(#p55b5755d18)\" d=\"M 437.915022 462.639375 \nL 457.046451 462.639375 \nL 457.046451 375.284634 \nL 437.915022 375.284634 \nz\n\" style=\"fill:#5875a4;\"/>\n   </g>\n   <g id=\"patch_12\">\n    <path clip-path=\"url(#p55b5755d18)\" d=\"M 485.743594 462.639375 \nL 504.875022 462.639375 \nL 504.875022 438.204482 \nL 485.743594 438.204482 \nz\n\" style=\"fill:#5875a4;\"/>\n   </g>\n   <g id=\"patch_13\">\n    <path clip-path=\"url(#p55b5755d18)\" d=\"M 533.572165 462.639375 \nL 552.703594 462.639375 \nL 552.703594 406.744558 \nL 533.572165 406.744558 \nz\n\" style=\"fill:#5875a4;\"/>\n   </g>\n   <g id=\"patch_14\">\n    <path clip-path=\"url(#p55b5755d18)\" d=\"M 581.400737 462.639375 \nL 600.532165 462.639375 \nL 600.532165 451.643673 \nL 581.400737 451.643673 \nz\n\" style=\"fill:#5875a4;\"/>\n   </g>\n   <g id=\"patch_15\">\n    <path clip-path=\"url(#p55b5755d18)\" d=\"M 629.229308 462.639375 \nL 648.360737 462.639375 \nL 648.360737 460.501322 \nL 629.229308 460.501322 \nz\n\" style=\"fill:#5875a4;\"/>\n   </g>\n   <g id=\"patch_16\">\n    <path clip-path=\"url(#p55b5755d18)\" d=\"M 677.057879 462.639375 \nL 696.189308 462.639375 \nL 696.189308 462.028503 \nL 677.057879 462.028503 \nz\n\" style=\"fill:#5875a4;\"/>\n   </g>\n   <g id=\"patch_17\">\n    <path clip-path=\"url(#p55b5755d18)\" d=\"M 74.417879 462.639375 \nL 93.549308 462.639375 \nL 93.549308 380.477049 \nL 74.417879 380.477049 \nz\n\" style=\"fill:#5f9e6e;\"/>\n   </g>\n   <g id=\"patch_18\">\n    <path clip-path=\"url(#p55b5755d18)\" d=\"M 122.246451 462.639375 \nL 141.377879 462.639375 \nL 141.377879 254.637352 \nL 122.246451 254.637352 \nz\n\" style=\"fill:#5f9e6e;\"/>\n   </g>\n   <g id=\"patch_19\">\n    <path clip-path=\"url(#p55b5755d18)\" d=\"M 170.075022 462.639375 \nL 189.206451 462.639375 \nL 189.206451 441.869716 \nL 170.075022 441.869716 \nz\n\" style=\"fill:#5f9e6e;\"/>\n   </g>\n   <g id=\"patch_20\">\n    <path clip-path=\"url(#p55b5755d18)\" d=\"M 217.903594 462.639375 \nL 237.035022 462.639375 \nL 237.035022 432.095759 \nL 217.903594 432.095759 \nz\n\" style=\"fill:#5f9e6e;\"/>\n   </g>\n   <g id=\"patch_21\">\n    <path clip-path=\"url(#p55b5755d18)\" d=\"M 265.732165 462.639375 \nL 284.863594 462.639375 \nL 284.863594 261.051512 \nL 265.732165 261.051512 \nz\n\" style=\"fill:#5f9e6e;\"/>\n   </g>\n   <g id=\"patch_22\">\n    <path clip-path=\"url(#p55b5755d18)\" d=\"M 313.560737 462.639375 \nL 332.692165 462.639375 \nL 332.692165 462.028503 \nL 313.560737 462.028503 \nz\n\" style=\"fill:#5f9e6e;\"/>\n   </g>\n   <g id=\"patch_23\">\n    <path clip-path=\"url(#p55b5755d18)\" d=\"M 361.389308 462.639375 \nL 380.520737 462.639375 \nL 380.520737 431.484887 \nL 361.389308 431.484887 \nz\n\" style=\"fill:#5f9e6e;\"/>\n   </g>\n   <g id=\"patch_24\">\n    <path clip-path=\"url(#p55b5755d18)\" d=\"M 409.217879 462.639375 \nL 428.349308 462.639375 \nL 428.349308 457.752396 \nL 409.217879 457.752396 \nz\n\" style=\"fill:#5f9e6e;\"/>\n   </g>\n   <g id=\"patch_25\">\n    <path clip-path=\"url(#p55b5755d18)\" d=\"z\n\" style=\"fill:#5f9e6e;\"/>\n   </g>\n   <g id=\"patch_26\">\n    <path clip-path=\"url(#p55b5755d18)\" d=\"M 504.875022 462.639375 \nL 524.006451 462.639375 \nL 524.006451 441.56428 \nL 504.875022 441.56428 \nz\n\" style=\"fill:#5f9e6e;\"/>\n   </g>\n   <g id=\"patch_27\">\n    <path clip-path=\"url(#p55b5755d18)\" d=\"M 552.703594 462.639375 \nL 571.835022 462.639375 \nL 571.835022 462.333939 \nL 552.703594 462.333939 \nz\n\" style=\"fill:#5f9e6e;\"/>\n   </g>\n   <g id=\"patch_28\">\n    <path clip-path=\"url(#p55b5755d18)\" d=\"M 600.532165 462.639375 \nL 619.663594 462.639375 \nL 619.663594 462.333939 \nL 600.532165 462.333939 \nz\n\" style=\"fill:#5f9e6e;\"/>\n   </g>\n   <g id=\"patch_29\">\n    <path clip-path=\"url(#p55b5755d18)\" d=\"z\n\" style=\"fill:#5f9e6e;\"/>\n   </g>\n   <g id=\"patch_30\">\n    <path clip-path=\"url(#p55b5755d18)\" d=\"z\n\" style=\"fill:#5f9e6e;\"/>\n   </g>\n   <g id=\"patch_31\">\n    <path d=\"M 50.503594 462.639375 \nL 50.503594 27.759375 \n\" style=\"fill:none;\"/>\n   </g>\n   <g id=\"patch_32\">\n    <path d=\"M 720.103594 462.639375 \nL 720.103594 27.759375 \n\" style=\"fill:none;\"/>\n   </g>\n   <g id=\"patch_33\">\n    <path d=\"M 50.503594 462.639375 \nL 720.103594 462.639375 \n\" style=\"fill:none;\"/>\n   </g>\n   <g id=\"patch_34\">\n    <path d=\"M 50.503594 27.759375 \nL 720.103594 27.759375 \n\" style=\"fill:none;\"/>\n   </g>\n   <g id=\"text_25\">\n    <!-- Content Ratings by Type  -->\n    <defs>\n     <path d=\"M 42.09375 16.703125 \nL 51.171875 15.578125 \nQ 49.03125 7.625 43.21875 3.21875 \nQ 37.40625 -1.171875 28.375 -1.171875 \nQ 17 -1.171875 10.328125 5.828125 \nQ 3.65625 12.84375 3.65625 25.484375 \nQ 3.65625 38.578125 10.390625 45.796875 \nQ 17.140625 53.03125 27.875 53.03125 \nQ 38.28125 53.03125 44.875 45.953125 \nQ 51.46875 38.875 51.46875 26.03125 \nQ 51.46875 25.25 51.421875 23.6875 \nL 12.75 23.6875 \nQ 13.234375 15.140625 17.578125 10.59375 \nQ 21.921875 6.0625 28.421875 6.0625 \nQ 33.25 6.0625 36.671875 8.59375 \nQ 40.09375 11.140625 42.09375 16.703125 \nz\nM 13.234375 30.90625 \nL 42.1875 30.90625 \nQ 41.609375 37.453125 38.875 40.71875 \nQ 34.671875 45.796875 27.984375 45.796875 \nQ 21.921875 45.796875 17.796875 41.75 \nQ 13.671875 37.703125 13.234375 30.90625 \nz\n\" id=\"ArialMT-101\"/>\n     <path id=\"ArialMT-32\"/>\n     <path d=\"M 3.078125 15.484375 \nL 11.765625 16.84375 \nQ 12.5 11.625 15.84375 8.84375 \nQ 19.1875 6.0625 25.203125 6.0625 \nQ 31.25 6.0625 34.171875 8.515625 \nQ 37.109375 10.984375 37.109375 14.3125 \nQ 37.109375 17.28125 34.515625 19 \nQ 32.71875 20.171875 25.53125 21.96875 \nQ 15.875 24.421875 12.140625 26.203125 \nQ 8.40625 27.984375 6.46875 31.125 \nQ 4.546875 34.28125 4.546875 38.09375 \nQ 4.546875 41.546875 6.125 44.5 \nQ 7.71875 47.46875 10.453125 49.421875 \nQ 12.5 50.921875 16.03125 51.96875 \nQ 19.578125 53.03125 23.640625 53.03125 \nQ 29.734375 53.03125 34.34375 51.265625 \nQ 38.96875 49.515625 41.15625 46.5 \nQ 43.359375 43.5 44.1875 38.484375 \nL 35.59375 37.3125 \nQ 35.015625 41.3125 32.203125 43.546875 \nQ 29.390625 45.796875 24.265625 45.796875 \nQ 18.21875 45.796875 15.625 43.796875 \nQ 13.03125 41.796875 13.03125 39.109375 \nQ 13.03125 37.40625 14.109375 36.03125 \nQ 15.1875 34.625 17.484375 33.6875 \nQ 18.796875 33.203125 25.25 31.453125 \nQ 34.578125 28.953125 38.25 27.359375 \nQ 41.9375 25.78125 44.03125 22.75 \nQ 46.140625 19.734375 46.140625 15.234375 \nQ 46.140625 10.84375 43.578125 6.953125 \nQ 41.015625 3.078125 36.171875 0.953125 \nQ 31.34375 -1.171875 25.25 -1.171875 \nQ 15.140625 -1.171875 9.84375 3.03125 \nQ 4.546875 7.234375 3.078125 15.484375 \nz\n\" id=\"ArialMT-115\"/>\n     <path d=\"M 14.703125 0 \nL 6.546875 0 \nL 6.546875 71.578125 \nL 15.328125 71.578125 \nL 15.328125 46.046875 \nQ 20.90625 53.03125 29.546875 53.03125 \nQ 34.328125 53.03125 38.59375 51.09375 \nQ 42.875 49.171875 45.625 45.671875 \nQ 48.390625 42.1875 49.953125 37.25 \nQ 51.515625 32.328125 51.515625 26.703125 \nQ 51.515625 13.375 44.921875 6.09375 \nQ 38.328125 -1.171875 29.109375 -1.171875 \nQ 19.921875 -1.171875 14.703125 6.5 \nz\nM 14.59375 26.3125 \nQ 14.59375 17 17.140625 12.84375 \nQ 21.296875 6.0625 28.375 6.0625 \nQ 34.125 6.0625 38.328125 11.0625 \nQ 42.53125 16.0625 42.53125 25.984375 \nQ 42.53125 36.140625 38.5 40.96875 \nQ 34.46875 45.796875 28.765625 45.796875 \nQ 23 45.796875 18.796875 40.796875 \nQ 14.59375 35.796875 14.59375 26.3125 \nz\n\" id=\"ArialMT-98\"/>\n     <path d=\"M 6.203125 -19.96875 \nL 5.21875 -11.71875 \nQ 8.109375 -12.5 10.25 -12.5 \nQ 13.1875 -12.5 14.9375 -11.515625 \nQ 16.703125 -10.546875 17.828125 -8.796875 \nQ 18.65625 -7.46875 20.515625 -2.25 \nQ 20.75 -1.515625 21.296875 -0.09375 \nL 1.609375 51.859375 \nL 11.078125 51.859375 \nL 21.875 21.828125 \nQ 23.96875 16.109375 25.640625 9.8125 \nQ 27.15625 15.875 29.25 21.625 \nL 40.328125 51.859375 \nL 49.125 51.859375 \nL 29.390625 -0.875 \nQ 26.21875 -9.421875 24.46875 -12.640625 \nQ 22.125 -17 19.09375 -19.015625 \nQ 16.0625 -21.046875 11.859375 -21.046875 \nQ 9.328125 -21.046875 6.203125 -19.96875 \nz\n\" id=\"ArialMT-121\"/>\n     <path d=\"M 6.59375 -19.875 \nL 6.59375 51.859375 \nL 14.59375 51.859375 \nL 14.59375 45.125 \nQ 17.4375 49.078125 21 51.046875 \nQ 24.5625 53.03125 29.640625 53.03125 \nQ 36.28125 53.03125 41.359375 49.609375 \nQ 46.4375 46.1875 49.015625 39.953125 \nQ 51.609375 33.734375 51.609375 26.3125 \nQ 51.609375 18.359375 48.75 11.984375 \nQ 45.90625 5.609375 40.453125 2.21875 \nQ 35.015625 -1.171875 29 -1.171875 \nQ 24.609375 -1.171875 21.109375 0.6875 \nQ 17.625 2.546875 15.375 5.375 \nL 15.375 -19.875 \nz\nM 14.546875 25.640625 \nQ 14.546875 15.625 18.59375 10.84375 \nQ 22.65625 6.0625 28.421875 6.0625 \nQ 34.28125 6.0625 38.453125 11.015625 \nQ 42.625 15.96875 42.625 26.375 \nQ 42.625 36.28125 38.546875 41.203125 \nQ 34.46875 46.140625 28.8125 46.140625 \nQ 23.1875 46.140625 18.859375 40.890625 \nQ 14.546875 35.640625 14.546875 25.640625 \nz\n\" id=\"ArialMT-112\"/>\n    </defs>\n    <g style=\"fill:#262626;\" transform=\"translate(273.198906 21.759375)scale(0.2 -0.2)\">\n     <use xlink:href=\"#ArialMT-67\"/>\n     <use x=\"72.216797\" xlink:href=\"#ArialMT-111\"/>\n     <use x=\"127.832031\" xlink:href=\"#ArialMT-110\"/>\n     <use x=\"183.447266\" xlink:href=\"#ArialMT-116\"/>\n     <use x=\"211.230469\" xlink:href=\"#ArialMT-101\"/>\n     <use x=\"266.845703\" xlink:href=\"#ArialMT-110\"/>\n     <use x=\"322.460938\" xlink:href=\"#ArialMT-116\"/>\n     <use x=\"350.244141\" xlink:href=\"#ArialMT-32\"/>\n     <use x=\"378.027344\" xlink:href=\"#ArialMT-82\"/>\n     <use x=\"450.244141\" xlink:href=\"#ArialMT-97\"/>\n     <use x=\"505.859375\" xlink:href=\"#ArialMT-116\"/>\n     <use x=\"533.642578\" xlink:href=\"#ArialMT-105\"/>\n     <use x=\"555.859375\" xlink:href=\"#ArialMT-110\"/>\n     <use x=\"611.474609\" xlink:href=\"#ArialMT-103\"/>\n     <use x=\"667.089844\" xlink:href=\"#ArialMT-115\"/>\n     <use x=\"717.089844\" xlink:href=\"#ArialMT-32\"/>\n     <use x=\"744.873047\" xlink:href=\"#ArialMT-98\"/>\n     <use x=\"800.488281\" xlink:href=\"#ArialMT-121\"/>\n     <use x=\"850.488281\" xlink:href=\"#ArialMT-32\"/>\n     <use x=\"876.521484\" xlink:href=\"#ArialMT-84\"/>\n     <use x=\"932.105469\" xlink:href=\"#ArialMT-121\"/>\n     <use x=\"982.105469\" xlink:href=\"#ArialMT-112\"/>\n     <use x=\"1037.720703\" xlink:href=\"#ArialMT-101\"/>\n     <use x=\"1093.335938\" xlink:href=\"#ArialMT-32\"/>\n    </g>\n   </g>\n   <g id=\"legend_1\">\n    <g id=\"text_26\">\n     <!-- type -->\n     <g style=\"fill:#262626;\" transform=\"translate(375.853594 43.917188)scale(0.1 -0.1)\">\n      <use xlink:href=\"#ArialMT-116\"/>\n      <use x=\"27.783203\" xlink:href=\"#ArialMT-121\"/>\n      <use x=\"77.783203\" xlink:href=\"#ArialMT-112\"/>\n      <use x=\"133.398438\" xlink:href=\"#ArialMT-101\"/>\n     </g>\n    </g>\n    <g id=\"patch_35\">\n     <path d=\"M 351.018438 58.179688 \nL 371.018438 58.179688 \nL 371.018438 51.179688 \nL 351.018438 51.179688 \nz\n\" style=\"fill:#5875a4;\"/>\n    </g>\n    <g id=\"text_27\">\n     <!-- Movie -->\n     <defs>\n      <path d=\"M 21 0 \nL 1.265625 51.859375 \nL 10.546875 51.859375 \nL 21.6875 20.796875 \nQ 23.484375 15.765625 25 10.359375 \nQ 26.171875 14.453125 28.265625 20.21875 \nL 39.796875 51.859375 \nL 48.828125 51.859375 \nL 29.203125 0 \nz\n\" id=\"ArialMT-118\"/>\n     </defs>\n     <g style=\"fill:#262626;\" transform=\"translate(379.018438 58.179688)scale(0.1 -0.1)\">\n      <use xlink:href=\"#ArialMT-77\"/>\n      <use x=\"83.300781\" xlink:href=\"#ArialMT-111\"/>\n      <use x=\"138.916016\" xlink:href=\"#ArialMT-118\"/>\n      <use x=\"188.916016\" xlink:href=\"#ArialMT-105\"/>\n      <use x=\"211.132812\" xlink:href=\"#ArialMT-101\"/>\n     </g>\n    </g>\n    <g id=\"patch_36\">\n     <path d=\"M 351.018438 72.325 \nL 371.018438 72.325 \nL 371.018438 65.325 \nL 351.018438 65.325 \nz\n\" style=\"fill:#5f9e6e;\"/>\n    </g>\n    <g id=\"text_28\">\n     <!-- TV Show -->\n     <defs>\n      <path d=\"M 4.5 23 \nL 13.421875 23.78125 \nQ 14.0625 18.40625 16.375 14.96875 \nQ 18.703125 11.53125 23.578125 9.40625 \nQ 28.46875 7.28125 34.578125 7.28125 \nQ 39.984375 7.28125 44.140625 8.890625 \nQ 48.296875 10.5 50.3125 13.296875 \nQ 52.34375 16.109375 52.34375 19.4375 \nQ 52.34375 22.796875 50.390625 25.3125 \nQ 48.4375 27.828125 43.953125 29.546875 \nQ 41.0625 30.671875 31.203125 33.03125 \nQ 21.34375 35.40625 17.390625 37.5 \nQ 12.25 40.1875 9.734375 44.15625 \nQ 7.234375 48.140625 7.234375 53.078125 \nQ 7.234375 58.5 10.296875 63.203125 \nQ 13.375 67.921875 19.28125 70.359375 \nQ 25.203125 72.796875 32.421875 72.796875 \nQ 40.375 72.796875 46.453125 70.234375 \nQ 52.546875 67.671875 55.8125 62.6875 \nQ 59.078125 57.71875 59.328125 51.421875 \nL 50.25 50.734375 \nQ 49.515625 57.515625 45.28125 60.984375 \nQ 41.0625 64.453125 32.8125 64.453125 \nQ 24.21875 64.453125 20.28125 61.296875 \nQ 16.359375 58.15625 16.359375 53.71875 \nQ 16.359375 49.859375 19.140625 47.359375 \nQ 21.875 44.875 33.421875 42.265625 \nQ 44.96875 39.65625 49.265625 37.703125 \nQ 55.515625 34.8125 58.484375 30.390625 \nQ 61.46875 25.984375 61.46875 20.21875 \nQ 61.46875 14.5 58.203125 9.4375 \nQ 54.9375 4.390625 48.796875 1.578125 \nQ 42.671875 -1.21875 35.015625 -1.21875 \nQ 25.296875 -1.21875 18.71875 1.609375 \nQ 12.15625 4.4375 8.421875 10.125 \nQ 4.6875 15.828125 4.5 23 \nz\n\" id=\"ArialMT-83\"/>\n      <path d=\"M 6.59375 0 \nL 6.59375 71.578125 \nL 15.375 71.578125 \nL 15.375 45.90625 \nQ 21.53125 53.03125 30.90625 53.03125 \nQ 36.671875 53.03125 40.921875 50.75 \nQ 45.171875 48.484375 47 44.484375 \nQ 48.828125 40.484375 48.828125 32.859375 \nL 48.828125 0 \nL 40.046875 0 \nL 40.046875 32.859375 \nQ 40.046875 39.453125 37.1875 42.453125 \nQ 34.328125 45.453125 29.109375 45.453125 \nQ 25.203125 45.453125 21.75 43.421875 \nQ 18.3125 41.40625 16.84375 37.9375 \nQ 15.375 34.46875 15.375 28.375 \nL 15.375 0 \nz\n\" id=\"ArialMT-104\"/>\n      <path d=\"M 16.15625 0 \nL 0.296875 51.859375 \nL 9.375 51.859375 \nL 17.625 21.921875 \nL 20.703125 10.796875 \nQ 20.90625 11.625 23.390625 21.484375 \nL 31.640625 51.859375 \nL 40.671875 51.859375 \nL 48.4375 21.78125 \nL 51.03125 11.859375 \nL 54 21.875 \nL 62.890625 51.859375 \nL 71.4375 51.859375 \nL 55.21875 0 \nL 46.09375 0 \nL 37.84375 31.0625 \nL 35.84375 39.890625 \nL 25.34375 0 \nz\n\" id=\"ArialMT-119\"/>\n     </defs>\n     <g style=\"fill:#262626;\" transform=\"translate(379.018438 72.325)scale(0.1 -0.1)\">\n      <use xlink:href=\"#ArialMT-84\"/>\n      <use x=\"61.083984\" xlink:href=\"#ArialMT-86\"/>\n      <use x=\"127.783203\" xlink:href=\"#ArialMT-32\"/>\n      <use x=\"155.566406\" xlink:href=\"#ArialMT-83\"/>\n      <use x=\"222.265625\" xlink:href=\"#ArialMT-104\"/>\n      <use x=\"277.880859\" xlink:href=\"#ArialMT-111\"/>\n      <use x=\"333.496094\" xlink:href=\"#ArialMT-119\"/>\n     </g>\n    </g>\n   </g>\n  </g>\n </g>\n <defs>\n  <clipPath id=\"p55b5755d18\">\n   <rect height=\"434.88\" width=\"669.6\" x=\"50.503594\" y=\"27.759375\"/>\n  </clipPath>\n </defs>\n</svg>\n",
      "image/png": "[encoded data removed]"
     },
     "metadata": {}
    }
   ],
   "source": [
    "plt.figure(figsize = (12,8))\n",
    "plt.title('Content Ratings by Type ',fontsize = 20)\n",
    "sns.countplot(x='rating',data = df,hue='type')"
   ]
  },
  {
   "cell_type": "code",
   "execution_count": null,
   "metadata": {},
   "outputs": [],
   "source": [
    "# Amount of Content added over time"
   ]
  },
  {
   "cell_type": "code",
   "execution_count": 12,
   "metadata": {},
   "outputs": [
    {
     "output_type": "display_data",
     "data": {
      "application/vnd.plotly.v1+json": {
       "config": {
        "plotlyServerURL": "https://plot.ly"
       },
       "data": [
        {
         "marker": {
          "color": "#a678de"
         },
         "name": "TV Shows",
         "type": "scatter",
         "x": [
          2008,
          2012,
          2013,
          2014,
          2015,
          2016,
          2017,
          2018,
          2019,
          2020
         ],
         "y": [
          1,
          3,
          6,
          6,
          32,
          192,
          387,
          492,
          803,
          37
         ]
        },
        {
         "marker": {
          "color": "#6ad49b"
         },
         "name": "Movies",
         "type": "scatter",
         "x": [
          2008,
          2009,
          2010,
          2011,
          2012,
          2013,
          2014,
          2015,
          2016,
          2017,
          2018,
          2019,
          2020
         ],
         "y": [
          1,
          2,
          1,
          13,
          4,
          6,
          19,
          58,
          264,
          913,
          1290,
          1546,
          147
         ]
        }
       ],
       "layout": {
        "legend": {
         "orientation": "h",
         "x": 0.1,
         "y": 1.1
        },
        "template": {
         "data": {
          "bar": [
           {
            "error_x": {
             "color": "#2a3f5f"
            },
            "error_y": {
             "color": "#2a3f5f"
            },
            "marker": {
             "line": {
              "color": "#E5ECF6",
              "width": 0.5
             }
            },
            "type": "bar"
           }
          ],
          "barpolar": [
           {
            "marker": {
             "line": {
              "color": "#E5ECF6",
              "width": 0.5
             }
            },
            "type": "barpolar"
           }
          ],
          "carpet": [
           {
            "aaxis": {
             "endlinecolor": "#2a3f5f",
             "gridcolor": "white",
             "linecolor": "white",
             "minorgridcolor": "white",
             "startlinecolor": "#2a3f5f"
            },
            "baxis": {
             "endlinecolor": "#2a3f5f",
             "gridcolor": "white",
             "linecolor": "white",
             "minorgridcolor": "white",
             "startlinecolor": "#2a3f5f"
            },
            "type": "carpet"
           }
          ],
          "choropleth": [
           {
            "colorbar": {
             "outlinewidth": 0,
             "ticks": ""
            },
            "type": "choropleth"
           }
          ],
          "contour": [
           {
            "colorbar": {
             "outlinewidth": 0,
             "ticks": ""
            },
            "colorscale": [
             [
              0,
              "#0d0887"
             ],
             [
              0.1111111111111111,
              "#46039f"
             ],
             [
              0.2222222222222222,
              "#7201a8"
             ],
             [
              0.3333333333333333,
              "#9c179e"
             ],
             [
              0.4444444444444444,
              "#bd3786"
             ],
             [
              0.5555555555555556,
              "#d8576b"
             ],
             [
              0.6666666666666666,
              "#ed7953"
             ],
             [
              0.7777777777777778,
              "#fb9f3a"
             ],
             [
              0.8888888888888888,
              "#fdca26"
             ],
             [
              1,
              "#f0f921"
             ]
            ],
            "type": "contour"
           }
          ],
          "contourcarpet": [
           {
            "colorbar": {
             "outlinewidth": 0,
             "ticks": ""
            },
            "type": "contourcarpet"
           }
          ],
          "heatmap": [
           {
            "colorbar": {
             "outlinewidth": 0,
             "ticks": ""
            },
            "colorscale": [
             [
              0,
              "#0d0887"
             ],
             [
              0.1111111111111111,
              "#46039f"
             ],
             [
              0.2222222222222222,
              "#7201a8"
             ],
             [
              0.3333333333333333,
              "#9c179e"
             ],
             [
              0.4444444444444444,
              "#bd3786"
             ],
             [
              0.5555555555555556,
              "#d8576b"
             ],
             [
              0.6666666666666666,
              "#ed7953"
             ],
             [
              0.7777777777777778,
              "#fb9f3a"
             ],
             [
              0.8888888888888888,
              "#fdca26"
             ],
             [
              1,
              "#f0f921"
             ]
            ],
            "type": "heatmap"
           }
          ],
          "heatmapgl": [
           {
            "colorbar": {
             "outlinewidth": 0,
             "ticks": ""
            },
            "colorscale": [
             [
              0,
              "#0d0887"
             ],
             [
              0.1111111111111111,
              "#46039f"
             ],
             [
              0.2222222222222222,
              "#7201a8"
             ],
             [
              0.3333333333333333,
              "#9c179e"
             ],
             [
              0.4444444444444444,
              "#bd3786"
             ],
             [
              0.5555555555555556,
              "#d8576b"
             ],
             [
              0.6666666666666666,
              "#ed7953"
             ],
             [
              0.7777777777777778,
              "#fb9f3a"
             ],
             [
              0.8888888888888888,
              "#fdca26"
             ],
             [
              1,
              "#f0f921"
             ]
            ],
            "type": "heatmapgl"
           }
          ],
          "histogram": [
           {
            "marker": {
             "colorbar": {
              "outlinewidth": 0,
              "ticks": ""
             }
            },
            "type": "histogram"
           }
          ],
          "histogram2d": [
           {
            "colorbar": {
             "outlinewidth": 0,
             "ticks": ""
            },
            "colorscale": [
             [
              0,
              "#0d0887"
             ],
             [
              0.1111111111111111,
              "#46039f"
             ],
             [
              0.2222222222222222,
              "#7201a8"
             ],
             [
              0.3333333333333333,
              "#9c179e"
             ],
             [
              0.4444444444444444,
              "#bd3786"
             ],
             [
              0.5555555555555556,
              "#d8576b"
             ],
             [
              0.6666666666666666,
              "#ed7953"
             ],
             [
              0.7777777777777778,
              "#fb9f3a"
             ],
             [
              0.8888888888888888,
              "#fdca26"
             ],
             [
              1,
              "#f0f921"
             ]
            ],
            "type": "histogram2d"
           }
          ],
          "histogram2dcontour": [
           {
            "colorbar": {
             "outlinewidth": 0,
             "ticks": ""
            },
            "colorscale": [
             [
              0,
              "#0d0887"
             ],
             [
              0.1111111111111111,
              "#46039f"
             ],
             [
              0.2222222222222222,
              "#7201a8"
             ],
             [
              0.3333333333333333,
              "#9c179e"
             ],
             [
              0.4444444444444444,
              "#bd3786"
             ],
             [
              0.5555555555555556,
              "#d8576b"
             ],
             [
              0.6666666666666666,
              "#ed7953"
             ],
             [
              0.7777777777777778,
              "#fb9f3a"
             ],
             [
              0.8888888888888888,
              "#fdca26"
             ],
             [
              1,
              "#f0f921"
             ]
            ],
            "type": "histogram2dcontour"
           }
          ],
          "mesh3d": [
           {
            "colorbar": {
             "outlinewidth": 0,
             "ticks": ""
            },
            "type": "mesh3d"
           }
          ],
          "parcoords": [
           {
            "line": {
             "colorbar": {
              "outlinewidth": 0,
              "ticks": ""
             }
            },
            "type": "parcoords"
           }
          ],
          "pie": [
           {
            "automargin": true,
            "type": "pie"
           }
          ],
          "scatter": [
           {
            "marker": {
             "colorbar": {
              "outlinewidth": 0,
              "ticks": ""
             }
            },
            "type": "scatter"
           }
          ],
          "scatter3d": [
           {
            "line": {
             "colorbar": {
              "outlinewidth": 0,
              "ticks": ""
             }
            },
            "marker": {
             "colorbar": {
              "outlinewidth": 0,
              "ticks": ""
             }
            },
            "type": "scatter3d"
           }
          ],
          "scattercarpet": [
           {
            "marker": {
             "colorbar": {
              "outlinewidth": 0,
              "ticks": ""
             }
            },
            "type": "scattercarpet"
           }
          ],
          "scattergeo": [
           {
            "marker": {
             "colorbar": {
              "outlinewidth": 0,
              "ticks": ""
             }
            },
            "type": "scattergeo"
           }
          ],
          "scattergl": [
           {
            "marker": {
             "colorbar": {
              "outlinewidth": 0,
              "ticks": ""
             }
            },
            "type": "scattergl"
           }
          ],
          "scattermapbox": [
           {
            "marker": {
             "colorbar": {
              "outlinewidth": 0,
              "ticks": ""
             }
            },
            "type": "scattermapbox"
           }
          ],
          "scatterpolar": [
           {
            "marker": {
             "colorbar": {
              "outlinewidth": 0,
              "ticks": ""
             }
            },
            "type": "scatterpolar"
           }
          ],
          "scatterpolargl": [
           {
            "marker": {
             "colorbar": {
              "outlinewidth": 0,
              "ticks": ""
             }
            },
            "type": "scatterpolargl"
           }
          ],
          "scatterternary": [
           {
            "marker": {
             "colorbar": {
              "outlinewidth": 0,
              "ticks": ""
             }
            },
            "type": "scatterternary"
           }
          ],
          "surface": [
           {
            "colorbar": {
             "outlinewidth": 0,
             "ticks": ""
            },
            "colorscale": [
             [
              0,
              "#0d0887"
             ],
             [
              0.1111111111111111,
              "#46039f"
             ],
             [
              0.2222222222222222,
              "#7201a8"
             ],
             [
              0.3333333333333333,
              "#9c179e"
             ],
             [
              0.4444444444444444,
              "#bd3786"
             ],
             [
              0.5555555555555556,
              "#d8576b"
             ],
             [
              0.6666666666666666,
              "#ed7953"
             ],
             [
              0.7777777777777778,
              "#fb9f3a"
             ],
             [
              0.8888888888888888,
              "#fdca26"
             ],
             [
              1,
              "#f0f921"
             ]
            ],
            "type": "surface"
           }
          ],
          "table": [
           {
            "cells": {
             "fill": {
              "color": "#EBF0F8"
             },
             "line": {
              "color": "white"
             }
            },
            "header": {
             "fill": {
              "color": "#C8D4E3"
             },
             "line": {
              "color": "white"
             }
            },
            "type": "table"
           }
          ]
         },
         "layout": {
          "annotationdefaults": {
           "arrowcolor": "#2a3f5f",
           "arrowhead": 0,
           "arrowwidth": 1
          },
          "coloraxis": {
           "colorbar": {
            "outlinewidth": 0,
            "ticks": ""
           }
          },
          "colorscale": {
           "diverging": [
            [
             0,
             "#8e0152"
            ],
            [
             0.1,
             "#c51b7d"
            ],
            [
             0.2,
             "#de77ae"
            ],
            [
             0.3,
             "#f1b6da"
            ],
            [
             0.4,
             "#fde0ef"
            ],
            [
             0.5,
             "#f7f7f7"
            ],
            [
             0.6,
             "#e6f5d0"
            ],
            [
             0.7,
             "#b8e186"
            ],
            [
             0.8,
             "#7fbc41"
            ],
            [
             0.9,
             "#4d9221"
            ],
            [
             1,
             "#276419"
            ]
           ],
           "sequential": [
            [
             0,
             "#0d0887"
            ],
            [
             0.1111111111111111,
             "#46039f"
            ],
            [
             0.2222222222222222,
             "#7201a8"
            ],
            [
             0.3333333333333333,
             "#9c179e"
            ],
            [
             0.4444444444444444,
             "#bd3786"
            ],
            [
             0.5555555555555556,
             "#d8576b"
            ],
            [
             0.6666666666666666,
             "#ed7953"
            ],
            [
             0.7777777777777778,
             "#fb9f3a"
            ],
            [
             0.8888888888888888,
             "#fdca26"
            ],
            [
             1,
             "#f0f921"
            ]
           ],
           "sequentialminus": [
            [
             0,
             "#0d0887"
            ],
            [
             0.1111111111111111,
             "#46039f"
            ],
            [
             0.2222222222222222,
             "#7201a8"
            ],
            [
             0.3333333333333333,
             "#9c179e"
            ],
            [
             0.4444444444444444,
             "#bd3786"
            ],
            [
             0.5555555555555556,
             "#d8576b"
            ],
            [
             0.6666666666666666,
             "#ed7953"
            ],
            [
             0.7777777777777778,
             "#fb9f3a"
            ],
            [
             0.8888888888888888,
             "#fdca26"
            ],
            [
             1,
             "#f0f921"
            ]
           ]
          },
          "colorway": [
           "#636efa",
           "#EF553B",
           "#00cc96",
           "#ab63fa",
           "#FFA15A",
           "#19d3f3",
           "#FF6692",
           "#B6E880",
           "#FF97FF",
           "#FECB52"
          ],
          "font": {
           "color": "#2a3f5f"
          },
          "geo": {
           "bgcolor": "white",
           "lakecolor": "white",
           "landcolor": "#E5ECF6",
           "showlakes": true,
           "showland": true,
           "subunitcolor": "white"
          },
          "hoverlabel": {
           "align": "left"
          },
          "hovermode": "closest",
          "mapbox": {
           "style": "light"
          },
          "paper_bgcolor": "white",
          "plot_bgcolor": "#E5ECF6",
          "polar": {
           "angularaxis": {
            "gridcolor": "white",
            "linecolor": "white",
            "ticks": ""
           },
           "bgcolor": "#E5ECF6",
           "radialaxis": {
            "gridcolor": "white",
            "linecolor": "white",
            "ticks": ""
           }
          },
          "scene": {
           "xaxis": {
            "backgroundcolor": "#E5ECF6",
            "gridcolor": "white",
            "gridwidth": 2,
            "linecolor": "white",
            "showbackground": true,
            "ticks": "",
            "zerolinecolor": "white"
           },
           "yaxis": {
            "backgroundcolor": "#E5ECF6",
            "gridcolor": "white",
            "gridwidth": 2,
            "linecolor": "white",
            "showbackground": true,
            "ticks": "",
            "zerolinecolor": "white"
           },
           "zaxis": {
            "backgroundcolor": "#E5ECF6",
            "gridcolor": "white",
            "gridwidth": 2,
            "linecolor": "white",
            "showbackground": true,
            "ticks": "",
            "zerolinecolor": "white"
           }
          },
          "shapedefaults": {
           "line": {
            "color": "#2a3f5f"
           }
          },
          "ternary": {
           "aaxis": {
            "gridcolor": "white",
            "linecolor": "white",
            "ticks": ""
           },
           "baxis": {
            "gridcolor": "white",
            "linecolor": "white",
            "ticks": ""
           },
           "bgcolor": "#E5ECF6",
           "caxis": {
            "gridcolor": "white",
            "linecolor": "white",
            "ticks": ""
           }
          },
          "title": {
           "x": 0.05
          },
          "xaxis": {
           "automargin": true,
           "gridcolor": "white",
           "linecolor": "white",
           "ticks": "",
           "title": {
            "standoff": 15
           },
           "zerolinecolor": "white",
           "zerolinewidth": 2
          },
          "yaxis": {
           "automargin": true,
           "gridcolor": "white",
           "linecolor": "white",
           "ticks": "",
           "title": {
            "standoff": 15
           },
           "zerolinecolor": "white",
           "zerolinewidth": 2
          }
         }
        },
        "title": {
         "text": "Amount of Content Added Over Time"
        }
       }
      }
     },
     "metadata": {}
    }
   ],
   "source": [
    "d1 = df[df[\"type\"] == \"TV Show\"]\n",
    "d2 = df[df[\"type\"] == \"Movie\"]\n",
    "\n",
    "col = \"year_added\"\n",
    "\n",
    "vc1 = d1[col].value_counts().reset_index()\n",
    "vc1 = vc1.rename(columns = {col : \"count\", \"index\" : col})\n",
    "vc1['percent'] = vc1['count'].apply(lambda x : 100*x/sum(vc1['count']))\n",
    "vc1 = vc1.sort_values(col)\n",
    "\n",
    "vc2 = d2[col].value_counts().reset_index()\n",
    "vc2 = vc2.rename(columns = {col : \"count\", \"index\" : col})\n",
    "vc2['percent'] = vc2['count'].apply(lambda x : 100*x/sum(vc2['count']))\n",
    "vc2 = vc2.sort_values(col)\n",
    "\n",
    "trace1 = go.Scatter(x=vc1[col], y=vc1[\"count\"], name=\"TV Shows\", marker=dict(color=\"#a678de\"))\n",
    "trace2 = go.Scatter(x=vc2[col], y=vc2[\"count\"], name=\"Movies\", marker=dict(color=\"#6ad49b\"))\n",
    "data = [trace1, trace2]\n",
    "layout = go.Layout(title=\"Amount of Content Added Over Time\", legend=dict(x=0.1, y=1.1, orientation=\"h\"))\n",
    "fig = go.Figure(data, layout=layout)\n",
    "fig.show()"
   ]
  },
  {
   "cell_type": "code",
   "execution_count": null,
   "metadata": {},
   "outputs": [],
   "source": [
    "# Months in which content was added"
   ]
  },
  {
   "cell_type": "code",
   "execution_count": 13,
   "metadata": {},
   "outputs": [
    {
     "output_type": "display_data",
     "data": {
      "application/vnd.plotly.v1+json": {
       "config": {
        "plotlyServerURL": "https://plot.ly"
       },
       "data": [
        {
         "marker": {
          "color": "#a678de"
         },
         "name": "TV Shows",
         "type": "bar",
         "x": [
          1,
          2,
          3,
          4,
          5,
          6,
          7,
          8,
          9,
          10,
          11,
          12
         ],
         "y": [
          152,
          115,
          160,
          139,
          133,
          133,
          161,
          175,
          172,
          205,
          191,
          223
         ]
        }
       ],
       "layout": {
        "legend": {
         "orientation": "h",
         "x": 0.1,
         "y": 1.1
        },
        "template": {
         "data": {
          "bar": [
           {
            "error_x": {
             "color": "#2a3f5f"
            },
            "error_y": {
             "color": "#2a3f5f"
            },
            "marker": {
             "line": {
              "color": "#E5ECF6",
              "width": 0.5
             }
            },
            "type": "bar"
           }
          ],
          "barpolar": [
           {
            "marker": {
             "line": {
              "color": "#E5ECF6",
              "width": 0.5
             }
            },
            "type": "barpolar"
           }
          ],
          "carpet": [
           {
            "aaxis": {
             "endlinecolor": "#2a3f5f",
             "gridcolor": "white",
             "linecolor": "white",
             "minorgridcolor": "white",
             "startlinecolor": "#2a3f5f"
            },
            "baxis": {
             "endlinecolor": "#2a3f5f",
             "gridcolor": "white",
             "linecolor": "white",
             "minorgridcolor": "white",
             "startlinecolor": "#2a3f5f"
            },
            "type": "carpet"
           }
          ],
          "choropleth": [
           {
            "colorbar": {
             "outlinewidth": 0,
             "ticks": ""
            },
            "type": "choropleth"
           }
          ],
          "contour": [
           {
            "colorbar": {
             "outlinewidth": 0,
             "ticks": ""
            },
            "colorscale": [
             [
              0,
              "#0d0887"
             ],
             [
              0.1111111111111111,
              "#46039f"
             ],
             [
              0.2222222222222222,
              "#7201a8"
             ],
             [
              0.3333333333333333,
              "#9c179e"
             ],
             [
              0.4444444444444444,
              "#bd3786"
             ],
             [
              0.5555555555555556,
              "#d8576b"
             ],
             [
              0.6666666666666666,
              "#ed7953"
             ],
             [
              0.7777777777777778,
              "#fb9f3a"
             ],
             [
              0.8888888888888888,
              "#fdca26"
             ],
             [
              1,
              "#f0f921"
             ]
            ],
            "type": "contour"
           }
          ],
          "contourcarpet": [
           {
            "colorbar": {
             "outlinewidth": 0,
             "ticks": ""
            },
            "type": "contourcarpet"
           }
          ],
          "heatmap": [
           {
            "colorbar": {
             "outlinewidth": 0,
             "ticks": ""
            },
            "colorscale": [
             [
              0,
              "#0d0887"
             ],
             [
              0.1111111111111111,
              "#46039f"
             ],
             [
              0.2222222222222222,
              "#7201a8"
             ],
             [
              0.3333333333333333,
              "#9c179e"
             ],
             [
              0.4444444444444444,
              "#bd3786"
             ],
             [
              0.5555555555555556,
              "#d8576b"
             ],
             [
              0.6666666666666666,
              "#ed7953"
             ],
             [
              0.7777777777777778,
              "#fb9f3a"
             ],
             [
              0.8888888888888888,
              "#fdca26"
             ],
             [
              1,
              "#f0f921"
             ]
            ],
            "type": "heatmap"
           }
          ],
          "heatmapgl": [
           {
            "colorbar": {
             "outlinewidth": 0,
             "ticks": ""
            },
            "colorscale": [
             [
              0,
              "#0d0887"
             ],
             [
              0.1111111111111111,
              "#46039f"
             ],
             [
              0.2222222222222222,
              "#7201a8"
             ],
             [
              0.3333333333333333,
              "#9c179e"
             ],
             [
              0.4444444444444444,
              "#bd3786"
             ],
             [
              0.5555555555555556,
              "#d8576b"
             ],
             [
              0.6666666666666666,
              "#ed7953"
             ],
             [
              0.7777777777777778,
              "#fb9f3a"
             ],
             [
              0.8888888888888888,
              "#fdca26"
             ],
             [
              1,
              "#f0f921"
             ]
            ],
            "type": "heatmapgl"
           }
          ],
          "histogram": [
           {
            "marker": {
             "colorbar": {
              "outlinewidth": 0,
              "ticks": ""
             }
            },
            "type": "histogram"
           }
          ],
          "histogram2d": [
           {
            "colorbar": {
             "outlinewidth": 0,
             "ticks": ""
            },
            "colorscale": [
             [
              0,
              "#0d0887"
             ],
             [
              0.1111111111111111,
              "#46039f"
             ],
             [
              0.2222222222222222,
              "#7201a8"
             ],
             [
              0.3333333333333333,
              "#9c179e"
             ],
             [
              0.4444444444444444,
              "#bd3786"
             ],
             [
              0.5555555555555556,
              "#d8576b"
             ],
             [
              0.6666666666666666,
              "#ed7953"
             ],
             [
              0.7777777777777778,
              "#fb9f3a"
             ],
             [
              0.8888888888888888,
              "#fdca26"
             ],
             [
              1,
              "#f0f921"
             ]
            ],
            "type": "histogram2d"
           }
          ],
          "histogram2dcontour": [
           {
            "colorbar": {
             "outlinewidth": 0,
             "ticks": ""
            },
            "colorscale": [
             [
              0,
              "#0d0887"
             ],
             [
              0.1111111111111111,
              "#46039f"
             ],
             [
              0.2222222222222222,
              "#7201a8"
             ],
             [
              0.3333333333333333,
              "#9c179e"
             ],
             [
              0.4444444444444444,
              "#bd3786"
             ],
             [
              0.5555555555555556,
              "#d8576b"
             ],
             [
              0.6666666666666666,
              "#ed7953"
             ],
             [
              0.7777777777777778,
              "#fb9f3a"
             ],
             [
              0.8888888888888888,
              "#fdca26"
             ],
             [
              1,
              "#f0f921"
             ]
            ],
            "type": "histogram2dcontour"
           }
          ],
          "mesh3d": [
           {
            "colorbar": {
             "outlinewidth": 0,
             "ticks": ""
            },
            "type": "mesh3d"
           }
          ],
          "parcoords": [
           {
            "line": {
             "colorbar": {
              "outlinewidth": 0,
              "ticks": ""
             }
            },
            "type": "parcoords"
           }
          ],
          "pie": [
           {
            "automargin": true,
            "type": "pie"
           }
          ],
          "scatter": [
           {
            "marker": {
             "colorbar": {
              "outlinewidth": 0,
              "ticks": ""
             }
            },
            "type": "scatter"
           }
          ],
          "scatter3d": [
           {
            "line": {
             "colorbar": {
              "outlinewidth": 0,
              "ticks": ""
             }
            },
            "marker": {
             "colorbar": {
              "outlinewidth": 0,
              "ticks": ""
             }
            },
            "type": "scatter3d"
           }
          ],
          "scattercarpet": [
           {
            "marker": {
             "colorbar": {
              "outlinewidth": 0,
              "ticks": ""
             }
            },
            "type": "scattercarpet"
           }
          ],
          "scattergeo": [
           {
            "marker": {
             "colorbar": {
              "outlinewidth": 0,
              "ticks": ""
             }
            },
            "type": "scattergeo"
           }
          ],
          "scattergl": [
           {
            "marker": {
             "colorbar": {
              "outlinewidth": 0,
              "ticks": ""
             }
            },
            "type": "scattergl"
           }
          ],
          "scattermapbox": [
           {
            "marker": {
             "colorbar": {
              "outlinewidth": 0,
              "ticks": ""
             }
            },
            "type": "scattermapbox"
           }
          ],
          "scatterpolar": [
           {
            "marker": {
             "colorbar": {
              "outlinewidth": 0,
              "ticks": ""
             }
            },
            "type": "scatterpolar"
           }
          ],
          "scatterpolargl": [
           {
            "marker": {
             "colorbar": {
              "outlinewidth": 0,
              "ticks": ""
             }
            },
            "type": "scatterpolargl"
           }
          ],
          "scatterternary": [
           {
            "marker": {
             "colorbar": {
              "outlinewidth": 0,
              "ticks": ""
             }
            },
            "type": "scatterternary"
           }
          ],
          "surface": [
           {
            "colorbar": {
             "outlinewidth": 0,
             "ticks": ""
            },
            "colorscale": [
             [
              0,
              "#0d0887"
             ],
             [
              0.1111111111111111,
              "#46039f"
             ],
             [
              0.2222222222222222,
              "#7201a8"
             ],
             [
              0.3333333333333333,
              "#9c179e"
             ],
             [
              0.4444444444444444,
              "#bd3786"
             ],
             [
              0.5555555555555556,
              "#d8576b"
             ],
             [
              0.6666666666666666,
              "#ed7953"
             ],
             [
              0.7777777777777778,
              "#fb9f3a"
             ],
             [
              0.8888888888888888,
              "#fdca26"
             ],
             [
              1,
              "#f0f921"
             ]
            ],
            "type": "surface"
           }
          ],
          "table": [
           {
            "cells": {
             "fill": {
              "color": "#EBF0F8"
             },
             "line": {
              "color": "white"
             }
            },
            "header": {
             "fill": {
              "color": "#C8D4E3"
             },
             "line": {
              "color": "white"
             }
            },
            "type": "table"
           }
          ]
         },
         "layout": {
          "annotationdefaults": {
           "arrowcolor": "#2a3f5f",
           "arrowhead": 0,
           "arrowwidth": 1
          },
          "coloraxis": {
           "colorbar": {
            "outlinewidth": 0,
            "ticks": ""
           }
          },
          "colorscale": {
           "diverging": [
            [
             0,
             "#8e0152"
            ],
            [
             0.1,
             "#c51b7d"
            ],
            [
             0.2,
             "#de77ae"
            ],
            [
             0.3,
             "#f1b6da"
            ],
            [
             0.4,
             "#fde0ef"
            ],
            [
             0.5,
             "#f7f7f7"
            ],
            [
             0.6,
             "#e6f5d0"
            ],
            [
             0.7,
             "#b8e186"
            ],
            [
             0.8,
             "#7fbc41"
            ],
            [
             0.9,
             "#4d9221"
            ],
            [
             1,
             "#276419"
            ]
           ],
           "sequential": [
            [
             0,
             "#0d0887"
            ],
            [
             0.1111111111111111,
             "#46039f"
            ],
            [
             0.2222222222222222,
             "#7201a8"
            ],
            [
             0.3333333333333333,
             "#9c179e"
            ],
            [
             0.4444444444444444,
             "#bd3786"
            ],
            [
             0.5555555555555556,
             "#d8576b"
            ],
            [
             0.6666666666666666,
             "#ed7953"
            ],
            [
             0.7777777777777778,
             "#fb9f3a"
            ],
            [
             0.8888888888888888,
             "#fdca26"
            ],
            [
             1,
             "#f0f921"
            ]
           ],
           "sequentialminus": [
            [
             0,
             "#0d0887"
            ],
            [
             0.1111111111111111,
             "#46039f"
            ],
            [
             0.2222222222222222,
             "#7201a8"
            ],
            [
             0.3333333333333333,
             "#9c179e"
            ],
            [
             0.4444444444444444,
             "#bd3786"
            ],
            [
             0.5555555555555556,
             "#d8576b"
            ],
            [
             0.6666666666666666,
             "#ed7953"
            ],
            [
             0.7777777777777778,
             "#fb9f3a"
            ],
            [
             0.8888888888888888,
             "#fdca26"
            ],
            [
             1,
             "#f0f921"
            ]
           ]
          },
          "colorway": [
           "#636efa",
           "#EF553B",
           "#00cc96",
           "#ab63fa",
           "#FFA15A",
           "#19d3f3",
           "#FF6692",
           "#B6E880",
           "#FF97FF",
           "#FECB52"
          ],
          "font": {
           "color": "#2a3f5f"
          },
          "geo": {
           "bgcolor": "white",
           "lakecolor": "white",
           "landcolor": "#E5ECF6",
           "showlakes": true,
           "showland": true,
           "subunitcolor": "white"
          },
          "hoverlabel": {
           "align": "left"
          },
          "hovermode": "closest",
          "mapbox": {
           "style": "light"
          },
          "paper_bgcolor": "white",
          "plot_bgcolor": "#E5ECF6",
          "polar": {
           "angularaxis": {
            "gridcolor": "white",
            "linecolor": "white",
            "ticks": ""
           },
           "bgcolor": "#E5ECF6",
           "radialaxis": {
            "gridcolor": "white",
            "linecolor": "white",
            "ticks": ""
           }
          },
          "scene": {
           "xaxis": {
            "backgroundcolor": "#E5ECF6",
            "gridcolor": "white",
            "gridwidth": 2,
            "linecolor": "white",
            "showbackground": true,
            "ticks": "",
            "zerolinecolor": "white"
           },
           "yaxis": {
            "backgroundcolor": "#E5ECF6",
            "gridcolor": "white",
            "gridwidth": 2,
            "linecolor": "white",
            "showbackground": true,
            "ticks": "",
            "zerolinecolor": "white"
           },
           "zaxis": {
            "backgroundcolor": "#E5ECF6",
            "gridcolor": "white",
            "gridwidth": 2,
            "linecolor": "white",
            "showbackground": true,
            "ticks": "",
            "zerolinecolor": "white"
           }
          },
          "shapedefaults": {
           "line": {
            "color": "#2a3f5f"
           }
          },
          "ternary": {
           "aaxis": {
            "gridcolor": "white",
            "linecolor": "white",
            "ticks": ""
           },
           "baxis": {
            "gridcolor": "white",
            "linecolor": "white",
            "ticks": ""
           },
           "bgcolor": "#E5ECF6",
           "caxis": {
            "gridcolor": "white",
            "linecolor": "white",
            "ticks": ""
           }
          },
          "title": {
           "x": 0.05
          },
          "xaxis": {
           "automargin": true,
           "gridcolor": "white",
           "linecolor": "white",
           "ticks": "",
           "title": {
            "standoff": 15
           },
           "zerolinecolor": "white",
           "zerolinewidth": 2
          },
          "yaxis": {
           "automargin": true,
           "gridcolor": "white",
           "linecolor": "white",
           "ticks": "",
           "title": {
            "standoff": 15
           },
           "zerolinecolor": "white",
           "zerolinewidth": 2
          }
         }
        },
        "title": {
         "text": "In which month, the conent is added the most?"
        }
       }
      }
     },
     "metadata": {}
    }
   ],
   "source": [
    "col = 'month_added'\n",
    "vc1 = d1[col].value_counts().reset_index()\n",
    "vc1 = vc1.rename(columns = {col : \"count\", \"index\" : col})\n",
    "vc1['percent'] = vc1['count'].apply(lambda x : 100*x/sum(vc1['count']))\n",
    "vc1 = vc1.sort_values(col)\n",
    "\n",
    "trace1 = go.Bar(x=vc1[col], y=vc1[\"count\"], name=\"TV Shows\", marker=dict(color=\"#a678de\"))\n",
    "data = [trace1]\n",
    "layout = go.Layout(title=\"Amount of Content Added by Month\", legend=dict(x=0.1, y=1.1, orientation=\"h\"))\n",
    "fig = go.Figure(data, layout=layout)\n",
    "fig.show()"
   ]
  },
  {
   "cell_type": "code",
   "execution_count": null,
   "metadata": {},
   "outputs": [],
   "source": [
    "# 15 Oldest movies released on Netflix"
   ]
  },
  {
   "cell_type": "code",
   "execution_count": 16,
   "metadata": {},
   "outputs": [
    {
     "output_type": "execute_result",
     "data": {
      "text/plain": "                              title  release_year\n3249  All the Freckles in the World          2020\n3427     Leslie Jones: Time Machine          2020\n3195          Live Twice, Love Once          2020\n3180                  Bulletproof 2          2020\n3518                  Ghost Stories          2020\n3352              A Fall from Grace          2020\n4730         Westside vs. the World          2019\n4751                    The Pursuit          2019\n1135                        Brother          2019\n1142                Shelby American          2019\n1179                      Mallesham          2019\n1153    The Knight Before Christmas          2019\n1177     Lorena, Light-Footed Woman          2019\n4771                Enter the Anime          2019\n1167   Bikram: Yogi, Guru, Predator          2019",
      "text/html": "<div>\n<style scoped>\n    .dataframe tbody tr th:only-of-type {\n        vertical-align: middle;\n    }\n\n    .dataframe tbody tr th {\n        vertical-align: top;\n    }\n\n    .dataframe thead th {\n        text-align: right;\n    }\n</style>\n<table border=\"1\" class=\"dataframe\">\n  <thead>\n    <tr style=\"text-align: right;\">\n      <th></th>\n      <th>title</th>\n      <th>release_year</th>\n    </tr>\n  </thead>\n  <tbody>\n    <tr>\n      <th>3249</th>\n      <td>All the Freckles in the World</td>\n      <td>2020</td>\n    </tr>\n    <tr>\n      <th>3427</th>\n      <td>Leslie Jones: Time Machine</td>\n      <td>2020</td>\n    </tr>\n    <tr>\n      <th>3195</th>\n      <td>Live Twice, Love Once</td>\n      <td>2020</td>\n    </tr>\n    <tr>\n      <th>3180</th>\n      <td>Bulletproof 2</td>\n      <td>2020</td>\n    </tr>\n    <tr>\n      <th>3518</th>\n      <td>Ghost Stories</td>\n      <td>2020</td>\n    </tr>\n    <tr>\n      <th>3352</th>\n      <td>A Fall from Grace</td>\n      <td>2020</td>\n    </tr>\n    <tr>\n      <th>4730</th>\n      <td>Westside vs. the World</td>\n      <td>2019</td>\n    </tr>\n    <tr>\n      <th>4751</th>\n      <td>The Pursuit</td>\n      <td>2019</td>\n    </tr>\n    <tr>\n      <th>1135</th>\n      <td>Brother</td>\n      <td>2019</td>\n    </tr>\n    <tr>\n      <th>1142</th>\n      <td>Shelby American</td>\n      <td>2019</td>\n    </tr>\n    <tr>\n      <th>1179</th>\n      <td>Mallesham</td>\n      <td>2019</td>\n    </tr>\n    <tr>\n      <th>1153</th>\n      <td>The Knight Before Christmas</td>\n      <td>2019</td>\n    </tr>\n    <tr>\n      <th>1177</th>\n      <td>Lorena, Light-Footed Woman</td>\n      <td>2019</td>\n    </tr>\n    <tr>\n      <th>4771</th>\n      <td>Enter the Anime</td>\n      <td>2019</td>\n    </tr>\n    <tr>\n      <th>1167</th>\n      <td>Bikram: Yogi, Guru, Predator</td>\n      <td>2019</td>\n    </tr>\n  </tbody>\n</table>\n</div>"
     },
     "metadata": {},
     "execution_count": 16
    }
   ],
   "source": [
    "small = df.sort_values(\"release_year\", ascending=False)\n",
    "small = small[small['duration'] != \"\"]\n",
    "small[['title', \"release_year\"]][:15]"
   ]
  },
  {
   "cell_type": "code",
   "execution_count": null,
   "metadata": {},
   "outputs": [],
   "source": [
    "# 15 Most recent films released on Netflix"
   ]
  },
  {
   "cell_type": "code",
   "execution_count": 17,
   "metadata": {},
   "outputs": [
    {
     "output_type": "execute_result",
     "data": {
      "text/plain": "                                                  title  release_year\n3467                                     Medical Police          2020\n3220                                            Dracula          2020\n3436                         The Healing Powers of Dude          2020\n3189                                              Cheer          2020\n3464                                   AJ and the Queen          2020\n3466                       Jamtara - Sabka Number Ayega          2020\n3472                                         Until Dawn          2020\n3541                                            Messiah          2020\n1315                                 Maradona in Mexico          2020\n3546  Nisman: The Prosecutor, the President, and the...          2020\n3562                                       Spinning Out          2020\n3573                                         The Circle          2020\n3221                                Go! Go! Cory Carson          2020\n3426                   Kipo and the Age of Wonderbeasts          2020\n3379         Killer Inside: The Mind of Aaron Hernandez          2020",
      "text/html": "<div>\n<style scoped>\n    .dataframe tbody tr th:only-of-type {\n        vertical-align: middle;\n    }\n\n    .dataframe tbody tr th {\n        vertical-align: top;\n    }\n\n    .dataframe thead th {\n        text-align: right;\n    }\n</style>\n<table border=\"1\" class=\"dataframe\">\n  <thead>\n    <tr style=\"text-align: right;\">\n      <th></th>\n      <th>title</th>\n      <th>release_year</th>\n    </tr>\n  </thead>\n  <tbody>\n    <tr>\n      <th>3467</th>\n      <td>Medical Police</td>\n      <td>2020</td>\n    </tr>\n    <tr>\n      <th>3220</th>\n      <td>Dracula</td>\n      <td>2020</td>\n    </tr>\n    <tr>\n      <th>3436</th>\n      <td>The Healing Powers of Dude</td>\n      <td>2020</td>\n    </tr>\n    <tr>\n      <th>3189</th>\n      <td>Cheer</td>\n      <td>2020</td>\n    </tr>\n    <tr>\n      <th>3464</th>\n      <td>AJ and the Queen</td>\n      <td>2020</td>\n    </tr>\n    <tr>\n      <th>3466</th>\n      <td>Jamtara - Sabka Number Ayega</td>\n      <td>2020</td>\n    </tr>\n    <tr>\n      <th>3472</th>\n      <td>Until Dawn</td>\n      <td>2020</td>\n    </tr>\n    <tr>\n      <th>3541</th>\n      <td>Messiah</td>\n      <td>2020</td>\n    </tr>\n    <tr>\n      <th>1315</th>\n      <td>Maradona in Mexico</td>\n      <td>2020</td>\n    </tr>\n    <tr>\n      <th>3546</th>\n      <td>Nisman: The Prosecutor, the President, and the...</td>\n      <td>2020</td>\n    </tr>\n    <tr>\n      <th>3562</th>\n      <td>Spinning Out</td>\n      <td>2020</td>\n    </tr>\n    <tr>\n      <th>3573</th>\n      <td>The Circle</td>\n      <td>2020</td>\n    </tr>\n    <tr>\n      <th>3221</th>\n      <td>Go! Go! Cory Carson</td>\n      <td>2020</td>\n    </tr>\n    <tr>\n      <th>3426</th>\n      <td>Kipo and the Age of Wonderbeasts</td>\n      <td>2020</td>\n    </tr>\n    <tr>\n      <th>3379</th>\n      <td>Killer Inside: The Mind of Aaron Hernandez</td>\n      <td>2020</td>\n    </tr>\n  </tbody>\n</table>\n</div>"
     },
     "metadata": {},
     "execution_count": 17
    }
   ],
   "source": [
    "small = df.sort_values(\"release_year\", ascending = False)\n",
    "small = small[small['season_count'] != \"\"]\n",
    "small[['title', \"release_year\"]][:15]"
   ]
  },
  {
   "cell_type": "code",
   "execution_count": null,
   "metadata": {},
   "outputs": [],
   "source": [
    "# Percentage Breakdown by content catagory "
   ]
  },
  {
   "cell_type": "code",
   "execution_count": 21,
   "metadata": {},
   "outputs": [
    {
     "output_type": "display_data",
     "data": {
      "text/plain": "<Figure size 1080x576 with 1 Axes>",
      "image/svg+xml": "<?xml version=\"1.0\" encoding=\"utf-8\" standalone=\"no\"?>\n<!DOCTYPE svg PUBLIC \"-//W3C//DTD SVG 1.1//EN\"\n  \"http://www.w3.org/Graphics/SVG/1.1/DTD/svg11.dtd\">\n<!-- Created with matplotlib (https://matplotlib.org/) -->\n<svg height=\"469.839375pt\" version=\"1.1\" viewBox=\"0 0 763.801612 469.839375\" width=\"763.801612pt\" xmlns=\"http://www.w3.org/2000/svg\" xmlns:xlink=\"http://www.w3.org/1999/xlink\">\n <defs>\n  <style type=\"text/css\">\n*{stroke-linecap:butt;stroke-linejoin:round;}\n  </style>\n </defs>\n <g id=\"figure_1\">\n  <g id=\"patch_1\">\n   <path d=\"M 0 469.839375 \nL 763.801612 469.839375 \nL 763.801612 0 \nL 0 0 \nz\n\" style=\"fill:#ffffff;\"/>\n  </g>\n  <g id=\"axes_1\">\n   <g id=\"matplotlib.axis_1\"/>\n   <g id=\"matplotlib.axis_2\">\n    <g id=\"text_1\">\n     <!-- listed_in -->\n     <defs>\n      <path d=\"M 6.390625 0 \nL 6.390625 71.578125 \nL 15.1875 71.578125 \nL 15.1875 0 \nz\n\" id=\"ArialMT-108\"/>\n      <path d=\"M 6.640625 61.46875 \nL 6.640625 71.578125 \nL 15.4375 71.578125 \nL 15.4375 61.46875 \nz\nM 6.640625 0 \nL 6.640625 51.859375 \nL 15.4375 51.859375 \nL 15.4375 0 \nz\n\" id=\"ArialMT-105\"/>\n      <path d=\"M 3.078125 15.484375 \nL 11.765625 16.84375 \nQ 12.5 11.625 15.84375 8.84375 \nQ 19.1875 6.0625 25.203125 6.0625 \nQ 31.25 6.0625 34.171875 8.515625 \nQ 37.109375 10.984375 37.109375 14.3125 \nQ 37.109375 17.28125 34.515625 19 \nQ 32.71875 20.171875 25.53125 21.96875 \nQ 15.875 24.421875 12.140625 26.203125 \nQ 8.40625 27.984375 6.46875 31.125 \nQ 4.546875 34.28125 4.546875 38.09375 \nQ 4.546875 41.546875 6.125 44.5 \nQ 7.71875 47.46875 10.453125 49.421875 \nQ 12.5 50.921875 16.03125 51.96875 \nQ 19.578125 53.03125 23.640625 53.03125 \nQ 29.734375 53.03125 34.34375 51.265625 \nQ 38.96875 49.515625 41.15625 46.5 \nQ 43.359375 43.5 44.1875 38.484375 \nL 35.59375 37.3125 \nQ 35.015625 41.3125 32.203125 43.546875 \nQ 29.390625 45.796875 24.265625 45.796875 \nQ 18.21875 45.796875 15.625 43.796875 \nQ 13.03125 41.796875 13.03125 39.109375 \nQ 13.03125 37.40625 14.109375 36.03125 \nQ 15.1875 34.625 17.484375 33.6875 \nQ 18.796875 33.203125 25.25 31.453125 \nQ 34.578125 28.953125 38.25 27.359375 \nQ 41.9375 25.78125 44.03125 22.75 \nQ 46.140625 19.734375 46.140625 15.234375 \nQ 46.140625 10.84375 43.578125 6.953125 \nQ 41.015625 3.078125 36.171875 0.953125 \nQ 31.34375 -1.171875 25.25 -1.171875 \nQ 15.140625 -1.171875 9.84375 3.03125 \nQ 4.546875 7.234375 3.078125 15.484375 \nz\n\" id=\"ArialMT-115\"/>\n      <path d=\"M 25.78125 7.859375 \nL 27.046875 0.09375 \nQ 23.34375 -0.6875 20.40625 -0.6875 \nQ 15.625 -0.6875 12.984375 0.828125 \nQ 10.359375 2.34375 9.28125 4.8125 \nQ 8.203125 7.28125 8.203125 15.1875 \nL 8.203125 45.015625 \nL 1.765625 45.015625 \nL 1.765625 51.859375 \nL 8.203125 51.859375 \nL 8.203125 64.703125 \nL 16.9375 69.96875 \nL 16.9375 51.859375 \nL 25.78125 51.859375 \nL 25.78125 45.015625 \nL 16.9375 45.015625 \nL 16.9375 14.703125 \nQ 16.9375 10.9375 17.40625 9.859375 \nQ 17.875 8.796875 18.921875 8.15625 \nQ 19.96875 7.515625 21.921875 7.515625 \nQ 23.390625 7.515625 25.78125 7.859375 \nz\n\" id=\"ArialMT-116\"/>\n      <path d=\"M 42.09375 16.703125 \nL 51.171875 15.578125 \nQ 49.03125 7.625 43.21875 3.21875 \nQ 37.40625 -1.171875 28.375 -1.171875 \nQ 17 -1.171875 10.328125 5.828125 \nQ 3.65625 12.84375 3.65625 25.484375 \nQ 3.65625 38.578125 10.390625 45.796875 \nQ 17.140625 53.03125 27.875 53.03125 \nQ 38.28125 53.03125 44.875 45.953125 \nQ 51.46875 38.875 51.46875 26.03125 \nQ 51.46875 25.25 51.421875 23.6875 \nL 12.75 23.6875 \nQ 13.234375 15.140625 17.578125 10.59375 \nQ 21.921875 6.0625 28.421875 6.0625 \nQ 33.25 6.0625 36.671875 8.59375 \nQ 40.09375 11.140625 42.09375 16.703125 \nz\nM 13.234375 30.90625 \nL 42.1875 30.90625 \nQ 41.609375 37.453125 38.875 40.71875 \nQ 34.671875 45.796875 27.984375 45.796875 \nQ 21.921875 45.796875 17.796875 41.75 \nQ 13.671875 37.703125 13.234375 30.90625 \nz\n\" id=\"ArialMT-101\"/>\n      <path d=\"M 40.234375 0 \nL 40.234375 6.546875 \nQ 35.296875 -1.171875 25.734375 -1.171875 \nQ 19.53125 -1.171875 14.328125 2.25 \nQ 9.125 5.671875 6.265625 11.796875 \nQ 3.421875 17.921875 3.421875 25.875 \nQ 3.421875 33.640625 6 39.96875 \nQ 8.59375 46.296875 13.765625 49.65625 \nQ 18.953125 53.03125 25.34375 53.03125 \nQ 30.03125 53.03125 33.6875 51.046875 \nQ 37.359375 49.078125 39.65625 45.90625 \nL 39.65625 71.578125 \nL 48.390625 71.578125 \nL 48.390625 0 \nz\nM 12.453125 25.875 \nQ 12.453125 15.921875 16.640625 10.984375 \nQ 20.84375 6.0625 26.5625 6.0625 \nQ 32.328125 6.0625 36.34375 10.765625 \nQ 40.375 15.484375 40.375 25.140625 \nQ 40.375 35.796875 36.265625 40.765625 \nQ 32.171875 45.75 26.171875 45.75 \nQ 20.3125 45.75 16.375 40.96875 \nQ 12.453125 36.1875 12.453125 25.875 \nz\n\" id=\"ArialMT-100\"/>\n      <path d=\"M -1.515625 -19.875 \nL -1.515625 -13.53125 \nL 56.734375 -13.53125 \nL 56.734375 -19.875 \nz\n\" id=\"ArialMT-95\"/>\n      <path d=\"M 6.59375 0 \nL 6.59375 51.859375 \nL 14.5 51.859375 \nL 14.5 44.484375 \nQ 20.21875 53.03125 31 53.03125 \nQ 35.6875 53.03125 39.625 51.34375 \nQ 43.5625 49.65625 45.515625 46.921875 \nQ 47.46875 44.1875 48.25 40.4375 \nQ 48.734375 37.984375 48.734375 31.890625 \nL 48.734375 0 \nL 39.9375 0 \nL 39.9375 31.546875 \nQ 39.9375 36.921875 38.90625 39.578125 \nQ 37.890625 42.234375 35.28125 43.8125 \nQ 32.671875 45.40625 29.15625 45.40625 \nQ 23.53125 45.40625 19.453125 41.84375 \nQ 15.375 38.28125 15.375 28.328125 \nL 15.375 0 \nz\n\" id=\"ArialMT-110\"/>\n     </defs>\n     <g style=\"fill:#262626;\" transform=\"translate(155.391144 265.3775)rotate(-90)scale(0.11 -0.11)\">\n      <use xlink:href=\"#ArialMT-108\"/>\n      <use x=\"22.216797\" xlink:href=\"#ArialMT-105\"/>\n      <use x=\"44.433594\" xlink:href=\"#ArialMT-115\"/>\n      <use x=\"94.433594\" xlink:href=\"#ArialMT-116\"/>\n      <use x=\"122.216797\" xlink:href=\"#ArialMT-101\"/>\n      <use x=\"177.832031\" xlink:href=\"#ArialMT-100\"/>\n      <use x=\"233.447266\" xlink:href=\"#ArialMT-95\"/>\n      <use x=\"289.0625\" xlink:href=\"#ArialMT-105\"/>\n      <use x=\"311.279297\" xlink:href=\"#ArialMT-110\"/>\n     </g>\n    </g>\n   </g>\n   <g id=\"patch_2\">\n    <path d=\"M 552.969394 245.199375 \nC 552.969394 221.955237 548.310437 198.945144 539.268432 177.531781 \nC 530.226427 156.118419 516.983461 136.733009 500.3238 120.523578 \nL 379.017394 245.199375 \nL 552.969394 245.199375 \nz\n\" style=\"fill:#4c72b0;\"/>\n   </g>\n   <g id=\"patch_3\">\n    <path d=\"M 500.3238 120.523578 \nC 485.121137 105.731771 467.340376 93.8446 447.860924 85.449988 \nC 428.381473 77.055375 407.529856 72.294036 386.337361 71.401457 \nL 379.017394 245.199375 \nL 500.3238 120.523578 \nz\n\" style=\"fill:#55a868;\"/>\n   </g>\n   <g id=\"patch_4\">\n    <path d=\"M 386.337361 71.401457 \nC 367.094823 70.591006 347.850602 72.981892 329.391384 78.476379 \nC 310.932166 83.970866 293.512959 92.493049 277.845844 103.694549 \nL 379.017394 245.199375 \nL 386.337361 71.401457 \nz\n\" style=\"fill:#c44e52;\"/>\n   </g>\n   <g id=\"patch_5\">\n    <path d=\"M 277.845844 103.694549 \nC 266.107198 112.087316 255.458378 121.908247 246.145047 132.930779 \nC 236.831716 143.953311 228.926045 156.092026 222.610414 169.066892 \nL 379.017394 245.199375 \nL 277.845844 103.694549 \nz\n\" style=\"fill:#8172b2;\"/>\n   </g>\n   <g id=\"patch_6\">\n    <path d=\"M 222.610414 169.066892 \nC 216.703189 181.202727 212.228441 193.984953 209.276554 207.155381 \nC 206.324668 220.325808 204.915654 233.795157 205.077974 247.291358 \nL 379.017394 245.199375 \nL 222.610414 169.066892 \nz\n\" style=\"fill:#ccb974;\"/>\n   </g>\n   <g id=\"patch_7\">\n    <path d=\"M 205.077974 247.291358 \nC 205.226273 259.62181 206.6853 271.901613 209.430429 283.923522 \nC 212.175559 295.945431 216.191261 307.641433 221.409763 318.814135 \nL 379.017394 245.199375 \nL 205.077974 247.291358 \nz\n\" style=\"fill:#64b5cd;\"/>\n   </g>\n   <g id=\"patch_8\">\n    <path d=\"M 221.409763 318.814135 \nC 226.33237 329.353332 232.29972 339.372243 239.222149 348.720328 \nC 246.144579 358.068414 253.987244 366.69862 262.632303 374.481272 \nL 379.017394 245.199375 \nL 221.409763 318.814135 \nz\n\" style=\"fill:#4c72b0;\"/>\n   </g>\n   <g id=\"patch_9\">\n    <path d=\"M 262.632303 374.481272 \nC 270.065438 381.172898 278.061853 387.211016 286.532622 392.52848 \nC 295.00339 397.845943 303.916997 402.422967 313.174315 406.208652 \nL 379.017394 245.199375 \nL 262.632303 374.481272 \nz\n\" style=\"fill:#55a868;\"/>\n   </g>\n   <g id=\"patch_10\">\n    <path d=\"M 313.174315 406.208652 \nC 321.785057 409.729926 330.664416 412.554781 339.726922 414.656028 \nC 348.789428 416.757274 358.00591 418.128147 367.287652 418.755451 \nL 379.017394 245.199375 \nL 313.174315 406.208652 \nz\n\" style=\"fill:#c44e52;\"/>\n   </g>\n   <g id=\"patch_11\">\n    <path d=\"M 367.287652 418.755451 \nC 376.569395 419.382755 385.886521 419.264471 395.149347 418.401738 \nC 404.412173 417.539004 413.590882 415.934598 422.597124 413.603964 \nL 379.017394 245.199375 \nL 367.287652 418.755451 \nz\n\" style=\"fill:#8172b2;\"/>\n   </g>\n   <g id=\"patch_12\">\n    <path d=\"M 422.597124 413.603964 \nC 430.701918 411.506605 438.644741 408.826892 446.363642 405.585725 \nC 454.082543 402.344558 461.557403 398.550384 468.729922 394.232796 \nL 379.017394 245.199375 \nL 422.597124 413.603964 \nz\n\" style=\"fill:#ccb974;\"/>\n   </g>\n   <g id=\"patch_13\">\n    <path d=\"M 468.729922 394.232796 \nC 475.570112 390.115258 482.118721 385.531685 488.329286 380.514595 \nC 494.539851 375.497504 500.397651 370.058791 505.861126 364.237042 \nL 379.017394 245.199375 \nL 468.729922 394.232796 \nz\n\" style=\"fill:#64b5cd;\"/>\n   </g>\n   <g id=\"patch_14\">\n    <path d=\"M 505.861126 364.237042 \nC 511.00611 358.754668 515.790252 352.944495 520.183444 346.843089 \nC 524.576636 340.741684 528.569643 334.36187 532.137335 327.743799 \nL 379.017394 245.199375 \nL 505.861126 364.237042 \nz\n\" style=\"fill:#4c72b0;\"/>\n   </g>\n   <g id=\"patch_15\">\n    <path d=\"M 532.137335 327.743799 \nC 535.55781 321.398818 538.580595 314.84736 541.188202 308.127329 \nC 543.79581 301.407297 545.983201 294.531677 547.737722 287.540247 \nL 379.017394 245.199375 \nL 532.137335 327.743799 \nz\n\" style=\"fill:#55a868;\"/>\n   </g>\n   <g id=\"patch_16\">\n    <path d=\"M 547.737722 287.540247 \nC 549.473364 280.624041 550.782101 273.607652 551.656522 266.530806 \nC 552.530943 259.45396 552.969394 252.330038 552.969394 245.199375 \nL 379.017394 245.199375 \nL 547.737722 287.540247 \nz\n\" style=\"fill:#c44e52;\"/>\n   </g>\n   <g id=\"text_2\">\n    <!-- Documentaries -->\n    <defs>\n     <path d=\"M 7.71875 0 \nL 7.71875 71.578125 \nL 32.375 71.578125 \nQ 40.71875 71.578125 45.125 70.5625 \nQ 51.265625 69.140625 55.609375 65.4375 \nQ 61.28125 60.640625 64.078125 53.1875 \nQ 66.890625 45.75 66.890625 36.1875 \nQ 66.890625 28.03125 64.984375 21.734375 \nQ 63.09375 15.4375 60.109375 11.296875 \nQ 57.125 7.171875 53.578125 4.796875 \nQ 50.046875 2.4375 45.046875 1.21875 \nQ 40.046875 0 33.546875 0 \nz\nM 17.1875 8.453125 \nL 32.46875 8.453125 \nQ 39.546875 8.453125 43.578125 9.765625 \nQ 47.609375 11.078125 50 13.484375 \nQ 53.375 16.84375 55.25 22.53125 \nQ 57.125 28.21875 57.125 36.328125 \nQ 57.125 47.5625 53.4375 53.59375 \nQ 49.75 59.625 44.484375 61.671875 \nQ 40.671875 63.140625 32.234375 63.140625 \nL 17.1875 63.140625 \nz\n\" id=\"ArialMT-68\"/>\n     <path d=\"M 3.328125 25.921875 \nQ 3.328125 40.328125 11.328125 47.265625 \nQ 18.015625 53.03125 27.640625 53.03125 \nQ 38.328125 53.03125 45.109375 46.015625 \nQ 51.90625 39.015625 51.90625 26.65625 \nQ 51.90625 16.65625 48.90625 10.90625 \nQ 45.90625 5.171875 40.15625 2 \nQ 34.421875 -1.171875 27.640625 -1.171875 \nQ 16.75 -1.171875 10.03125 5.8125 \nQ 3.328125 12.796875 3.328125 25.921875 \nz\nM 12.359375 25.921875 \nQ 12.359375 15.96875 16.703125 11.015625 \nQ 21.046875 6.0625 27.640625 6.0625 \nQ 34.1875 6.0625 38.53125 11.03125 \nQ 42.875 16.015625 42.875 26.21875 \nQ 42.875 35.84375 38.5 40.796875 \nQ 34.125 45.75 27.640625 45.75 \nQ 21.046875 45.75 16.703125 40.8125 \nQ 12.359375 35.890625 12.359375 25.921875 \nz\n\" id=\"ArialMT-111\"/>\n     <path d=\"M 40.4375 19 \nL 49.078125 17.875 \nQ 47.65625 8.9375 41.8125 3.875 \nQ 35.984375 -1.171875 27.484375 -1.171875 \nQ 16.84375 -1.171875 10.375 5.78125 \nQ 3.90625 12.75 3.90625 25.734375 \nQ 3.90625 34.125 6.6875 40.421875 \nQ 9.46875 46.734375 15.15625 49.875 \nQ 20.84375 53.03125 27.546875 53.03125 \nQ 35.984375 53.03125 41.359375 48.75 \nQ 46.734375 44.484375 48.25 36.625 \nL 39.703125 35.296875 \nQ 38.484375 40.53125 35.375 43.15625 \nQ 32.28125 45.796875 27.875 45.796875 \nQ 21.234375 45.796875 17.078125 41.03125 \nQ 12.9375 36.28125 12.9375 25.984375 \nQ 12.9375 15.53125 16.9375 10.796875 \nQ 20.953125 6.0625 27.390625 6.0625 \nQ 32.5625 6.0625 36.03125 9.234375 \nQ 39.5 12.40625 40.4375 19 \nz\n\" id=\"ArialMT-99\"/>\n     <path d=\"M 40.578125 0 \nL 40.578125 7.625 \nQ 34.515625 -1.171875 24.125 -1.171875 \nQ 19.53125 -1.171875 15.546875 0.578125 \nQ 11.578125 2.34375 9.640625 5 \nQ 7.71875 7.671875 6.9375 11.53125 \nQ 6.390625 14.109375 6.390625 19.734375 \nL 6.390625 51.859375 \nL 15.1875 51.859375 \nL 15.1875 23.09375 \nQ 15.1875 16.21875 15.71875 13.8125 \nQ 16.546875 10.359375 19.234375 8.375 \nQ 21.921875 6.390625 25.875 6.390625 \nQ 29.828125 6.390625 33.296875 8.421875 \nQ 36.765625 10.453125 38.203125 13.9375 \nQ 39.65625 17.4375 39.65625 24.078125 \nL 39.65625 51.859375 \nL 48.4375 51.859375 \nL 48.4375 0 \nz\n\" id=\"ArialMT-117\"/>\n     <path d=\"M 6.59375 0 \nL 6.59375 51.859375 \nL 14.453125 51.859375 \nL 14.453125 44.578125 \nQ 16.890625 48.390625 20.9375 50.703125 \nQ 25 53.03125 30.171875 53.03125 \nQ 35.9375 53.03125 39.625 50.640625 \nQ 43.3125 48.25 44.828125 43.953125 \nQ 50.984375 53.03125 60.84375 53.03125 \nQ 68.5625 53.03125 72.703125 48.75 \nQ 76.859375 44.484375 76.859375 35.59375 \nL 76.859375 0 \nL 68.109375 0 \nL 68.109375 32.671875 \nQ 68.109375 37.9375 67.25 40.25 \nQ 66.40625 42.578125 64.15625 43.984375 \nQ 61.921875 45.40625 58.890625 45.40625 \nQ 53.421875 45.40625 49.796875 41.765625 \nQ 46.1875 38.140625 46.1875 30.125 \nL 46.1875 0 \nL 37.40625 0 \nL 37.40625 33.6875 \nQ 37.40625 39.546875 35.25 42.46875 \nQ 33.109375 45.40625 28.21875 45.40625 \nQ 24.515625 45.40625 21.359375 43.453125 \nQ 18.21875 41.5 16.796875 37.734375 \nQ 15.375 33.984375 15.375 26.90625 \nL 15.375 0 \nz\n\" id=\"ArialMT-109\"/>\n     <path d=\"M 40.4375 6.390625 \nQ 35.546875 2.25 31.03125 0.53125 \nQ 26.515625 -1.171875 21.34375 -1.171875 \nQ 12.796875 -1.171875 8.203125 3 \nQ 3.609375 7.171875 3.609375 13.671875 \nQ 3.609375 17.484375 5.34375 20.625 \nQ 7.078125 23.78125 9.890625 25.6875 \nQ 12.703125 27.59375 16.21875 28.5625 \nQ 18.796875 29.25 24.03125 29.890625 \nQ 34.671875 31.15625 39.703125 32.90625 \nQ 39.75 34.71875 39.75 35.203125 \nQ 39.75 40.578125 37.25 42.78125 \nQ 33.890625 45.75 27.25 45.75 \nQ 21.046875 45.75 18.09375 43.578125 \nQ 15.140625 41.40625 13.71875 35.890625 \nL 5.125 37.0625 \nQ 6.296875 42.578125 8.984375 45.96875 \nQ 11.671875 49.359375 16.75 51.1875 \nQ 21.828125 53.03125 28.515625 53.03125 \nQ 35.15625 53.03125 39.296875 51.46875 \nQ 43.453125 49.90625 45.40625 47.53125 \nQ 47.359375 45.171875 48.140625 41.546875 \nQ 48.578125 39.3125 48.578125 33.453125 \nL 48.578125 21.734375 \nQ 48.578125 9.46875 49.140625 6.21875 \nQ 49.703125 2.984375 51.375 0 \nL 42.1875 0 \nQ 40.828125 2.734375 40.4375 6.390625 \nz\nM 39.703125 26.03125 \nQ 34.90625 24.078125 25.34375 22.703125 \nQ 19.921875 21.921875 17.671875 20.9375 \nQ 15.4375 19.96875 14.203125 18.09375 \nQ 12.984375 16.21875 12.984375 13.921875 \nQ 12.984375 10.40625 15.640625 8.0625 \nQ 18.3125 5.71875 23.4375 5.71875 \nQ 28.515625 5.71875 32.46875 7.9375 \nQ 36.421875 10.15625 38.28125 14.015625 \nQ 39.703125 17 39.703125 22.796875 \nz\n\" id=\"ArialMT-97\"/>\n     <path d=\"M 6.5 0 \nL 6.5 51.859375 \nL 14.40625 51.859375 \nL 14.40625 44 \nQ 17.4375 49.515625 20 51.265625 \nQ 22.5625 53.03125 25.640625 53.03125 \nQ 30.078125 53.03125 34.671875 50.203125 \nL 31.640625 42.046875 \nQ 28.421875 43.953125 25.203125 43.953125 \nQ 22.3125 43.953125 20.015625 42.21875 \nQ 17.71875 40.484375 16.75 37.40625 \nQ 15.28125 32.71875 15.28125 27.15625 \nL 15.28125 0 \nz\n\" id=\"ArialMT-114\"/>\n    </defs>\n    <g style=\"fill:#262626;\" transform=\"translate(555.293536 173.350178)scale(0.1 -0.1)\">\n     <use xlink:href=\"#ArialMT-68\"/>\n     <use x=\"72.216797\" xlink:href=\"#ArialMT-111\"/>\n     <use x=\"127.832031\" xlink:href=\"#ArialMT-99\"/>\n     <use x=\"177.832031\" xlink:href=\"#ArialMT-117\"/>\n     <use x=\"233.447266\" xlink:href=\"#ArialMT-109\"/>\n     <use x=\"316.748047\" xlink:href=\"#ArialMT-101\"/>\n     <use x=\"372.363281\" xlink:href=\"#ArialMT-110\"/>\n     <use x=\"427.978516\" xlink:href=\"#ArialMT-116\"/>\n     <use x=\"455.761719\" xlink:href=\"#ArialMT-97\"/>\n     <use x=\"511.376953\" xlink:href=\"#ArialMT-114\"/>\n     <use x=\"544.677734\" xlink:href=\"#ArialMT-105\"/>\n     <use x=\"566.894531\" xlink:href=\"#ArialMT-101\"/>\n     <use x=\"622.509766\" xlink:href=\"#ArialMT-115\"/>\n    </g>\n   </g>\n   <g id=\"text_3\">\n    <!-- 12.72% -->\n    <defs>\n     <path d=\"M 37.25 0 \nL 28.46875 0 \nL 28.46875 56 \nQ 25.296875 52.984375 20.140625 49.953125 \nQ 14.984375 46.921875 10.890625 45.40625 \nL 10.890625 53.90625 \nQ 18.265625 57.375 23.78125 62.296875 \nQ 29.296875 67.234375 31.59375 71.875 \nL 37.25 71.875 \nz\n\" id=\"ArialMT-49\"/>\n     <path d=\"M 50.34375 8.453125 \nL 50.34375 0 \nL 3.03125 0 \nQ 2.9375 3.171875 4.046875 6.109375 \nQ 5.859375 10.9375 9.828125 15.625 \nQ 13.8125 20.3125 21.34375 26.46875 \nQ 33.015625 36.03125 37.109375 41.625 \nQ 41.21875 47.21875 41.21875 52.203125 \nQ 41.21875 57.421875 37.46875 61 \nQ 33.734375 64.59375 27.734375 64.59375 \nQ 21.390625 64.59375 17.578125 60.78125 \nQ 13.765625 56.984375 13.71875 50.25 \nL 4.6875 51.171875 \nQ 5.609375 61.28125 11.65625 66.578125 \nQ 17.71875 71.875 27.9375 71.875 \nQ 38.234375 71.875 44.234375 66.15625 \nQ 50.25 60.453125 50.25 52 \nQ 50.25 47.703125 48.484375 43.546875 \nQ 46.734375 39.40625 42.65625 34.8125 \nQ 38.578125 30.21875 29.109375 22.21875 \nQ 21.1875 15.578125 18.9375 13.203125 \nQ 16.703125 10.84375 15.234375 8.453125 \nz\n\" id=\"ArialMT-50\"/>\n     <path d=\"M 9.078125 0 \nL 9.078125 10.015625 \nL 19.09375 10.015625 \nL 19.09375 0 \nz\n\" id=\"ArialMT-46\"/>\n     <path d=\"M 4.734375 62.203125 \nL 4.734375 70.65625 \nL 51.078125 70.65625 \nL 51.078125 63.8125 \nQ 44.234375 56.546875 37.515625 44.484375 \nQ 30.8125 32.421875 27.15625 19.671875 \nQ 24.515625 10.6875 23.78125 0 \nL 14.75 0 \nQ 14.890625 8.453125 18.0625 20.40625 \nQ 21.234375 32.375 27.171875 43.484375 \nQ 33.109375 54.59375 39.796875 62.203125 \nz\n\" id=\"ArialMT-55\"/>\n     <path d=\"M 5.8125 54.390625 \nQ 5.8125 62.0625 9.671875 67.421875 \nQ 13.53125 72.796875 20.84375 72.796875 \nQ 27.59375 72.796875 32 67.984375 \nQ 36.421875 63.1875 36.421875 53.859375 \nQ 36.421875 44.78125 31.953125 39.875 \nQ 27.484375 34.96875 20.953125 34.96875 \nQ 14.453125 34.96875 10.125 39.796875 \nQ 5.8125 44.625 5.8125 54.390625 \nz\nM 21.09375 66.75 \nQ 17.828125 66.75 15.65625 63.90625 \nQ 13.484375 61.078125 13.484375 53.515625 \nQ 13.484375 46.625 15.671875 43.8125 \nQ 17.875 41.015625 21.09375 41.015625 \nQ 24.421875 41.015625 26.59375 43.84375 \nQ 28.765625 46.6875 28.765625 54.203125 \nQ 28.765625 61.140625 26.5625 63.9375 \nQ 24.359375 66.75 21.09375 66.75 \nz\nM 21.140625 -2.640625 \nL 60.296875 72.796875 \nL 67.4375 72.796875 \nL 28.421875 -2.640625 \nz\nM 52.09375 16.796875 \nQ 52.09375 24.515625 55.953125 29.859375 \nQ 59.8125 35.203125 67.1875 35.203125 \nQ 73.921875 35.203125 78.34375 30.390625 \nQ 82.765625 25.59375 82.765625 16.265625 \nQ 82.765625 7.171875 78.296875 2.265625 \nQ 73.828125 -2.640625 67.234375 -2.640625 \nQ 60.75 -2.640625 56.421875 2.21875 \nQ 52.09375 7.078125 52.09375 16.796875 \nz\nM 67.4375 29.15625 \nQ 64.109375 29.15625 61.9375 26.3125 \nQ 59.765625 23.484375 59.765625 15.921875 \nQ 59.765625 9.078125 61.953125 6.25 \nQ 64.15625 3.421875 67.390625 3.421875 \nQ 70.75 3.421875 72.921875 6.25 \nQ 75.09375 9.078125 75.09375 16.609375 \nQ 75.09375 23.53125 72.890625 26.34375 \nQ 70.703125 29.15625 67.4375 29.15625 \nz\n\" id=\"ArialMT-37\"/>\n    </defs>\n    <g style=\"fill:#262626;\" transform=\"translate(458.210986 207.183975)scale(0.1 -0.1)\">\n     <use xlink:href=\"#ArialMT-49\"/>\n     <use x=\"55.615234\" xlink:href=\"#ArialMT-50\"/>\n     <use x=\"111.230469\" xlink:href=\"#ArialMT-46\"/>\n     <use x=\"139.013672\" xlink:href=\"#ArialMT-55\"/>\n     <use x=\"194.628906\" xlink:href=\"#ArialMT-50\"/>\n     <use x=\"250.244141\" xlink:href=\"#ArialMT-37\"/>\n    </g>\n   </g>\n   <g id=\"text_4\">\n    <!-- Stand-Up Comedy -->\n    <defs>\n     <path d=\"M 4.5 23 \nL 13.421875 23.78125 \nQ 14.0625 18.40625 16.375 14.96875 \nQ 18.703125 11.53125 23.578125 9.40625 \nQ 28.46875 7.28125 34.578125 7.28125 \nQ 39.984375 7.28125 44.140625 8.890625 \nQ 48.296875 10.5 50.3125 13.296875 \nQ 52.34375 16.109375 52.34375 19.4375 \nQ 52.34375 22.796875 50.390625 25.3125 \nQ 48.4375 27.828125 43.953125 29.546875 \nQ 41.0625 30.671875 31.203125 33.03125 \nQ 21.34375 35.40625 17.390625 37.5 \nQ 12.25 40.1875 9.734375 44.15625 \nQ 7.234375 48.140625 7.234375 53.078125 \nQ 7.234375 58.5 10.296875 63.203125 \nQ 13.375 67.921875 19.28125 70.359375 \nQ 25.203125 72.796875 32.421875 72.796875 \nQ 40.375 72.796875 46.453125 70.234375 \nQ 52.546875 67.671875 55.8125 62.6875 \nQ 59.078125 57.71875 59.328125 51.421875 \nL 50.25 50.734375 \nQ 49.515625 57.515625 45.28125 60.984375 \nQ 41.0625 64.453125 32.8125 64.453125 \nQ 24.21875 64.453125 20.28125 61.296875 \nQ 16.359375 58.15625 16.359375 53.71875 \nQ 16.359375 49.859375 19.140625 47.359375 \nQ 21.875 44.875 33.421875 42.265625 \nQ 44.96875 39.65625 49.265625 37.703125 \nQ 55.515625 34.8125 58.484375 30.390625 \nQ 61.46875 25.984375 61.46875 20.21875 \nQ 61.46875 14.5 58.203125 9.4375 \nQ 54.9375 4.390625 48.796875 1.578125 \nQ 42.671875 -1.21875 35.015625 -1.21875 \nQ 25.296875 -1.21875 18.71875 1.609375 \nQ 12.15625 4.4375 8.421875 10.125 \nQ 4.6875 15.828125 4.5 23 \nz\n\" id=\"ArialMT-83\"/>\n     <path d=\"M 3.171875 21.484375 \nL 3.171875 30.328125 \nL 30.171875 30.328125 \nL 30.171875 21.484375 \nz\n\" id=\"ArialMT-45\"/>\n     <path d=\"M 54.6875 71.578125 \nL 64.15625 71.578125 \nL 64.15625 30.21875 \nQ 64.15625 19.4375 61.71875 13.078125 \nQ 59.28125 6.734375 52.90625 2.75 \nQ 46.53125 -1.21875 36.1875 -1.21875 \nQ 26.125 -1.21875 19.71875 2.25 \nQ 13.328125 5.71875 10.59375 12.28125 \nQ 7.859375 18.84375 7.859375 30.21875 \nL 7.859375 71.578125 \nL 17.328125 71.578125 \nL 17.328125 30.28125 \nQ 17.328125 20.953125 19.0625 16.53125 \nQ 20.796875 12.109375 25.015625 9.71875 \nQ 29.25 7.328125 35.359375 7.328125 \nQ 45.796875 7.328125 50.234375 12.0625 \nQ 54.6875 16.796875 54.6875 30.28125 \nz\n\" id=\"ArialMT-85\"/>\n     <path d=\"M 6.59375 -19.875 \nL 6.59375 51.859375 \nL 14.59375 51.859375 \nL 14.59375 45.125 \nQ 17.4375 49.078125 21 51.046875 \nQ 24.5625 53.03125 29.640625 53.03125 \nQ 36.28125 53.03125 41.359375 49.609375 \nQ 46.4375 46.1875 49.015625 39.953125 \nQ 51.609375 33.734375 51.609375 26.3125 \nQ 51.609375 18.359375 48.75 11.984375 \nQ 45.90625 5.609375 40.453125 2.21875 \nQ 35.015625 -1.171875 29 -1.171875 \nQ 24.609375 -1.171875 21.109375 0.6875 \nQ 17.625 2.546875 15.375 5.375 \nL 15.375 -19.875 \nz\nM 14.546875 25.640625 \nQ 14.546875 15.625 18.59375 10.84375 \nQ 22.65625 6.0625 28.421875 6.0625 \nQ 34.28125 6.0625 38.453125 11.015625 \nQ 42.625 15.96875 42.625 26.375 \nQ 42.625 36.28125 38.546875 41.203125 \nQ 34.46875 46.140625 28.8125 46.140625 \nQ 23.1875 46.140625 18.859375 40.890625 \nQ 14.546875 35.640625 14.546875 25.640625 \nz\n\" id=\"ArialMT-112\"/>\n     <path id=\"ArialMT-32\"/>\n     <path d=\"M 58.796875 25.09375 \nL 68.265625 22.703125 \nQ 65.28125 11.03125 57.546875 4.90625 \nQ 49.8125 -1.21875 38.625 -1.21875 \nQ 27.046875 -1.21875 19.796875 3.484375 \nQ 12.546875 8.203125 8.765625 17.140625 \nQ 4.984375 26.078125 4.984375 36.328125 \nQ 4.984375 47.515625 9.25 55.828125 \nQ 13.53125 64.15625 21.40625 68.46875 \nQ 29.296875 72.796875 38.765625 72.796875 \nQ 49.515625 72.796875 56.828125 67.328125 \nQ 64.15625 61.859375 67.046875 51.953125 \nL 57.71875 49.75 \nQ 55.21875 57.5625 50.484375 61.125 \nQ 45.75 64.703125 38.578125 64.703125 \nQ 30.328125 64.703125 24.78125 60.734375 \nQ 19.234375 56.78125 16.984375 50.109375 \nQ 14.75 43.453125 14.75 36.375 \nQ 14.75 27.25 17.40625 20.4375 \nQ 20.0625 13.625 25.671875 10.25 \nQ 31.296875 6.890625 37.84375 6.890625 \nQ 45.796875 6.890625 51.3125 11.46875 \nQ 56.84375 16.0625 58.796875 25.09375 \nz\n\" id=\"ArialMT-67\"/>\n     <path d=\"M 6.203125 -19.96875 \nL 5.21875 -11.71875 \nQ 8.109375 -12.5 10.25 -12.5 \nQ 13.1875 -12.5 14.9375 -11.515625 \nQ 16.703125 -10.546875 17.828125 -8.796875 \nQ 18.65625 -7.46875 20.515625 -2.25 \nQ 20.75 -1.515625 21.296875 -0.09375 \nL 1.609375 51.859375 \nL 11.078125 51.859375 \nL 21.875 21.828125 \nQ 23.96875 16.109375 25.640625 9.8125 \nQ 27.15625 15.875 29.25 21.625 \nL 40.328125 51.859375 \nL 49.125 51.859375 \nL 29.390625 -0.875 \nQ 26.21875 -9.421875 24.46875 -12.640625 \nQ 22.125 -17 19.09375 -19.015625 \nQ 16.0625 -21.046875 11.859375 -21.046875 \nQ 9.328125 -21.046875 6.203125 -19.96875 \nz\n\" id=\"ArialMT-121\"/>\n    </defs>\n    <g style=\"fill:#262626;\" transform=\"translate(454.745277 72.062549)scale(0.1 -0.1)\">\n     <use xlink:href=\"#ArialMT-83\"/>\n     <use x=\"66.699219\" xlink:href=\"#ArialMT-116\"/>\n     <use x=\"94.482422\" xlink:href=\"#ArialMT-97\"/>\n     <use x=\"150.097656\" xlink:href=\"#ArialMT-110\"/>\n     <use x=\"205.712891\" xlink:href=\"#ArialMT-100\"/>\n     <use x=\"261.328125\" xlink:href=\"#ArialMT-45\"/>\n     <use x=\"294.628906\" xlink:href=\"#ArialMT-85\"/>\n     <use x=\"366.845703\" xlink:href=\"#ArialMT-112\"/>\n     <use x=\"422.460938\" xlink:href=\"#ArialMT-32\"/>\n     <use x=\"450.244141\" xlink:href=\"#ArialMT-67\"/>\n     <use x=\"522.460938\" xlink:href=\"#ArialMT-111\"/>\n     <use x=\"578.076172\" xlink:href=\"#ArialMT-109\"/>\n     <use x=\"661.376953\" xlink:href=\"#ArialMT-101\"/>\n     <use x=\"716.992188\" xlink:href=\"#ArialMT-100\"/>\n     <use x=\"772.607422\" xlink:href=\"#ArialMT-121\"/>\n    </g>\n   </g>\n   <g id=\"text_5\">\n    <!-- 11.61% -->\n    <defs>\n     <path d=\"M 49.75 54.046875 \nL 41.015625 53.375 \nQ 39.84375 58.546875 37.703125 60.890625 \nQ 34.125 64.65625 28.90625 64.65625 \nQ 24.703125 64.65625 21.53125 62.3125 \nQ 17.390625 59.28125 14.984375 53.46875 \nQ 12.59375 47.65625 12.5 36.921875 \nQ 15.671875 41.75 20.265625 44.09375 \nQ 24.859375 46.4375 29.890625 46.4375 \nQ 38.671875 46.4375 44.84375 39.96875 \nQ 51.03125 33.5 51.03125 23.25 \nQ 51.03125 16.5 48.125 10.71875 \nQ 45.21875 4.9375 40.140625 1.859375 \nQ 35.0625 -1.21875 28.609375 -1.21875 \nQ 17.625 -1.21875 10.6875 6.859375 \nQ 3.765625 14.9375 3.765625 33.5 \nQ 3.765625 54.25 11.421875 63.671875 \nQ 18.109375 71.875 29.4375 71.875 \nQ 37.890625 71.875 43.28125 67.140625 \nQ 48.6875 62.40625 49.75 54.046875 \nz\nM 13.875 23.1875 \nQ 13.875 18.65625 15.796875 14.5 \nQ 17.71875 10.359375 21.1875 8.171875 \nQ 24.65625 6 28.46875 6 \nQ 34.03125 6 38.03125 10.484375 \nQ 42.046875 14.984375 42.046875 22.703125 \nQ 42.046875 30.125 38.078125 34.390625 \nQ 34.125 38.671875 28.125 38.671875 \nQ 22.171875 38.671875 18.015625 34.390625 \nQ 13.875 30.125 13.875 23.1875 \nz\n\" id=\"ArialMT-54\"/>\n    </defs>\n    <g style=\"fill:#262626;\" transform=\"translate(403.735231 151.934899)scale(0.1 -0.1)\">\n     <use xlink:href=\"#ArialMT-49\"/>\n     <use x=\"48.240234\" xlink:href=\"#ArialMT-49\"/>\n     <use x=\"103.855469\" xlink:href=\"#ArialMT-46\"/>\n     <use x=\"131.638672\" xlink:href=\"#ArialMT-54\"/>\n     <use x=\"187.253906\" xlink:href=\"#ArialMT-49\"/>\n     <use x=\"242.869141\" xlink:href=\"#ArialMT-37\"/>\n    </g>\n   </g>\n   <g id=\"text_6\">\n    <!-- Dramas, International Movies -->\n    <defs>\n     <path d=\"M 8.890625 0 \nL 8.890625 10.015625 \nL 18.890625 10.015625 \nL 18.890625 0 \nQ 18.890625 -5.515625 16.9375 -8.90625 \nQ 14.984375 -12.3125 10.75 -14.15625 \nL 8.296875 -10.40625 \nQ 11.078125 -9.1875 12.390625 -6.8125 \nQ 13.71875 -4.4375 13.875 0 \nz\n\" id=\"ArialMT-44\"/>\n     <path d=\"M 9.328125 0 \nL 9.328125 71.578125 \nL 18.796875 71.578125 \nL 18.796875 0 \nz\n\" id=\"ArialMT-73\"/>\n     <path d=\"M 7.421875 0 \nL 7.421875 71.578125 \nL 21.6875 71.578125 \nL 38.625 20.90625 \nQ 40.96875 13.8125 42.046875 10.296875 \nQ 43.265625 14.203125 45.84375 21.78125 \nL 62.984375 71.578125 \nL 75.734375 71.578125 \nL 75.734375 0 \nL 66.609375 0 \nL 66.609375 59.90625 \nL 45.796875 0 \nL 37.25 0 \nL 16.546875 60.9375 \nL 16.546875 0 \nz\n\" id=\"ArialMT-77\"/>\n     <path d=\"M 21 0 \nL 1.265625 51.859375 \nL 10.546875 51.859375 \nL 21.6875 20.796875 \nQ 23.484375 15.765625 25 10.359375 \nQ 26.171875 14.453125 28.265625 20.21875 \nL 39.796875 51.859375 \nL 48.828125 51.859375 \nL 29.203125 0 \nz\n\" id=\"ArialMT-118\"/>\n    </defs>\n    <g style=\"fill:#262626;\" transform=\"translate(194.383471 64.389236)scale(0.1 -0.1)\">\n     <use xlink:href=\"#ArialMT-68\"/>\n     <use x=\"72.216797\" xlink:href=\"#ArialMT-114\"/>\n     <use x=\"105.517578\" xlink:href=\"#ArialMT-97\"/>\n     <use x=\"161.132812\" xlink:href=\"#ArialMT-109\"/>\n     <use x=\"244.433594\" xlink:href=\"#ArialMT-97\"/>\n     <use x=\"300.048828\" xlink:href=\"#ArialMT-115\"/>\n     <use x=\"350.048828\" xlink:href=\"#ArialMT-44\"/>\n     <use x=\"377.832031\" xlink:href=\"#ArialMT-32\"/>\n     <use x=\"405.615234\" xlink:href=\"#ArialMT-73\"/>\n     <use x=\"433.398438\" xlink:href=\"#ArialMT-110\"/>\n     <use x=\"489.013672\" xlink:href=\"#ArialMT-116\"/>\n     <use x=\"516.796875\" xlink:href=\"#ArialMT-101\"/>\n     <use x=\"572.412109\" xlink:href=\"#ArialMT-114\"/>\n     <use x=\"605.712891\" xlink:href=\"#ArialMT-110\"/>\n     <use x=\"661.328125\" xlink:href=\"#ArialMT-97\"/>\n     <use x=\"716.943359\" xlink:href=\"#ArialMT-116\"/>\n     <use x=\"744.726562\" xlink:href=\"#ArialMT-105\"/>\n     <use x=\"766.943359\" xlink:href=\"#ArialMT-111\"/>\n     <use x=\"822.558594\" xlink:href=\"#ArialMT-110\"/>\n     <use x=\"878.173828\" xlink:href=\"#ArialMT-97\"/>\n     <use x=\"933.789062\" xlink:href=\"#ArialMT-108\"/>\n     <use x=\"956.005859\" xlink:href=\"#ArialMT-32\"/>\n     <use x=\"983.789062\" xlink:href=\"#ArialMT-77\"/>\n     <use x=\"1067.089844\" xlink:href=\"#ArialMT-111\"/>\n     <use x=\"1122.705078\" xlink:href=\"#ArialMT-118\"/>\n     <use x=\"1172.705078\" xlink:href=\"#ArialMT-105\"/>\n     <use x=\"1194.921875\" xlink:href=\"#ArialMT-101\"/>\n     <use x=\"1250.537109\" xlink:href=\"#ArialMT-115\"/>\n    </g>\n   </g>\n   <g id=\"text_7\">\n    <!-- 10.55% -->\n    <defs>\n     <path d=\"M 4.15625 35.296875 \nQ 4.15625 48 6.765625 55.734375 \nQ 9.375 63.484375 14.515625 67.671875 \nQ 19.671875 71.875 27.484375 71.875 \nQ 33.25 71.875 37.59375 69.546875 \nQ 41.9375 67.234375 44.765625 62.859375 \nQ 47.609375 58.5 49.21875 52.21875 \nQ 50.828125 45.953125 50.828125 35.296875 \nQ 50.828125 22.703125 48.234375 14.96875 \nQ 45.65625 7.234375 40.5 3 \nQ 35.359375 -1.21875 27.484375 -1.21875 \nQ 17.140625 -1.21875 11.234375 6.203125 \nQ 4.15625 15.140625 4.15625 35.296875 \nz\nM 13.1875 35.296875 \nQ 13.1875 17.671875 17.3125 11.828125 \nQ 21.4375 6 27.484375 6 \nQ 33.546875 6 37.671875 11.859375 \nQ 41.796875 17.71875 41.796875 35.296875 \nQ 41.796875 52.984375 37.671875 58.78125 \nQ 33.546875 64.59375 27.390625 64.59375 \nQ 21.34375 64.59375 17.71875 59.46875 \nQ 13.1875 52.9375 13.1875 35.296875 \nz\n\" id=\"ArialMT-48\"/>\n     <path d=\"M 4.15625 18.75 \nL 13.375 19.53125 \nQ 14.40625 12.796875 18.140625 9.390625 \nQ 21.875 6 27.15625 6 \nQ 33.5 6 37.890625 10.78125 \nQ 42.28125 15.578125 42.28125 23.484375 \nQ 42.28125 31 38.0625 35.34375 \nQ 33.84375 39.703125 27 39.703125 \nQ 22.75 39.703125 19.328125 37.765625 \nQ 15.921875 35.84375 13.96875 32.765625 \nL 5.71875 33.84375 \nL 12.640625 70.609375 \nL 48.25 70.609375 \nL 48.25 62.203125 \nL 19.671875 62.203125 \nL 15.828125 42.96875 \nQ 22.265625 47.46875 29.34375 47.46875 \nQ 38.71875 47.46875 45.15625 40.96875 \nQ 51.609375 34.46875 51.609375 24.265625 \nQ 51.609375 14.546875 45.953125 7.46875 \nQ 39.0625 -1.21875 27.15625 -1.21875 \nQ 17.390625 -1.21875 11.203125 4.25 \nQ 5.03125 9.71875 4.15625 18.75 \nz\n\" id=\"ArialMT-53\"/>\n    </defs>\n    <g style=\"fill:#262626;\" transform=\"translate(332.284757 147.750734)scale(0.1 -0.1)\">\n     <use xlink:href=\"#ArialMT-49\"/>\n     <use x=\"55.615234\" xlink:href=\"#ArialMT-48\"/>\n     <use x=\"111.230469\" xlink:href=\"#ArialMT-46\"/>\n     <use x=\"139.013672\" xlink:href=\"#ArialMT-53\"/>\n     <use x=\"194.628906\" xlink:href=\"#ArialMT-53\"/>\n     <use x=\"250.244141\" xlink:href=\"#ArialMT-37\"/>\n    </g>\n   </g>\n   <g id=\"text_8\">\n    <!-- Dramas, Independent Movies, International Movies -->\n    <g style=\"fill:#262626;\" transform=\"translate(7.2 124.289076)scale(0.1 -0.1)\">\n     <use xlink:href=\"#ArialMT-68\"/>\n     <use x=\"72.216797\" xlink:href=\"#ArialMT-114\"/>\n     <use x=\"105.517578\" xlink:href=\"#ArialMT-97\"/>\n     <use x=\"161.132812\" xlink:href=\"#ArialMT-109\"/>\n     <use x=\"244.433594\" xlink:href=\"#ArialMT-97\"/>\n     <use x=\"300.048828\" xlink:href=\"#ArialMT-115\"/>\n     <use x=\"350.048828\" xlink:href=\"#ArialMT-44\"/>\n     <use x=\"377.832031\" xlink:href=\"#ArialMT-32\"/>\n     <use x=\"405.615234\" xlink:href=\"#ArialMT-73\"/>\n     <use x=\"433.398438\" xlink:href=\"#ArialMT-110\"/>\n     <use x=\"489.013672\" xlink:href=\"#ArialMT-100\"/>\n     <use x=\"544.628906\" xlink:href=\"#ArialMT-101\"/>\n     <use x=\"600.244141\" xlink:href=\"#ArialMT-112\"/>\n     <use x=\"655.859375\" xlink:href=\"#ArialMT-101\"/>\n     <use x=\"711.474609\" xlink:href=\"#ArialMT-110\"/>\n     <use x=\"767.089844\" xlink:href=\"#ArialMT-100\"/>\n     <use x=\"822.705078\" xlink:href=\"#ArialMT-101\"/>\n     <use x=\"878.320312\" xlink:href=\"#ArialMT-110\"/>\n     <use x=\"933.935547\" xlink:href=\"#ArialMT-116\"/>\n     <use x=\"961.71875\" xlink:href=\"#ArialMT-32\"/>\n     <use x=\"989.501953\" xlink:href=\"#ArialMT-77\"/>\n     <use x=\"1072.802734\" xlink:href=\"#ArialMT-111\"/>\n     <use x=\"1128.417969\" xlink:href=\"#ArialMT-118\"/>\n     <use x=\"1178.417969\" xlink:href=\"#ArialMT-105\"/>\n     <use x=\"1200.634766\" xlink:href=\"#ArialMT-101\"/>\n     <use x=\"1256.25\" xlink:href=\"#ArialMT-115\"/>\n     <use x=\"1306.25\" xlink:href=\"#ArialMT-44\"/>\n     <use x=\"1334.033203\" xlink:href=\"#ArialMT-32\"/>\n     <use x=\"1361.816406\" xlink:href=\"#ArialMT-73\"/>\n     <use x=\"1389.599609\" xlink:href=\"#ArialMT-110\"/>\n     <use x=\"1445.214844\" xlink:href=\"#ArialMT-116\"/>\n     <use x=\"1472.998047\" xlink:href=\"#ArialMT-101\"/>\n     <use x=\"1528.613281\" xlink:href=\"#ArialMT-114\"/>\n     <use x=\"1561.914062\" xlink:href=\"#ArialMT-110\"/>\n     <use x=\"1617.529297\" xlink:href=\"#ArialMT-97\"/>\n     <use x=\"1673.144531\" xlink:href=\"#ArialMT-116\"/>\n     <use x=\"1700.927734\" xlink:href=\"#ArialMT-105\"/>\n     <use x=\"1723.144531\" xlink:href=\"#ArialMT-111\"/>\n     <use x=\"1778.759766\" xlink:href=\"#ArialMT-110\"/>\n     <use x=\"1834.375\" xlink:href=\"#ArialMT-97\"/>\n     <use x=\"1889.990234\" xlink:href=\"#ArialMT-108\"/>\n     <use x=\"1912.207031\" xlink:href=\"#ArialMT-32\"/>\n     <use x=\"1939.990234\" xlink:href=\"#ArialMT-77\"/>\n     <use x=\"2023.291016\" xlink:href=\"#ArialMT-111\"/>\n     <use x=\"2078.90625\" xlink:href=\"#ArialMT-118\"/>\n     <use x=\"2128.90625\" xlink:href=\"#ArialMT-105\"/>\n     <use x=\"2151.123047\" xlink:href=\"#ArialMT-101\"/>\n     <use x=\"2206.738281\" xlink:href=\"#ArialMT-115\"/>\n    </g>\n   </g>\n   <g id=\"text_9\">\n    <!-- 7.91% -->\n    <defs>\n     <path d=\"M 5.46875 16.546875 \nL 13.921875 17.328125 \nQ 14.984375 11.375 18.015625 8.6875 \nQ 21.046875 6 25.78125 6 \nQ 29.828125 6 32.875 7.859375 \nQ 35.9375 9.71875 37.890625 12.8125 \nQ 39.84375 15.921875 41.15625 21.1875 \nQ 42.484375 26.46875 42.484375 31.9375 \nQ 42.484375 32.515625 42.4375 33.6875 \nQ 39.796875 29.5 35.234375 26.875 \nQ 30.671875 24.265625 25.34375 24.265625 \nQ 16.453125 24.265625 10.296875 30.703125 \nQ 4.15625 37.15625 4.15625 47.703125 \nQ 4.15625 58.59375 10.578125 65.234375 \nQ 17 71.875 26.65625 71.875 \nQ 33.640625 71.875 39.421875 68.109375 \nQ 45.21875 64.359375 48.21875 57.390625 \nQ 51.21875 50.4375 51.21875 37.25 \nQ 51.21875 23.53125 48.234375 15.40625 \nQ 45.265625 7.28125 39.375 3.03125 \nQ 33.5 -1.21875 25.59375 -1.21875 \nQ 17.1875 -1.21875 11.859375 3.4375 \nQ 6.546875 8.109375 5.46875 16.546875 \nz\nM 41.453125 48.140625 \nQ 41.453125 55.71875 37.421875 60.15625 \nQ 33.40625 64.59375 27.734375 64.59375 \nQ 21.875 64.59375 17.53125 59.8125 \nQ 13.1875 55.03125 13.1875 47.40625 \nQ 13.1875 40.578125 17.3125 36.296875 \nQ 21.4375 32.03125 27.484375 32.03125 \nQ 33.59375 32.03125 37.515625 36.296875 \nQ 41.453125 40.578125 41.453125 48.140625 \nz\n\" id=\"ArialMT-57\"/>\n    </defs>\n    <g style=\"fill:#262626;\" transform=\"translate(285.117424 180.423374)scale(0.1 -0.1)\">\n     <use xlink:href=\"#ArialMT-55\"/>\n     <use x=\"55.615234\" xlink:href=\"#ArialMT-46\"/>\n     <use x=\"83.398438\" xlink:href=\"#ArialMT-57\"/>\n     <use x=\"139.013672\" xlink:href=\"#ArialMT-49\"/>\n     <use x=\"194.628906\" xlink:href=\"#ArialMT-37\"/>\n    </g>\n   </g>\n   <g id=\"text_10\">\n    <!-- Comedies, Dramas, International Movies -->\n    <g style=\"fill:#262626;\" transform=\"translate(11.68372 205.936137)scale(0.1 -0.1)\">\n     <use xlink:href=\"#ArialMT-67\"/>\n     <use x=\"72.216797\" xlink:href=\"#ArialMT-111\"/>\n     <use x=\"127.832031\" xlink:href=\"#ArialMT-109\"/>\n     <use x=\"211.132812\" xlink:href=\"#ArialMT-101\"/>\n     <use x=\"266.748047\" xlink:href=\"#ArialMT-100\"/>\n     <use x=\"322.363281\" xlink:href=\"#ArialMT-105\"/>\n     <use x=\"344.580078\" xlink:href=\"#ArialMT-101\"/>\n     <use x=\"400.195312\" xlink:href=\"#ArialMT-115\"/>\n     <use x=\"450.195312\" xlink:href=\"#ArialMT-44\"/>\n     <use x=\"477.978516\" xlink:href=\"#ArialMT-32\"/>\n     <use x=\"505.761719\" xlink:href=\"#ArialMT-68\"/>\n     <use x=\"577.978516\" xlink:href=\"#ArialMT-114\"/>\n     <use x=\"611.279297\" xlink:href=\"#ArialMT-97\"/>\n     <use x=\"666.894531\" xlink:href=\"#ArialMT-109\"/>\n     <use x=\"750.195312\" xlink:href=\"#ArialMT-97\"/>\n     <use x=\"805.810547\" xlink:href=\"#ArialMT-115\"/>\n     <use x=\"855.810547\" xlink:href=\"#ArialMT-44\"/>\n     <use x=\"883.59375\" xlink:href=\"#ArialMT-32\"/>\n     <use x=\"911.376953\" xlink:href=\"#ArialMT-73\"/>\n     <use x=\"939.160156\" xlink:href=\"#ArialMT-110\"/>\n     <use x=\"994.775391\" xlink:href=\"#ArialMT-116\"/>\n     <use x=\"1022.558594\" xlink:href=\"#ArialMT-101\"/>\n     <use x=\"1078.173828\" xlink:href=\"#ArialMT-114\"/>\n     <use x=\"1111.474609\" xlink:href=\"#ArialMT-110\"/>\n     <use x=\"1167.089844\" xlink:href=\"#ArialMT-97\"/>\n     <use x=\"1222.705078\" xlink:href=\"#ArialMT-116\"/>\n     <use x=\"1250.488281\" xlink:href=\"#ArialMT-105\"/>\n     <use x=\"1272.705078\" xlink:href=\"#ArialMT-111\"/>\n     <use x=\"1328.320312\" xlink:href=\"#ArialMT-110\"/>\n     <use x=\"1383.935547\" xlink:href=\"#ArialMT-97\"/>\n     <use x=\"1439.550781\" xlink:href=\"#ArialMT-108\"/>\n     <use x=\"1461.767578\" xlink:href=\"#ArialMT-32\"/>\n     <use x=\"1489.550781\" xlink:href=\"#ArialMT-77\"/>\n     <use x=\"1572.851562\" xlink:href=\"#ArialMT-111\"/>\n     <use x=\"1628.466797\" xlink:href=\"#ArialMT-118\"/>\n     <use x=\"1678.466797\" xlink:href=\"#ArialMT-105\"/>\n     <use x=\"1700.683594\" xlink:href=\"#ArialMT-101\"/>\n     <use x=\"1756.298828\" xlink:href=\"#ArialMT-115\"/>\n    </g>\n   </g>\n   <g id=\"text_11\">\n    <!-- 7.40% -->\n    <defs>\n     <path d=\"M 32.328125 0 \nL 32.328125 17.140625 \nL 1.265625 17.140625 \nL 1.265625 25.203125 \nL 33.9375 71.578125 \nL 41.109375 71.578125 \nL 41.109375 25.203125 \nL 50.78125 25.203125 \nL 50.78125 17.140625 \nL 41.109375 17.140625 \nL 41.109375 0 \nz\nM 32.328125 25.203125 \nL 32.328125 57.46875 \nL 9.90625 25.203125 \nz\n\" id=\"ArialMT-52\"/>\n    </defs>\n    <g style=\"fill:#262626;\" transform=\"translate(262.996328 224.958135)scale(0.1 -0.1)\">\n     <use xlink:href=\"#ArialMT-55\"/>\n     <use x=\"55.615234\" xlink:href=\"#ArialMT-46\"/>\n     <use x=\"83.398438\" xlink:href=\"#ArialMT-52\"/>\n     <use x=\"139.013672\" xlink:href=\"#ArialMT-48\"/>\n     <use x=\"194.628906\" xlink:href=\"#ArialMT-37\"/>\n    </g>\n   </g>\n   <g id=\"text_12\">\n    <!-- Kids' TV -->\n    <defs>\n     <path d=\"M 7.328125 0 \nL 7.328125 71.578125 \nL 16.796875 71.578125 \nL 16.796875 36.078125 \nL 52.34375 71.578125 \nL 65.1875 71.578125 \nL 35.15625 42.578125 \nL 66.5 0 \nL 54 0 \nL 28.515625 36.234375 \nL 16.796875 24.8125 \nL 16.796875 0 \nz\n\" id=\"ArialMT-75\"/>\n     <path d=\"M 6.640625 46.234375 \nL 4.390625 59.625 \nL 4.390625 71.578125 \nL 14.40625 71.578125 \nL 14.40625 59.625 \nL 12.0625 46.234375 \nz\n\" id=\"ArialMT-39\"/>\n     <path d=\"M 25.921875 0 \nL 25.921875 63.140625 \nL 2.34375 63.140625 \nL 2.34375 71.578125 \nL 59.078125 71.578125 \nL 59.078125 63.140625 \nL 35.40625 63.140625 \nL 35.40625 0 \nz\n\" id=\"ArialMT-84\"/>\n     <path d=\"M 28.171875 0 \nL 0.4375 71.578125 \nL 10.6875 71.578125 \nL 29.296875 19.578125 \nQ 31.546875 13.328125 33.0625 7.859375 \nQ 34.71875 13.71875 36.921875 19.578125 \nL 56.25 71.578125 \nL 65.921875 71.578125 \nL 37.890625 0 \nz\n\" id=\"ArialMT-86\"/>\n    </defs>\n    <g style=\"fill:#262626;\" transform=\"translate(155.727983 290.381093)scale(0.1 -0.1)\">\n     <use xlink:href=\"#ArialMT-75\"/>\n     <use x=\"66.699219\" xlink:href=\"#ArialMT-105\"/>\n     <use x=\"88.916016\" xlink:href=\"#ArialMT-100\"/>\n     <use x=\"144.53125\" xlink:href=\"#ArialMT-115\"/>\n     <use x=\"194.53125\" xlink:href=\"#ArialMT-39\"/>\n     <use x=\"213.623047\" xlink:href=\"#ArialMT-32\"/>\n     <use x=\"239.65625\" xlink:href=\"#ArialMT-84\"/>\n     <use x=\"300.740234\" xlink:href=\"#ArialMT-86\"/>\n    </g>\n   </g>\n   <g id=\"text_13\">\n    <!-- 6.76% -->\n    <g style=\"fill:#262626;\" transform=\"translate(263.088653 271.019019)scale(0.1 -0.1)\">\n     <use xlink:href=\"#ArialMT-54\"/>\n     <use x=\"55.615234\" xlink:href=\"#ArialMT-46\"/>\n     <use x=\"83.398438\" xlink:href=\"#ArialMT-55\"/>\n     <use x=\"139.013672\" xlink:href=\"#ArialMT-54\"/>\n     <use x=\"194.628906\" xlink:href=\"#ArialMT-37\"/>\n    </g>\n   </g>\n   <g id=\"text_14\">\n    <!-- Documentaries, International Movies -->\n    <g style=\"fill:#262626;\" transform=\"translate(62.953562 361.65758)scale(0.1 -0.1)\">\n     <use xlink:href=\"#ArialMT-68\"/>\n     <use x=\"72.216797\" xlink:href=\"#ArialMT-111\"/>\n     <use x=\"127.832031\" xlink:href=\"#ArialMT-99\"/>\n     <use x=\"177.832031\" xlink:href=\"#ArialMT-117\"/>\n     <use x=\"233.447266\" xlink:href=\"#ArialMT-109\"/>\n     <use x=\"316.748047\" xlink:href=\"#ArialMT-101\"/>\n     <use x=\"372.363281\" xlink:href=\"#ArialMT-110\"/>\n     <use x=\"427.978516\" xlink:href=\"#ArialMT-116\"/>\n     <use x=\"455.761719\" xlink:href=\"#ArialMT-97\"/>\n     <use x=\"511.376953\" xlink:href=\"#ArialMT-114\"/>\n     <use x=\"544.677734\" xlink:href=\"#ArialMT-105\"/>\n     <use x=\"566.894531\" xlink:href=\"#ArialMT-101\"/>\n     <use x=\"622.509766\" xlink:href=\"#ArialMT-115\"/>\n     <use x=\"672.509766\" xlink:href=\"#ArialMT-44\"/>\n     <use x=\"700.292969\" xlink:href=\"#ArialMT-32\"/>\n     <use x=\"728.076172\" xlink:href=\"#ArialMT-73\"/>\n     <use x=\"755.859375\" xlink:href=\"#ArialMT-110\"/>\n     <use x=\"811.474609\" xlink:href=\"#ArialMT-116\"/>\n     <use x=\"839.257812\" xlink:href=\"#ArialMT-101\"/>\n     <use x=\"894.873047\" xlink:href=\"#ArialMT-114\"/>\n     <use x=\"928.173828\" xlink:href=\"#ArialMT-110\"/>\n     <use x=\"983.789062\" xlink:href=\"#ArialMT-97\"/>\n     <use x=\"1039.404297\" xlink:href=\"#ArialMT-116\"/>\n     <use x=\"1067.1875\" xlink:href=\"#ArialMT-105\"/>\n     <use x=\"1089.404297\" xlink:href=\"#ArialMT-111\"/>\n     <use x=\"1145.019531\" xlink:href=\"#ArialMT-110\"/>\n     <use x=\"1200.634766\" xlink:href=\"#ArialMT-97\"/>\n     <use x=\"1256.25\" xlink:href=\"#ArialMT-108\"/>\n     <use x=\"1278.466797\" xlink:href=\"#ArialMT-32\"/>\n     <use x=\"1306.25\" xlink:href=\"#ArialMT-77\"/>\n     <use x=\"1389.550781\" xlink:href=\"#ArialMT-111\"/>\n     <use x=\"1445.166016\" xlink:href=\"#ArialMT-118\"/>\n     <use x=\"1495.166016\" xlink:href=\"#ArialMT-105\"/>\n     <use x=\"1517.382812\" xlink:href=\"#ArialMT-101\"/>\n     <use x=\"1572.998047\" xlink:href=\"#ArialMT-115\"/>\n    </g>\n   </g>\n   <g id=\"text_15\">\n    <!-- 6.38% -->\n    <defs>\n     <path d=\"M 4.203125 18.890625 \nL 12.984375 20.0625 \nQ 14.5 12.59375 18.140625 9.296875 \nQ 21.78125 6 27 6 \nQ 33.203125 6 37.46875 10.296875 \nQ 41.75 14.59375 41.75 20.953125 \nQ 41.75 27 37.796875 30.921875 \nQ 33.84375 34.859375 27.734375 34.859375 \nQ 25.25 34.859375 21.53125 33.890625 \nL 22.515625 41.609375 \nQ 23.390625 41.5 23.921875 41.5 \nQ 29.546875 41.5 34.03125 44.421875 \nQ 38.53125 47.359375 38.53125 53.46875 \nQ 38.53125 58.296875 35.25 61.46875 \nQ 31.984375 64.65625 26.8125 64.65625 \nQ 21.6875 64.65625 18.265625 61.421875 \nQ 14.84375 58.203125 13.875 51.765625 \nL 5.078125 53.328125 \nQ 6.6875 62.15625 12.390625 67.015625 \nQ 18.109375 71.875 26.609375 71.875 \nQ 32.46875 71.875 37.390625 69.359375 \nQ 42.328125 66.84375 44.9375 62.5 \nQ 47.5625 58.15625 47.5625 53.265625 \nQ 47.5625 48.640625 45.0625 44.828125 \nQ 42.578125 41.015625 37.703125 38.765625 \nQ 44.046875 37.3125 47.5625 32.6875 \nQ 51.078125 28.078125 51.078125 21.140625 \nQ 51.078125 11.765625 44.234375 5.25 \nQ 37.40625 -1.265625 26.953125 -1.265625 \nQ 17.53125 -1.265625 11.296875 4.34375 \nQ 5.078125 9.96875 4.203125 18.890625 \nz\n\" id=\"ArialMT-51\"/>\n     <path d=\"M 17.671875 38.8125 \nQ 12.203125 40.828125 9.5625 44.53125 \nQ 6.9375 48.25 6.9375 53.421875 \nQ 6.9375 61.234375 12.546875 66.546875 \nQ 18.171875 71.875 27.484375 71.875 \nQ 36.859375 71.875 42.578125 66.421875 \nQ 48.296875 60.984375 48.296875 53.171875 \nQ 48.296875 48.1875 45.671875 44.5 \nQ 43.0625 40.828125 37.75 38.8125 \nQ 44.34375 36.671875 47.78125 31.875 \nQ 51.21875 27.09375 51.21875 20.453125 \nQ 51.21875 11.28125 44.71875 5.03125 \nQ 38.234375 -1.21875 27.640625 -1.21875 \nQ 17.046875 -1.21875 10.546875 5.046875 \nQ 4.046875 11.328125 4.046875 20.703125 \nQ 4.046875 27.6875 7.59375 32.390625 \nQ 11.140625 37.109375 17.671875 38.8125 \nz\nM 15.921875 53.71875 \nQ 15.921875 48.640625 19.1875 45.40625 \nQ 22.46875 42.1875 27.6875 42.1875 \nQ 32.765625 42.1875 36.015625 45.375 \nQ 39.265625 48.578125 39.265625 53.21875 \nQ 39.265625 58.0625 35.90625 61.359375 \nQ 32.5625 64.65625 27.59375 64.65625 \nQ 22.5625 64.65625 19.234375 61.421875 \nQ 15.921875 58.203125 15.921875 53.71875 \nz\nM 13.09375 20.65625 \nQ 13.09375 16.890625 14.875 13.375 \nQ 16.65625 9.859375 20.171875 7.921875 \nQ 23.6875 6 27.734375 6 \nQ 34.03125 6 38.125 10.046875 \nQ 42.234375 14.109375 42.234375 20.359375 \nQ 42.234375 26.703125 38.015625 30.859375 \nQ 33.796875 35.015625 27.4375 35.015625 \nQ 21.234375 35.015625 17.15625 30.90625 \nQ 13.09375 26.8125 13.09375 20.65625 \nz\n\" id=\"ArialMT-56\"/>\n    </defs>\n    <g style=\"fill:#262626;\" transform=\"translate(280.963685 309.897103)scale(0.1 -0.1)\">\n     <use xlink:href=\"#ArialMT-54\"/>\n     <use x=\"55.615234\" xlink:href=\"#ArialMT-46\"/>\n     <use x=\"83.398438\" xlink:href=\"#ArialMT-51\"/>\n     <use x=\"139.013672\" xlink:href=\"#ArialMT-56\"/>\n     <use x=\"194.628906\" xlink:href=\"#ArialMT-37\"/>\n    </g>\n   </g>\n   <g id=\"text_16\">\n    <!-- Children &amp; Family Movies, Comedies -->\n    <defs>\n     <path d=\"M 6.59375 0 \nL 6.59375 71.578125 \nL 15.375 71.578125 \nL 15.375 45.90625 \nQ 21.53125 53.03125 30.90625 53.03125 \nQ 36.671875 53.03125 40.921875 50.75 \nQ 45.171875 48.484375 47 44.484375 \nQ 48.828125 40.484375 48.828125 32.859375 \nL 48.828125 0 \nL 40.046875 0 \nL 40.046875 32.859375 \nQ 40.046875 39.453125 37.1875 42.453125 \nQ 34.328125 45.453125 29.109375 45.453125 \nQ 25.203125 45.453125 21.75 43.421875 \nQ 18.3125 41.40625 16.84375 37.9375 \nQ 15.375 34.46875 15.375 28.375 \nL 15.375 0 \nz\n\" id=\"ArialMT-104\"/>\n     <path d=\"M 47.515625 8.453125 \nQ 43.171875 3.609375 38.03125 1.1875 \nQ 32.90625 -1.21875 26.953125 -1.21875 \nQ 15.96875 -1.21875 9.515625 6.203125 \nQ 4.296875 12.25 4.296875 19.734375 \nQ 4.296875 26.375 8.5625 31.71875 \nQ 12.84375 37.0625 21.34375 41.109375 \nQ 16.5 46.6875 14.890625 50.140625 \nQ 13.28125 53.609375 13.28125 56.84375 \nQ 13.28125 63.28125 18.328125 68.03125 \nQ 23.390625 72.796875 31.0625 72.796875 \nQ 38.375 72.796875 43.03125 68.296875 \nQ 47.703125 63.8125 47.703125 57.515625 \nQ 47.703125 47.3125 34.1875 40.09375 \nL 47.015625 23.734375 \nQ 49.21875 28.03125 50.4375 33.6875 \nL 59.578125 31.734375 \nQ 57.234375 22.359375 53.21875 16.3125 \nQ 58.15625 9.765625 64.40625 5.328125 \nL 58.5 -1.65625 \nQ 53.171875 1.765625 47.515625 8.453125 \nz\nM 29.640625 45.75 \nQ 35.359375 49.125 37.03125 51.65625 \nQ 38.71875 54.203125 38.71875 57.28125 \nQ 38.71875 60.9375 36.390625 63.25 \nQ 34.078125 65.578125 30.609375 65.578125 \nQ 27.046875 65.578125 24.671875 63.28125 \nQ 22.3125 60.984375 22.3125 57.671875 \nQ 22.3125 56 23.171875 54.171875 \nQ 24.03125 52.34375 25.734375 50.296875 \nz\nM 42 15.375 \nL 25.875 35.359375 \nQ 18.75 31.109375 16.25 27.46875 \nQ 13.765625 23.828125 13.765625 20.265625 \nQ 13.765625 15.921875 17.234375 11.234375 \nQ 20.703125 6.546875 27.046875 6.546875 \nQ 31 6.546875 35.21875 9 \nQ 39.453125 11.46875 42 15.375 \nz\n\" id=\"ArialMT-38\"/>\n     <path d=\"M 8.203125 0 \nL 8.203125 71.578125 \nL 56.5 71.578125 \nL 56.5 63.140625 \nL 17.671875 63.140625 \nL 17.671875 40.96875 \nL 51.265625 40.96875 \nL 51.265625 32.515625 \nL 17.671875 32.515625 \nL 17.671875 0 \nz\n\" id=\"ArialMT-70\"/>\n    </defs>\n    <g style=\"fill:#262626;\" transform=\"translate(113.351332 409.84889)scale(0.1 -0.1)\">\n     <use xlink:href=\"#ArialMT-67\"/>\n     <use x=\"72.216797\" xlink:href=\"#ArialMT-104\"/>\n     <use x=\"127.832031\" xlink:href=\"#ArialMT-105\"/>\n     <use x=\"150.048828\" xlink:href=\"#ArialMT-108\"/>\n     <use x=\"172.265625\" xlink:href=\"#ArialMT-100\"/>\n     <use x=\"227.880859\" xlink:href=\"#ArialMT-114\"/>\n     <use x=\"261.181641\" xlink:href=\"#ArialMT-101\"/>\n     <use x=\"316.796875\" xlink:href=\"#ArialMT-110\"/>\n     <use x=\"372.412109\" xlink:href=\"#ArialMT-32\"/>\n     <use x=\"400.195312\" xlink:href=\"#ArialMT-38\"/>\n     <use x=\"466.894531\" xlink:href=\"#ArialMT-32\"/>\n     <use x=\"494.677734\" xlink:href=\"#ArialMT-70\"/>\n     <use x=\"555.761719\" xlink:href=\"#ArialMT-97\"/>\n     <use x=\"611.376953\" xlink:href=\"#ArialMT-109\"/>\n     <use x=\"694.677734\" xlink:href=\"#ArialMT-105\"/>\n     <use x=\"716.894531\" xlink:href=\"#ArialMT-108\"/>\n     <use x=\"739.111328\" xlink:href=\"#ArialMT-121\"/>\n     <use x=\"789.111328\" xlink:href=\"#ArialMT-32\"/>\n     <use x=\"816.894531\" xlink:href=\"#ArialMT-77\"/>\n     <use x=\"900.195312\" xlink:href=\"#ArialMT-111\"/>\n     <use x=\"955.810547\" xlink:href=\"#ArialMT-118\"/>\n     <use x=\"1005.810547\" xlink:href=\"#ArialMT-105\"/>\n     <use x=\"1028.027344\" xlink:href=\"#ArialMT-101\"/>\n     <use x=\"1083.642578\" xlink:href=\"#ArialMT-115\"/>\n     <use x=\"1133.642578\" xlink:href=\"#ArialMT-44\"/>\n     <use x=\"1161.425781\" xlink:href=\"#ArialMT-32\"/>\n     <use x=\"1189.208984\" xlink:href=\"#ArialMT-67\"/>\n     <use x=\"1261.425781\" xlink:href=\"#ArialMT-111\"/>\n     <use x=\"1317.041016\" xlink:href=\"#ArialMT-109\"/>\n     <use x=\"1400.341797\" xlink:href=\"#ArialMT-101\"/>\n     <use x=\"1455.957031\" xlink:href=\"#ArialMT-100\"/>\n     <use x=\"1511.572266\" xlink:href=\"#ArialMT-105\"/>\n     <use x=\"1533.789062\" xlink:href=\"#ArialMT-101\"/>\n     <use x=\"1589.404297\" xlink:href=\"#ArialMT-115\"/>\n    </g>\n   </g>\n   <g id=\"text_17\">\n    <!-- 5.49% -->\n    <g style=\"fill:#262626;\" transform=\"translate(309.349968 336.181994)scale(0.1 -0.1)\">\n     <use xlink:href=\"#ArialMT-53\"/>\n     <use x=\"55.615234\" xlink:href=\"#ArialMT-46\"/>\n     <use x=\"83.398438\" xlink:href=\"#ArialMT-52\"/>\n     <use x=\"139.013672\" xlink:href=\"#ArialMT-57\"/>\n     <use x=\"194.628906\" xlink:href=\"#ArialMT-37\"/>\n    </g>\n   </g>\n   <g id=\"text_18\">\n    <!-- Comedies, International Movies -->\n    <g style=\"fill:#262626;\" transform=\"translate(195.7385 434.186849)scale(0.1 -0.1)\">\n     <use xlink:href=\"#ArialMT-67\"/>\n     <use x=\"72.216797\" xlink:href=\"#ArialMT-111\"/>\n     <use x=\"127.832031\" xlink:href=\"#ArialMT-109\"/>\n     <use x=\"211.132812\" xlink:href=\"#ArialMT-101\"/>\n     <use x=\"266.748047\" xlink:href=\"#ArialMT-100\"/>\n     <use x=\"322.363281\" xlink:href=\"#ArialMT-105\"/>\n     <use x=\"344.580078\" xlink:href=\"#ArialMT-101\"/>\n     <use x=\"400.195312\" xlink:href=\"#ArialMT-115\"/>\n     <use x=\"450.195312\" xlink:href=\"#ArialMT-44\"/>\n     <use x=\"477.978516\" xlink:href=\"#ArialMT-32\"/>\n     <use x=\"505.761719\" xlink:href=\"#ArialMT-73\"/>\n     <use x=\"533.544922\" xlink:href=\"#ArialMT-110\"/>\n     <use x=\"589.160156\" xlink:href=\"#ArialMT-116\"/>\n     <use x=\"616.943359\" xlink:href=\"#ArialMT-101\"/>\n     <use x=\"672.558594\" xlink:href=\"#ArialMT-114\"/>\n     <use x=\"705.859375\" xlink:href=\"#ArialMT-110\"/>\n     <use x=\"761.474609\" xlink:href=\"#ArialMT-97\"/>\n     <use x=\"817.089844\" xlink:href=\"#ArialMT-116\"/>\n     <use x=\"844.873047\" xlink:href=\"#ArialMT-105\"/>\n     <use x=\"867.089844\" xlink:href=\"#ArialMT-111\"/>\n     <use x=\"922.705078\" xlink:href=\"#ArialMT-110\"/>\n     <use x=\"978.320312\" xlink:href=\"#ArialMT-97\"/>\n     <use x=\"1033.935547\" xlink:href=\"#ArialMT-108\"/>\n     <use x=\"1056.152344\" xlink:href=\"#ArialMT-32\"/>\n     <use x=\"1083.935547\" xlink:href=\"#ArialMT-77\"/>\n     <use x=\"1167.236328\" xlink:href=\"#ArialMT-111\"/>\n     <use x=\"1222.851562\" xlink:href=\"#ArialMT-118\"/>\n     <use x=\"1272.851562\" xlink:href=\"#ArialMT-105\"/>\n     <use x=\"1295.068359\" xlink:href=\"#ArialMT-101\"/>\n     <use x=\"1350.683594\" xlink:href=\"#ArialMT-115\"/>\n    </g>\n   </g>\n   <g id=\"text_19\">\n    <!-- 5.10% -->\n    <g style=\"fill:#262626;\" transform=\"translate(341.266548 349.458523)scale(0.1 -0.1)\">\n     <use xlink:href=\"#ArialMT-53\"/>\n     <use x=\"55.615234\" xlink:href=\"#ArialMT-46\"/>\n     <use x=\"83.398438\" xlink:href=\"#ArialMT-49\"/>\n     <use x=\"139.013672\" xlink:href=\"#ArialMT-48\"/>\n     <use x=\"194.628906\" xlink:href=\"#ArialMT-37\"/>\n    </g>\n   </g>\n   <g id=\"text_20\">\n    <!-- Children &amp; Family Movies -->\n    <g style=\"fill:#262626;\" transform=\"translate(396.762542 438.309474)scale(0.1 -0.1)\">\n     <use xlink:href=\"#ArialMT-67\"/>\n     <use x=\"72.216797\" xlink:href=\"#ArialMT-104\"/>\n     <use x=\"127.832031\" xlink:href=\"#ArialMT-105\"/>\n     <use x=\"150.048828\" xlink:href=\"#ArialMT-108\"/>\n     <use x=\"172.265625\" xlink:href=\"#ArialMT-100\"/>\n     <use x=\"227.880859\" xlink:href=\"#ArialMT-114\"/>\n     <use x=\"261.181641\" xlink:href=\"#ArialMT-101\"/>\n     <use x=\"316.796875\" xlink:href=\"#ArialMT-110\"/>\n     <use x=\"372.412109\" xlink:href=\"#ArialMT-32\"/>\n     <use x=\"400.195312\" xlink:href=\"#ArialMT-38\"/>\n     <use x=\"466.894531\" xlink:href=\"#ArialMT-32\"/>\n     <use x=\"494.677734\" xlink:href=\"#ArialMT-70\"/>\n     <use x=\"555.761719\" xlink:href=\"#ArialMT-97\"/>\n     <use x=\"611.376953\" xlink:href=\"#ArialMT-109\"/>\n     <use x=\"694.677734\" xlink:href=\"#ArialMT-105\"/>\n     <use x=\"716.894531\" xlink:href=\"#ArialMT-108\"/>\n     <use x=\"739.111328\" xlink:href=\"#ArialMT-121\"/>\n     <use x=\"789.111328\" xlink:href=\"#ArialMT-32\"/>\n     <use x=\"816.894531\" xlink:href=\"#ArialMT-77\"/>\n     <use x=\"900.195312\" xlink:href=\"#ArialMT-111\"/>\n     <use x=\"955.810547\" xlink:href=\"#ArialMT-118\"/>\n     <use x=\"1005.810547\" xlink:href=\"#ArialMT-105\"/>\n     <use x=\"1028.027344\" xlink:href=\"#ArialMT-101\"/>\n     <use x=\"1083.642578\" xlink:href=\"#ArialMT-115\"/>\n    </g>\n   </g>\n   <g id=\"text_21\">\n    <!-- 5.10% -->\n    <g style=\"fill:#262626;\" transform=\"translate(374.520003 351.705949)scale(0.1 -0.1)\">\n     <use xlink:href=\"#ArialMT-53\"/>\n     <use x=\"55.615234\" xlink:href=\"#ArialMT-46\"/>\n     <use x=\"83.398438\" xlink:href=\"#ArialMT-49\"/>\n     <use x=\"139.013672\" xlink:href=\"#ArialMT-48\"/>\n     <use x=\"194.628906\" xlink:href=\"#ArialMT-37\"/>\n    </g>\n   </g>\n   <g id=\"text_22\">\n    <!-- Dramas, International Movies, Romantic Movies -->\n    <defs>\n     <path d=\"M 7.859375 0 \nL 7.859375 71.578125 \nL 39.59375 71.578125 \nQ 49.171875 71.578125 54.140625 69.640625 \nQ 59.125 67.71875 62.109375 62.828125 \nQ 65.09375 57.953125 65.09375 52.046875 \nQ 65.09375 44.4375 60.15625 39.203125 \nQ 55.21875 33.984375 44.921875 32.5625 \nQ 48.6875 30.765625 50.640625 29 \nQ 54.78125 25.203125 58.5 19.484375 \nL 70.953125 0 \nL 59.03125 0 \nL 49.5625 14.890625 \nQ 45.40625 21.34375 42.71875 24.75 \nQ 40.046875 28.171875 37.921875 29.53125 \nQ 35.796875 30.90625 33.59375 31.453125 \nQ 31.984375 31.78125 28.328125 31.78125 \nL 17.328125 31.78125 \nL 17.328125 0 \nz\nM 17.328125 39.984375 \nL 37.703125 39.984375 \nQ 44.1875 39.984375 47.84375 41.328125 \nQ 51.515625 42.671875 53.421875 45.625 \nQ 55.328125 48.578125 55.328125 52.046875 \nQ 55.328125 57.125 51.640625 60.390625 \nQ 47.953125 63.671875 39.984375 63.671875 \nL 17.328125 63.671875 \nz\n\" id=\"ArialMT-82\"/>\n    </defs>\n    <g style=\"fill:#262626;\" transform=\"translate(453.098266 424.209516)scale(0.1 -0.1)\">\n     <use xlink:href=\"#ArialMT-68\"/>\n     <use x=\"72.216797\" xlink:href=\"#ArialMT-114\"/>\n     <use x=\"105.517578\" xlink:href=\"#ArialMT-97\"/>\n     <use x=\"161.132812\" xlink:href=\"#ArialMT-109\"/>\n     <use x=\"244.433594\" xlink:href=\"#ArialMT-97\"/>\n     <use x=\"300.048828\" xlink:href=\"#ArialMT-115\"/>\n     <use x=\"350.048828\" xlink:href=\"#ArialMT-44\"/>\n     <use x=\"377.832031\" xlink:href=\"#ArialMT-32\"/>\n     <use x=\"405.615234\" xlink:href=\"#ArialMT-73\"/>\n     <use x=\"433.398438\" xlink:href=\"#ArialMT-110\"/>\n     <use x=\"489.013672\" xlink:href=\"#ArialMT-116\"/>\n     <use x=\"516.796875\" xlink:href=\"#ArialMT-101\"/>\n     <use x=\"572.412109\" xlink:href=\"#ArialMT-114\"/>\n     <use x=\"605.712891\" xlink:href=\"#ArialMT-110\"/>\n     <use x=\"661.328125\" xlink:href=\"#ArialMT-97\"/>\n     <use x=\"716.943359\" xlink:href=\"#ArialMT-116\"/>\n     <use x=\"744.726562\" xlink:href=\"#ArialMT-105\"/>\n     <use x=\"766.943359\" xlink:href=\"#ArialMT-111\"/>\n     <use x=\"822.558594\" xlink:href=\"#ArialMT-110\"/>\n     <use x=\"878.173828\" xlink:href=\"#ArialMT-97\"/>\n     <use x=\"933.789062\" xlink:href=\"#ArialMT-108\"/>\n     <use x=\"956.005859\" xlink:href=\"#ArialMT-32\"/>\n     <use x=\"983.789062\" xlink:href=\"#ArialMT-77\"/>\n     <use x=\"1067.089844\" xlink:href=\"#ArialMT-111\"/>\n     <use x=\"1122.705078\" xlink:href=\"#ArialMT-118\"/>\n     <use x=\"1172.705078\" xlink:href=\"#ArialMT-105\"/>\n     <use x=\"1194.921875\" xlink:href=\"#ArialMT-101\"/>\n     <use x=\"1250.537109\" xlink:href=\"#ArialMT-115\"/>\n     <use x=\"1300.537109\" xlink:href=\"#ArialMT-44\"/>\n     <use x=\"1328.320312\" xlink:href=\"#ArialMT-32\"/>\n     <use x=\"1356.103516\" xlink:href=\"#ArialMT-82\"/>\n     <use x=\"1428.320312\" xlink:href=\"#ArialMT-111\"/>\n     <use x=\"1483.935547\" xlink:href=\"#ArialMT-109\"/>\n     <use x=\"1567.236328\" xlink:href=\"#ArialMT-97\"/>\n     <use x=\"1622.851562\" xlink:href=\"#ArialMT-110\"/>\n     <use x=\"1678.466797\" xlink:href=\"#ArialMT-116\"/>\n     <use x=\"1706.25\" xlink:href=\"#ArialMT-105\"/>\n     <use x=\"1728.466797\" xlink:href=\"#ArialMT-99\"/>\n     <use x=\"1778.466797\" xlink:href=\"#ArialMT-32\"/>\n     <use x=\"1806.25\" xlink:href=\"#ArialMT-77\"/>\n     <use x=\"1889.550781\" xlink:href=\"#ArialMT-111\"/>\n     <use x=\"1945.166016\" xlink:href=\"#ArialMT-118\"/>\n     <use x=\"1995.166016\" xlink:href=\"#ArialMT-105\"/>\n     <use x=\"2017.382812\" xlink:href=\"#ArialMT-101\"/>\n     <use x=\"2072.998047\" xlink:href=\"#ArialMT-115\"/>\n    </g>\n   </g>\n   <g id=\"text_23\">\n    <!-- 4.59% -->\n    <g style=\"fill:#262626;\" transform=\"translate(405.24858 344.016341)scale(0.1 -0.1)\">\n     <use xlink:href=\"#ArialMT-52\"/>\n     <use x=\"55.615234\" xlink:href=\"#ArialMT-46\"/>\n     <use x=\"83.398438\" xlink:href=\"#ArialMT-53\"/>\n     <use x=\"139.013672\" xlink:href=\"#ArialMT-57\"/>\n     <use x=\"194.628906\" xlink:href=\"#ArialMT-37\"/>\n    </g>\n   </g>\n   <g id=\"text_24\">\n    <!-- Action &amp; Adventure, Dramas, International Movies -->\n    <defs>\n     <path d=\"M -0.140625 0 \nL 27.34375 71.578125 \nL 37.546875 71.578125 \nL 66.84375 0 \nL 56.0625 0 \nL 47.703125 21.6875 \nL 17.78125 21.6875 \nL 9.90625 0 \nz\nM 20.515625 29.390625 \nL 44.78125 29.390625 \nL 37.3125 49.21875 \nQ 33.890625 58.25 32.234375 64.0625 \nQ 30.859375 57.171875 28.375 50.390625 \nz\n\" id=\"ArialMT-65\"/>\n    </defs>\n    <g style=\"fill:#262626;\" transform=\"translate(499.260475 396.631273)scale(0.1 -0.1)\">\n     <use xlink:href=\"#ArialMT-65\"/>\n     <use x=\"66.699219\" xlink:href=\"#ArialMT-99\"/>\n     <use x=\"116.699219\" xlink:href=\"#ArialMT-116\"/>\n     <use x=\"144.482422\" xlink:href=\"#ArialMT-105\"/>\n     <use x=\"166.699219\" xlink:href=\"#ArialMT-111\"/>\n     <use x=\"222.314453\" xlink:href=\"#ArialMT-110\"/>\n     <use x=\"277.929688\" xlink:href=\"#ArialMT-32\"/>\n     <use x=\"305.712891\" xlink:href=\"#ArialMT-38\"/>\n     <use x=\"372.412109\" xlink:href=\"#ArialMT-32\"/>\n     <use x=\"394.695312\" xlink:href=\"#ArialMT-65\"/>\n     <use x=\"461.394531\" xlink:href=\"#ArialMT-100\"/>\n     <use x=\"517.009766\" xlink:href=\"#ArialMT-118\"/>\n     <use x=\"567.009766\" xlink:href=\"#ArialMT-101\"/>\n     <use x=\"622.625\" xlink:href=\"#ArialMT-110\"/>\n     <use x=\"678.240234\" xlink:href=\"#ArialMT-116\"/>\n     <use x=\"706.023438\" xlink:href=\"#ArialMT-117\"/>\n     <use x=\"761.638672\" xlink:href=\"#ArialMT-114\"/>\n     <use x=\"794.939453\" xlink:href=\"#ArialMT-101\"/>\n     <use x=\"850.554688\" xlink:href=\"#ArialMT-44\"/>\n     <use x=\"878.337891\" xlink:href=\"#ArialMT-32\"/>\n     <use x=\"906.121094\" xlink:href=\"#ArialMT-68\"/>\n     <use x=\"978.337891\" xlink:href=\"#ArialMT-114\"/>\n     <use x=\"1011.638672\" xlink:href=\"#ArialMT-97\"/>\n     <use x=\"1067.253906\" xlink:href=\"#ArialMT-109\"/>\n     <use x=\"1150.554688\" xlink:href=\"#ArialMT-97\"/>\n     <use x=\"1206.169922\" xlink:href=\"#ArialMT-115\"/>\n     <use x=\"1256.169922\" xlink:href=\"#ArialMT-44\"/>\n     <use x=\"1283.953125\" xlink:href=\"#ArialMT-32\"/>\n     <use x=\"1311.736328\" xlink:href=\"#ArialMT-73\"/>\n     <use x=\"1339.519531\" xlink:href=\"#ArialMT-110\"/>\n     <use x=\"1395.134766\" xlink:href=\"#ArialMT-116\"/>\n     <use x=\"1422.917969\" xlink:href=\"#ArialMT-101\"/>\n     <use x=\"1478.533203\" xlink:href=\"#ArialMT-114\"/>\n     <use x=\"1511.833984\" xlink:href=\"#ArialMT-110\"/>\n     <use x=\"1567.449219\" xlink:href=\"#ArialMT-97\"/>\n     <use x=\"1623.064453\" xlink:href=\"#ArialMT-116\"/>\n     <use x=\"1650.847656\" xlink:href=\"#ArialMT-105\"/>\n     <use x=\"1673.064453\" xlink:href=\"#ArialMT-111\"/>\n     <use x=\"1728.679688\" xlink:href=\"#ArialMT-110\"/>\n     <use x=\"1784.294922\" xlink:href=\"#ArialMT-97\"/>\n     <use x=\"1839.910156\" xlink:href=\"#ArialMT-108\"/>\n     <use x=\"1862.126953\" xlink:href=\"#ArialMT-32\"/>\n     <use x=\"1889.910156\" xlink:href=\"#ArialMT-77\"/>\n     <use x=\"1973.210938\" xlink:href=\"#ArialMT-111\"/>\n     <use x=\"2028.826172\" xlink:href=\"#ArialMT-118\"/>\n     <use x=\"2078.826172\" xlink:href=\"#ArialMT-105\"/>\n     <use x=\"2101.042969\" xlink:href=\"#ArialMT-101\"/>\n     <use x=\"2156.658203\" xlink:href=\"#ArialMT-115\"/>\n    </g>\n   </g>\n   <g id=\"text_25\">\n    <!-- 4.38% -->\n    <g style=\"fill:#262626;\" transform=\"translate(430.427967 328.973663)scale(0.1 -0.1)\">\n     <use xlink:href=\"#ArialMT-52\"/>\n     <use x=\"55.615234\" xlink:href=\"#ArialMT-46\"/>\n     <use x=\"83.398438\" xlink:href=\"#ArialMT-51\"/>\n     <use x=\"139.013672\" xlink:href=\"#ArialMT-56\"/>\n     <use x=\"194.628906\" xlink:href=\"#ArialMT-37\"/>\n    </g>\n   </g>\n   <g id=\"text_26\">\n    <!-- Comedies, International Movies, Romantic Movies -->\n    <g style=\"fill:#262626;\" transform=\"translate(534.300049 359.592617)scale(0.1 -0.1)\">\n     <use xlink:href=\"#ArialMT-67\"/>\n     <use x=\"72.216797\" xlink:href=\"#ArialMT-111\"/>\n     <use x=\"127.832031\" xlink:href=\"#ArialMT-109\"/>\n     <use x=\"211.132812\" xlink:href=\"#ArialMT-101\"/>\n     <use x=\"266.748047\" xlink:href=\"#ArialMT-100\"/>\n     <use x=\"322.363281\" xlink:href=\"#ArialMT-105\"/>\n     <use x=\"344.580078\" xlink:href=\"#ArialMT-101\"/>\n     <use x=\"400.195312\" xlink:href=\"#ArialMT-115\"/>\n     <use x=\"450.195312\" xlink:href=\"#ArialMT-44\"/>\n     <use x=\"477.978516\" xlink:href=\"#ArialMT-32\"/>\n     <use x=\"505.761719\" xlink:href=\"#ArialMT-73\"/>\n     <use x=\"533.544922\" xlink:href=\"#ArialMT-110\"/>\n     <use x=\"589.160156\" xlink:href=\"#ArialMT-116\"/>\n     <use x=\"616.943359\" xlink:href=\"#ArialMT-101\"/>\n     <use x=\"672.558594\" xlink:href=\"#ArialMT-114\"/>\n     <use x=\"705.859375\" xlink:href=\"#ArialMT-110\"/>\n     <use x=\"761.474609\" xlink:href=\"#ArialMT-97\"/>\n     <use x=\"817.089844\" xlink:href=\"#ArialMT-116\"/>\n     <use x=\"844.873047\" xlink:href=\"#ArialMT-105\"/>\n     <use x=\"867.089844\" xlink:href=\"#ArialMT-111\"/>\n     <use x=\"922.705078\" xlink:href=\"#ArialMT-110\"/>\n     <use x=\"978.320312\" xlink:href=\"#ArialMT-97\"/>\n     <use x=\"1033.935547\" xlink:href=\"#ArialMT-108\"/>\n     <use x=\"1056.152344\" xlink:href=\"#ArialMT-32\"/>\n     <use x=\"1083.935547\" xlink:href=\"#ArialMT-77\"/>\n     <use x=\"1167.236328\" xlink:href=\"#ArialMT-111\"/>\n     <use x=\"1222.851562\" xlink:href=\"#ArialMT-118\"/>\n     <use x=\"1272.851562\" xlink:href=\"#ArialMT-105\"/>\n     <use x=\"1295.068359\" xlink:href=\"#ArialMT-101\"/>\n     <use x=\"1350.683594\" xlink:href=\"#ArialMT-115\"/>\n     <use x=\"1400.683594\" xlink:href=\"#ArialMT-44\"/>\n     <use x=\"1428.466797\" xlink:href=\"#ArialMT-32\"/>\n     <use x=\"1456.25\" xlink:href=\"#ArialMT-82\"/>\n     <use x=\"1528.466797\" xlink:href=\"#ArialMT-111\"/>\n     <use x=\"1584.082031\" xlink:href=\"#ArialMT-109\"/>\n     <use x=\"1667.382812\" xlink:href=\"#ArialMT-97\"/>\n     <use x=\"1722.998047\" xlink:href=\"#ArialMT-110\"/>\n     <use x=\"1778.613281\" xlink:href=\"#ArialMT-116\"/>\n     <use x=\"1806.396484\" xlink:href=\"#ArialMT-105\"/>\n     <use x=\"1828.613281\" xlink:href=\"#ArialMT-99\"/>\n     <use x=\"1878.613281\" xlink:href=\"#ArialMT-32\"/>\n     <use x=\"1906.396484\" xlink:href=\"#ArialMT-77\"/>\n     <use x=\"1989.697266\" xlink:href=\"#ArialMT-111\"/>\n     <use x=\"2045.3125\" xlink:href=\"#ArialMT-118\"/>\n     <use x=\"2095.3125\" xlink:href=\"#ArialMT-105\"/>\n     <use x=\"2117.529297\" xlink:href=\"#ArialMT-101\"/>\n     <use x=\"2173.144531\" xlink:href=\"#ArialMT-115\"/>\n    </g>\n   </g>\n   <g id=\"text_27\">\n    <!-- 4.13% -->\n    <g style=\"fill:#262626;\" transform=\"translate(449.540462 308.77076)scale(0.1 -0.1)\">\n     <use xlink:href=\"#ArialMT-52\"/>\n     <use x=\"55.615234\" xlink:href=\"#ArialMT-46\"/>\n     <use x=\"83.398438\" xlink:href=\"#ArialMT-49\"/>\n     <use x=\"139.013672\" xlink:href=\"#ArialMT-51\"/>\n     <use x=\"194.628906\" xlink:href=\"#ArialMT-37\"/>\n    </g>\n   </g>\n   <g id=\"text_28\">\n    <!-- Dramas, International Movies, Thrillers -->\n    <g style=\"fill:#262626;\" transform=\"translate(557.405283 317.00528)scale(0.1 -0.1)\">\n     <use xlink:href=\"#ArialMT-68\"/>\n     <use x=\"72.216797\" xlink:href=\"#ArialMT-114\"/>\n     <use x=\"105.517578\" xlink:href=\"#ArialMT-97\"/>\n     <use x=\"161.132812\" xlink:href=\"#ArialMT-109\"/>\n     <use x=\"244.433594\" xlink:href=\"#ArialMT-97\"/>\n     <use x=\"300.048828\" xlink:href=\"#ArialMT-115\"/>\n     <use x=\"350.048828\" xlink:href=\"#ArialMT-44\"/>\n     <use x=\"377.832031\" xlink:href=\"#ArialMT-32\"/>\n     <use x=\"405.615234\" xlink:href=\"#ArialMT-73\"/>\n     <use x=\"433.398438\" xlink:href=\"#ArialMT-110\"/>\n     <use x=\"489.013672\" xlink:href=\"#ArialMT-116\"/>\n     <use x=\"516.796875\" xlink:href=\"#ArialMT-101\"/>\n     <use x=\"572.412109\" xlink:href=\"#ArialMT-114\"/>\n     <use x=\"605.712891\" xlink:href=\"#ArialMT-110\"/>\n     <use x=\"661.328125\" xlink:href=\"#ArialMT-97\"/>\n     <use x=\"716.943359\" xlink:href=\"#ArialMT-116\"/>\n     <use x=\"744.726562\" xlink:href=\"#ArialMT-105\"/>\n     <use x=\"766.943359\" xlink:href=\"#ArialMT-111\"/>\n     <use x=\"822.558594\" xlink:href=\"#ArialMT-110\"/>\n     <use x=\"878.173828\" xlink:href=\"#ArialMT-97\"/>\n     <use x=\"933.789062\" xlink:href=\"#ArialMT-108\"/>\n     <use x=\"956.005859\" xlink:href=\"#ArialMT-32\"/>\n     <use x=\"983.789062\" xlink:href=\"#ArialMT-77\"/>\n     <use x=\"1067.089844\" xlink:href=\"#ArialMT-111\"/>\n     <use x=\"1122.705078\" xlink:href=\"#ArialMT-118\"/>\n     <use x=\"1172.705078\" xlink:href=\"#ArialMT-105\"/>\n     <use x=\"1194.921875\" xlink:href=\"#ArialMT-101\"/>\n     <use x=\"1250.537109\" xlink:href=\"#ArialMT-115\"/>\n     <use x=\"1300.537109\" xlink:href=\"#ArialMT-44\"/>\n     <use x=\"1328.320312\" xlink:href=\"#ArialMT-32\"/>\n     <use x=\"1354.353516\" xlink:href=\"#ArialMT-84\"/>\n     <use x=\"1415.4375\" xlink:href=\"#ArialMT-104\"/>\n     <use x=\"1471.052734\" xlink:href=\"#ArialMT-114\"/>\n     <use x=\"1504.353516\" xlink:href=\"#ArialMT-105\"/>\n     <use x=\"1526.570312\" xlink:href=\"#ArialMT-108\"/>\n     <use x=\"1548.787109\" xlink:href=\"#ArialMT-108\"/>\n     <use x=\"1571.003906\" xlink:href=\"#ArialMT-101\"/>\n     <use x=\"1626.619141\" xlink:href=\"#ArialMT-114\"/>\n     <use x=\"1659.919922\" xlink:href=\"#ArialMT-115\"/>\n    </g>\n   </g>\n   <g id=\"text_29\">\n    <!-- 3.96% -->\n    <g style=\"fill:#262626;\" transform=\"translate(462.143317 285.541303)scale(0.1 -0.1)\">\n     <use xlink:href=\"#ArialMT-51\"/>\n     <use x=\"55.615234\" xlink:href=\"#ArialMT-46\"/>\n     <use x=\"83.398438\" xlink:href=\"#ArialMT-57\"/>\n     <use x=\"139.013672\" xlink:href=\"#ArialMT-54\"/>\n     <use x=\"194.628906\" xlink:href=\"#ArialMT-37\"/>\n    </g>\n   </g>\n   <g id=\"text_30\">\n    <!-- International TV Shows, TV Dramas -->\n    <defs>\n     <path d=\"M 16.15625 0 \nL 0.296875 51.859375 \nL 9.375 51.859375 \nL 17.625 21.921875 \nL 20.703125 10.796875 \nQ 20.90625 11.625 23.390625 21.484375 \nL 31.640625 51.859375 \nL 40.671875 51.859375 \nL 48.4375 21.78125 \nL 51.03125 11.859375 \nL 54 21.875 \nL 62.890625 51.859375 \nL 71.4375 51.859375 \nL 55.21875 0 \nL 46.09375 0 \nL 37.84375 31.0625 \nL 35.84375 39.890625 \nL 25.34375 0 \nz\n\" id=\"ArialMT-119\"/>\n    </defs>\n    <g style=\"fill:#262626;\" transform=\"translate(568.920435 271.249106)scale(0.1 -0.1)\">\n     <use xlink:href=\"#ArialMT-73\"/>\n     <use x=\"27.783203\" xlink:href=\"#ArialMT-110\"/>\n     <use x=\"83.398438\" xlink:href=\"#ArialMT-116\"/>\n     <use x=\"111.181641\" xlink:href=\"#ArialMT-101\"/>\n     <use x=\"166.796875\" xlink:href=\"#ArialMT-114\"/>\n     <use x=\"200.097656\" xlink:href=\"#ArialMT-110\"/>\n     <use x=\"255.712891\" xlink:href=\"#ArialMT-97\"/>\n     <use x=\"311.328125\" xlink:href=\"#ArialMT-116\"/>\n     <use x=\"339.111328\" xlink:href=\"#ArialMT-105\"/>\n     <use x=\"361.328125\" xlink:href=\"#ArialMT-111\"/>\n     <use x=\"416.943359\" xlink:href=\"#ArialMT-110\"/>\n     <use x=\"472.558594\" xlink:href=\"#ArialMT-97\"/>\n     <use x=\"528.173828\" xlink:href=\"#ArialMT-108\"/>\n     <use x=\"550.390625\" xlink:href=\"#ArialMT-32\"/>\n     <use x=\"576.423828\" xlink:href=\"#ArialMT-84\"/>\n     <use x=\"637.507812\" xlink:href=\"#ArialMT-86\"/>\n     <use x=\"704.207031\" xlink:href=\"#ArialMT-32\"/>\n     <use x=\"731.990234\" xlink:href=\"#ArialMT-83\"/>\n     <use x=\"798.689453\" xlink:href=\"#ArialMT-104\"/>\n     <use x=\"854.304688\" xlink:href=\"#ArialMT-111\"/>\n     <use x=\"909.919922\" xlink:href=\"#ArialMT-119\"/>\n     <use x=\"982.136719\" xlink:href=\"#ArialMT-115\"/>\n     <use x=\"1032.136719\" xlink:href=\"#ArialMT-44\"/>\n     <use x=\"1059.919922\" xlink:href=\"#ArialMT-32\"/>\n     <use x=\"1085.953125\" xlink:href=\"#ArialMT-84\"/>\n     <use x=\"1147.037109\" xlink:href=\"#ArialMT-86\"/>\n     <use x=\"1213.736328\" xlink:href=\"#ArialMT-32\"/>\n     <use x=\"1241.519531\" xlink:href=\"#ArialMT-68\"/>\n     <use x=\"1313.736328\" xlink:href=\"#ArialMT-114\"/>\n     <use x=\"1347.037109\" xlink:href=\"#ArialMT-97\"/>\n     <use x=\"1402.652344\" xlink:href=\"#ArialMT-109\"/>\n     <use x=\"1485.953125\" xlink:href=\"#ArialMT-97\"/>\n     <use x=\"1541.568359\" xlink:href=\"#ArialMT-115\"/>\n    </g>\n   </g>\n   <g id=\"text_31\">\n    <!-- 3.91% -->\n    <g style=\"fill:#262626;\" transform=\"translate(468.424308 260.58339)scale(0.1 -0.1)\">\n     <use xlink:href=\"#ArialMT-51\"/>\n     <use x=\"55.615234\" xlink:href=\"#ArialMT-46\"/>\n     <use x=\"83.398438\" xlink:href=\"#ArialMT-57\"/>\n     <use x=\"139.013672\" xlink:href=\"#ArialMT-49\"/>\n     <use x=\"194.628906\" xlink:href=\"#ArialMT-37\"/>\n    </g>\n   </g>\n   <g id=\"text_32\">\n    <!-- Entertainment Catagory -->\n    <defs>\n     <path d=\"M 7.90625 0 \nL 7.90625 71.578125 \nL 59.671875 71.578125 \nL 59.671875 63.140625 \nL 17.390625 63.140625 \nL 17.390625 41.21875 \nL 56.984375 41.21875 \nL 56.984375 32.8125 \nL 17.390625 32.8125 \nL 17.390625 8.453125 \nL 61.328125 8.453125 \nL 61.328125 0 \nz\n\" id=\"ArialMT-69\"/>\n     <path d=\"M 4.984375 -4.296875 \nL 13.53125 -5.5625 \nQ 14.0625 -9.515625 16.5 -11.328125 \nQ 19.78125 -13.765625 25.4375 -13.765625 \nQ 31.546875 -13.765625 34.859375 -11.328125 \nQ 38.1875 -8.890625 39.359375 -4.5 \nQ 40.046875 -1.8125 39.984375 6.78125 \nQ 34.234375 0 25.640625 0 \nQ 14.9375 0 9.078125 7.71875 \nQ 3.21875 15.4375 3.21875 26.21875 \nQ 3.21875 33.640625 5.90625 39.90625 \nQ 8.59375 46.1875 13.6875 49.609375 \nQ 18.796875 53.03125 25.6875 53.03125 \nQ 34.859375 53.03125 40.828125 45.609375 \nL 40.828125 51.859375 \nL 48.921875 51.859375 \nL 48.921875 7.03125 \nQ 48.921875 -5.078125 46.453125 -10.125 \nQ 44 -15.1875 38.640625 -18.109375 \nQ 33.296875 -21.046875 25.484375 -21.046875 \nQ 16.21875 -21.046875 10.5 -16.875 \nQ 4.78125 -12.703125 4.984375 -4.296875 \nz\nM 12.25 26.859375 \nQ 12.25 16.65625 16.296875 11.96875 \nQ 20.359375 7.28125 26.46875 7.28125 \nQ 32.515625 7.28125 36.609375 11.9375 \nQ 40.71875 16.609375 40.71875 26.5625 \nQ 40.71875 36.078125 36.5 40.90625 \nQ 32.28125 45.75 26.3125 45.75 \nQ 20.453125 45.75 16.34375 40.984375 \nQ 12.25 36.234375 12.25 26.859375 \nz\n\" id=\"ArialMT-103\"/>\n    </defs>\n    <g style=\"fill:#262626;\" transform=\"translate(273.414269 21.759375)scale(0.2 -0.2)\">\n     <use xlink:href=\"#ArialMT-69\"/>\n     <use x=\"66.699219\" xlink:href=\"#ArialMT-110\"/>\n     <use x=\"122.314453\" xlink:href=\"#ArialMT-116\"/>\n     <use x=\"150.097656\" xlink:href=\"#ArialMT-101\"/>\n     <use x=\"205.712891\" xlink:href=\"#ArialMT-114\"/>\n     <use x=\"239.013672\" xlink:href=\"#ArialMT-116\"/>\n     <use x=\"266.796875\" xlink:href=\"#ArialMT-97\"/>\n     <use x=\"322.412109\" xlink:href=\"#ArialMT-105\"/>\n     <use x=\"344.628906\" xlink:href=\"#ArialMT-110\"/>\n     <use x=\"400.244141\" xlink:href=\"#ArialMT-109\"/>\n     <use x=\"483.544922\" xlink:href=\"#ArialMT-101\"/>\n     <use x=\"539.160156\" xlink:href=\"#ArialMT-110\"/>\n     <use x=\"594.775391\" xlink:href=\"#ArialMT-116\"/>\n     <use x=\"622.558594\" xlink:href=\"#ArialMT-32\"/>\n     <use x=\"650.341797\" xlink:href=\"#ArialMT-67\"/>\n     <use x=\"722.558594\" xlink:href=\"#ArialMT-97\"/>\n     <use x=\"778.173828\" xlink:href=\"#ArialMT-116\"/>\n     <use x=\"805.957031\" xlink:href=\"#ArialMT-97\"/>\n     <use x=\"861.572266\" xlink:href=\"#ArialMT-103\"/>\n     <use x=\"917.1875\" xlink:href=\"#ArialMT-111\"/>\n     <use x=\"972.802734\" xlink:href=\"#ArialMT-114\"/>\n     <use x=\"1006.103516\" xlink:href=\"#ArialMT-121\"/>\n    </g>\n   </g>\n  </g>\n </g>\n</svg>\n",
      "image/png": "[encoded data removed]"
     },
     "metadata": {}
    }
   ],
   "source": [
    "plt.style.use('seaborn')\n",
    "\n",
    "\n",
    "df['listed_in'].value_counts().head(15).plot.pie(figsize = (15, 8), autopct='%1.2f%%')\n",
    "\n",
    "plt.title('Entertainment Catagory',fontsize = 20)\n",
    "\n",
    "plt.xticks(rotation = 90)\n",
    "plt.show()"
   ]
  }
 ],
 "metadata": {
  "language_info": {
   "codemirror_mode": {
    "name": "ipython",
    "version": 3
   },
   "file_extension": ".py",
   "mimetype": "text/x-python",
   "name": "python",
   "nbconvert_exporter": "python",
   "pygments_lexer": "ipython3",
   "version": 3
  },
  "orig_nbformat": 2,
  "kernelspec": {
   "name": "python_defaultSpec_1594749867335",
   "display_name": "Python 3.8.3 64-bit"
  }
 },
 "nbformat": 4,
 "nbformat_minor": 2
}